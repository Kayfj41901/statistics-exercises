{
 "cells": [
  {
   "cell_type": "code",
   "execution_count": 16,
   "id": "ce2331c9",
   "metadata": {},
   "outputs": [],
   "source": [
    "import pandas as pd\n",
    "import matplotlib.pyplot as plt\n",
    "import scipy.stats as stats\n",
    "import seaborn as sns\n",
    "import env\n",
    "from env import get_db_url\n",
    "from pydataset import data\n"
   ]
  },
  {
   "cell_type": "markdown",
   "id": "09260ae3",
   "metadata": {},
   "source": [
    "# Statistics "
   ]
  },
  {
   "cell_type": "markdown",
   "id": "da7a8506",
   "metadata": {},
   "source": [
    "### Applied Statistics"
   ]
  },
  {
   "cell_type": "markdown",
   "id": "135faf2c",
   "metadata": {},
   "source": [
    "### Inferential = used to generalize about a population based on a sample of data. E.G. 5% of customers churned last month ---> 5% of customers will churn every month "
   ]
  },
  {
   "cell_type": "markdown",
   "id": "810a2cc1",
   "metadata": {},
   "source": [
    "### Hypothesis Testing "
   ]
  },
  {
   "cell_type": "markdown",
   "id": "fcdf2b4a",
   "metadata": {},
   "source": [
    "1. Make inferences from the sample and generalize them to the population "
   ]
  },
  {
   "cell_type": "markdown",
   "id": "ea255dc0",
   "metadata": {},
   "source": [
    "2. Compares, tests and predicts future outcomes. "
   ]
  },
  {
   "cell_type": "markdown",
   "id": "b1019adc",
   "metadata": {},
   "source": [
    "3. Final result is the probability scores "
   ]
  },
  {
   "cell_type": "markdown",
   "id": "7f453187",
   "metadata": {},
   "source": [
    "4. Draws conclusions about the population that is beyond the data available"
   ]
  },
  {
   "cell_type": "markdown",
   "id": "e807c801",
   "metadata": {},
   "source": [
    "### Steps to Hypothesis Tests "
   ]
  },
  {
   "cell_type": "markdown",
   "id": "ca483687",
   "metadata": {},
   "source": [
    "1. Choose the right type of test for your data/question "
   ]
  },
  {
   "cell_type": "markdown",
   "id": "6eae21c1",
   "metadata": {},
   "source": [
    "2. Set a desired confidence level and form hypothesis"
   ]
  },
  {
   "cell_type": "markdown",
   "id": "6a1c9067",
   "metadata": {},
   "source": [
    "3. Calculate the appropriate test statistics and p-value"
   ]
  },
  {
   "cell_type": "markdown",
   "id": "1a4ad251",
   "metadata": {},
   "source": [
    "4. Conclude based on the above statistics"
   ]
  },
  {
   "cell_type": "markdown",
   "id": "4ebc69e5",
   "metadata": {},
   "source": [
    "Exercises"
   ]
  },
  {
   "cell_type": "markdown",
   "id": "fb24e86f",
   "metadata": {},
   "source": [
    "### Has the network latency gone up since we switched internet service providers? "
   ]
  },
  {
   "cell_type": "markdown",
   "id": "2536f237",
   "metadata": {},
   "source": [
    "Is our new network latency (new_provider_ping_test) higher than our previous network latency (old_provider_ping_test)?"
   ]
  },
  {
   "cell_type": "markdown",
   "id": "7b397aa1",
   "metadata": {},
   "source": [
    "H0: The network latency with our new provider is higher than the network latency we had with our previous provider"
   ]
  },
  {
   "cell_type": "markdown",
   "id": "ab250f34",
   "metadata": {},
   "source": [
    "HA: The network latency with our new provider is not higher than the network latency we experienced with our old provider"
   ]
  },
  {
   "cell_type": "markdown",
   "id": "3482e154",
   "metadata": {},
   "source": [
    "Type 1 Error: Reject a true null hypothesis. The actual truth being the network latency with the new provider is higher than the network latency with the previous provider, but falsely rejecting it. "
   ]
  },
  {
   "cell_type": "markdown",
   "id": "24bef465",
   "metadata": {},
   "source": [
    "Type 2 Error: Accept a false null hypothesis. The actual truth being the network latency with our new proivder is not higher than the network latency with our old provider but not rejecting it. "
   ]
  },
  {
   "cell_type": "markdown",
   "id": "1dd26997",
   "metadata": {},
   "source": [
    "### Is the Website redesign any good?"
   ]
  },
  {
   "cell_type": "markdown",
   "id": "d10b43e7",
   "metadata": {},
   "source": [
    "Was there an increase in user interaction (num_of_clicks) on the website after the redesign?"
   ]
  },
  {
   "cell_type": "markdown",
   "id": "3a17d955",
   "metadata": {},
   "source": [
    "H0: The user interaction (num_of_clicks) after the website redesign is higher than (num_of_clicks) before the redesign"
   ]
  },
  {
   "cell_type": "markdown",
   "id": "2664f4af",
   "metadata": {},
   "source": [
    "HA: The user interaction (num_of_clicks) after the redesign is not higher than the (num_of_clicks) before the redesign"
   ]
  },
  {
   "cell_type": "markdown",
   "id": "29f3f610",
   "metadata": {},
   "source": [
    "Type 1 Error: Reject a true null hypothesis. The reality being the user interaction, based on number of clicks, after the website redesign is higher than before the redesign but falsely rejecting it"
   ]
  },
  {
   "cell_type": "markdown",
   "id": "990f57d6",
   "metadata": {},
   "source": [
    "Type II Error: Accept a false null hypothesis. The reality being the user interaction after the redesign is not higher than the interaction before the redesign but not rejecting the null hypothesis "
   ]
  },
  {
   "cell_type": "markdown",
   "id": "4cc8b82b",
   "metadata": {},
   "source": [
    "### Is our television ad driving more sales? "
   ]
  },
  {
   "cell_type": "markdown",
   "id": "ed68e20c",
   "metadata": {},
   "source": [
    "Do we see a spike in sales after our tv add? "
   ]
  },
  {
   "cell_type": "markdown",
   "id": "24fa4faa",
   "metadata": {},
   "source": [
    "H0: The sales data increased significantly after the tv ad. "
   ]
  },
  {
   "cell_type": "markdown",
   "id": "4116031b",
   "metadata": {},
   "source": [
    "HA: The sales data did not make any significant change after the tv ad. "
   ]
  },
  {
   "cell_type": "markdown",
   "id": "37ce0874",
   "metadata": {},
   "source": [
    "Type I Error: Reject a true null hypothesis. The reality being the sales data did increase significantly after the tv ad but inaccurately rejecting it"
   ]
  },
  {
   "cell_type": "markdown",
   "id": "55157230",
   "metadata": {},
   "source": [
    "Type II Error: Accept a false null hypothesis: The reality being the sales data did not make any significant changes after the tv ad, but inaccurately not rejecting the null hypothesis. "
   ]
  },
  {
   "cell_type": "markdown",
   "id": "87f001f2",
   "metadata": {},
   "source": [
    "### Ace Realty wants to determine whether the average time it takes to sell homes is different for its two offices. A sample of 40 sales from office #1 revealed a mean of 90 days and a standard deviation of 15 days. A sample of 50 sales from office #2 revealed a mean of 100 days and a standard deviation of 20 days. Use a .05 level of significance.\n",
    "\n"
   ]
  },
  {
   "cell_type": "code",
   "execution_count": 4,
   "id": "6d4e91a9",
   "metadata": {},
   "outputs": [],
   "source": [
    "mean1 =90\n",
    "std1 =15\n",
    "count1= 40\n",
    "\n",
    "mean2=100\n",
    "std2=20\n",
    "count2=50\n"
   ]
  },
  {
   "cell_type": "code",
   "execution_count": 7,
   "id": "df3c40b3",
   "metadata": {},
   "outputs": [],
   "source": [
    "t, p = stats.ttest_ind_from_stats(mean1, std1, count1, mean2, std2, count2, equal_var=True)"
   ]
  },
  {
   "cell_type": "code",
   "execution_count": 8,
   "id": "49c8df68",
   "metadata": {},
   "outputs": [
    {
     "data": {
      "text/plain": [
       "-2.6252287036468456"
      ]
     },
     "execution_count": 8,
     "metadata": {},
     "output_type": "execute_result"
    }
   ],
   "source": [
    "t"
   ]
  },
  {
   "cell_type": "code",
   "execution_count": 9,
   "id": "f64832db",
   "metadata": {},
   "outputs": [
    {
     "data": {
      "text/plain": [
       "0.01020985244923939"
      ]
     },
     "execution_count": 9,
     "metadata": {},
     "output_type": "execute_result"
    }
   ],
   "source": [
    "p"
   ]
  },
  {
   "cell_type": "markdown",
   "id": "42d75f10",
   "metadata": {},
   "source": [
    "# Load the mpg dataset and use it to answer the following questions:"
   ]
  },
  {
   "cell_type": "code",
   "execution_count": 27,
   "id": "1b7dcec4",
   "metadata": {},
   "outputs": [],
   "source": [
    "alpha = 0.05"
   ]
  },
  {
   "cell_type": "code",
   "execution_count": 17,
   "id": "4addb275",
   "metadata": {},
   "outputs": [],
   "source": [
    "mpg = data('mpg')"
   ]
  },
  {
   "cell_type": "code",
   "execution_count": 33,
   "id": "11083088",
   "metadata": {},
   "outputs": [],
   "source": [
    "car_99 = mpg[mpg[\"year\"] == 1999]"
   ]
  },
  {
   "cell_type": "code",
   "execution_count": 38,
   "id": "35767ad4",
   "metadata": {},
   "outputs": [
    {
     "data": {
      "text/html": [
       "<div>\n",
       "<style scoped>\n",
       "    .dataframe tbody tr th:only-of-type {\n",
       "        vertical-align: middle;\n",
       "    }\n",
       "\n",
       "    .dataframe tbody tr th {\n",
       "        vertical-align: top;\n",
       "    }\n",
       "\n",
       "    .dataframe thead th {\n",
       "        text-align: right;\n",
       "    }\n",
       "</style>\n",
       "<table border=\"1\" class=\"dataframe\">\n",
       "  <thead>\n",
       "    <tr style=\"text-align: right;\">\n",
       "      <th></th>\n",
       "      <th>manufacturer</th>\n",
       "      <th>model</th>\n",
       "      <th>displ</th>\n",
       "      <th>year</th>\n",
       "      <th>cyl</th>\n",
       "      <th>trans</th>\n",
       "      <th>drv</th>\n",
       "      <th>cty</th>\n",
       "      <th>hwy</th>\n",
       "      <th>fl</th>\n",
       "      <th>class</th>\n",
       "    </tr>\n",
       "  </thead>\n",
       "  <tbody>\n",
       "    <tr>\n",
       "      <th>1</th>\n",
       "      <td>audi</td>\n",
       "      <td>a4</td>\n",
       "      <td>1.8</td>\n",
       "      <td>1999</td>\n",
       "      <td>4</td>\n",
       "      <td>auto(l5)</td>\n",
       "      <td>f</td>\n",
       "      <td>18</td>\n",
       "      <td>29</td>\n",
       "      <td>p</td>\n",
       "      <td>compact</td>\n",
       "    </tr>\n",
       "    <tr>\n",
       "      <th>2</th>\n",
       "      <td>audi</td>\n",
       "      <td>a4</td>\n",
       "      <td>1.8</td>\n",
       "      <td>1999</td>\n",
       "      <td>4</td>\n",
       "      <td>manual(m5)</td>\n",
       "      <td>f</td>\n",
       "      <td>21</td>\n",
       "      <td>29</td>\n",
       "      <td>p</td>\n",
       "      <td>compact</td>\n",
       "    </tr>\n",
       "    <tr>\n",
       "      <th>5</th>\n",
       "      <td>audi</td>\n",
       "      <td>a4</td>\n",
       "      <td>2.8</td>\n",
       "      <td>1999</td>\n",
       "      <td>6</td>\n",
       "      <td>auto(l5)</td>\n",
       "      <td>f</td>\n",
       "      <td>16</td>\n",
       "      <td>26</td>\n",
       "      <td>p</td>\n",
       "      <td>compact</td>\n",
       "    </tr>\n",
       "    <tr>\n",
       "      <th>6</th>\n",
       "      <td>audi</td>\n",
       "      <td>a4</td>\n",
       "      <td>2.8</td>\n",
       "      <td>1999</td>\n",
       "      <td>6</td>\n",
       "      <td>manual(m5)</td>\n",
       "      <td>f</td>\n",
       "      <td>18</td>\n",
       "      <td>26</td>\n",
       "      <td>p</td>\n",
       "      <td>compact</td>\n",
       "    </tr>\n",
       "    <tr>\n",
       "      <th>8</th>\n",
       "      <td>audi</td>\n",
       "      <td>a4 quattro</td>\n",
       "      <td>1.8</td>\n",
       "      <td>1999</td>\n",
       "      <td>4</td>\n",
       "      <td>manual(m5)</td>\n",
       "      <td>4</td>\n",
       "      <td>18</td>\n",
       "      <td>26</td>\n",
       "      <td>p</td>\n",
       "      <td>compact</td>\n",
       "    </tr>\n",
       "  </tbody>\n",
       "</table>\n",
       "</div>"
      ],
      "text/plain": [
       "  manufacturer       model  displ  year  cyl       trans drv  cty  hwy fl  \\\n",
       "1         audi          a4    1.8  1999    4    auto(l5)   f   18   29  p   \n",
       "2         audi          a4    1.8  1999    4  manual(m5)   f   21   29  p   \n",
       "5         audi          a4    2.8  1999    6    auto(l5)   f   16   26  p   \n",
       "6         audi          a4    2.8  1999    6  manual(m5)   f   18   26  p   \n",
       "8         audi  a4 quattro    1.8  1999    4  manual(m5)   4   18   26  p   \n",
       "\n",
       "     class  \n",
       "1  compact  \n",
       "2  compact  \n",
       "5  compact  \n",
       "6  compact  \n",
       "8  compact  "
      ]
     },
     "execution_count": 38,
     "metadata": {},
     "output_type": "execute_result"
    }
   ],
   "source": [
    "car_99.head()"
   ]
  },
  {
   "cell_type": "code",
   "execution_count": 35,
   "id": "024ca4b4",
   "metadata": {},
   "outputs": [],
   "source": [
    "\n",
    "car_08 = mpg[mpg[\"year\"] == 2008]"
   ]
  },
  {
   "cell_type": "code",
   "execution_count": 37,
   "id": "14ff9034",
   "metadata": {},
   "outputs": [
    {
     "data": {
      "text/html": [
       "<div>\n",
       "<style scoped>\n",
       "    .dataframe tbody tr th:only-of-type {\n",
       "        vertical-align: middle;\n",
       "    }\n",
       "\n",
       "    .dataframe tbody tr th {\n",
       "        vertical-align: top;\n",
       "    }\n",
       "\n",
       "    .dataframe thead th {\n",
       "        text-align: right;\n",
       "    }\n",
       "</style>\n",
       "<table border=\"1\" class=\"dataframe\">\n",
       "  <thead>\n",
       "    <tr style=\"text-align: right;\">\n",
       "      <th></th>\n",
       "      <th>manufacturer</th>\n",
       "      <th>model</th>\n",
       "      <th>displ</th>\n",
       "      <th>year</th>\n",
       "      <th>cyl</th>\n",
       "      <th>trans</th>\n",
       "      <th>drv</th>\n",
       "      <th>cty</th>\n",
       "      <th>hwy</th>\n",
       "      <th>fl</th>\n",
       "      <th>class</th>\n",
       "    </tr>\n",
       "  </thead>\n",
       "  <tbody>\n",
       "    <tr>\n",
       "      <th>3</th>\n",
       "      <td>audi</td>\n",
       "      <td>a4</td>\n",
       "      <td>2.0</td>\n",
       "      <td>2008</td>\n",
       "      <td>4</td>\n",
       "      <td>manual(m6)</td>\n",
       "      <td>f</td>\n",
       "      <td>20</td>\n",
       "      <td>31</td>\n",
       "      <td>p</td>\n",
       "      <td>compact</td>\n",
       "    </tr>\n",
       "    <tr>\n",
       "      <th>4</th>\n",
       "      <td>audi</td>\n",
       "      <td>a4</td>\n",
       "      <td>2.0</td>\n",
       "      <td>2008</td>\n",
       "      <td>4</td>\n",
       "      <td>auto(av)</td>\n",
       "      <td>f</td>\n",
       "      <td>21</td>\n",
       "      <td>30</td>\n",
       "      <td>p</td>\n",
       "      <td>compact</td>\n",
       "    </tr>\n",
       "    <tr>\n",
       "      <th>7</th>\n",
       "      <td>audi</td>\n",
       "      <td>a4</td>\n",
       "      <td>3.1</td>\n",
       "      <td>2008</td>\n",
       "      <td>6</td>\n",
       "      <td>auto(av)</td>\n",
       "      <td>f</td>\n",
       "      <td>18</td>\n",
       "      <td>27</td>\n",
       "      <td>p</td>\n",
       "      <td>compact</td>\n",
       "    </tr>\n",
       "    <tr>\n",
       "      <th>10</th>\n",
       "      <td>audi</td>\n",
       "      <td>a4 quattro</td>\n",
       "      <td>2.0</td>\n",
       "      <td>2008</td>\n",
       "      <td>4</td>\n",
       "      <td>manual(m6)</td>\n",
       "      <td>4</td>\n",
       "      <td>20</td>\n",
       "      <td>28</td>\n",
       "      <td>p</td>\n",
       "      <td>compact</td>\n",
       "    </tr>\n",
       "    <tr>\n",
       "      <th>11</th>\n",
       "      <td>audi</td>\n",
       "      <td>a4 quattro</td>\n",
       "      <td>2.0</td>\n",
       "      <td>2008</td>\n",
       "      <td>4</td>\n",
       "      <td>auto(s6)</td>\n",
       "      <td>4</td>\n",
       "      <td>19</td>\n",
       "      <td>27</td>\n",
       "      <td>p</td>\n",
       "      <td>compact</td>\n",
       "    </tr>\n",
       "  </tbody>\n",
       "</table>\n",
       "</div>"
      ],
      "text/plain": [
       "   manufacturer       model  displ  year  cyl       trans drv  cty  hwy fl  \\\n",
       "3          audi          a4    2.0  2008    4  manual(m6)   f   20   31  p   \n",
       "4          audi          a4    2.0  2008    4    auto(av)   f   21   30  p   \n",
       "7          audi          a4    3.1  2008    6    auto(av)   f   18   27  p   \n",
       "10         audi  a4 quattro    2.0  2008    4  manual(m6)   4   20   28  p   \n",
       "11         audi  a4 quattro    2.0  2008    4    auto(s6)   4   19   27  p   \n",
       "\n",
       "      class  \n",
       "3   compact  \n",
       "4   compact  \n",
       "7   compact  \n",
       "10  compact  \n",
       "11  compact  "
      ]
     },
     "execution_count": 37,
     "metadata": {},
     "output_type": "execute_result"
    }
   ],
   "source": [
    "car_08.head()"
   ]
  },
  {
   "cell_type": "code",
   "execution_count": 42,
   "id": "9cdcf4ba",
   "metadata": {},
   "outputs": [],
   "source": [
    "mpg['avg_mpg'] = (mpg.hwy + mpg.hwy)/2"
   ]
  },
  {
   "cell_type": "code",
   "execution_count": 43,
   "id": "82726a41",
   "metadata": {},
   "outputs": [
    {
     "data": {
      "text/html": [
       "<div>\n",
       "<style scoped>\n",
       "    .dataframe tbody tr th:only-of-type {\n",
       "        vertical-align: middle;\n",
       "    }\n",
       "\n",
       "    .dataframe tbody tr th {\n",
       "        vertical-align: top;\n",
       "    }\n",
       "\n",
       "    .dataframe thead th {\n",
       "        text-align: right;\n",
       "    }\n",
       "</style>\n",
       "<table border=\"1\" class=\"dataframe\">\n",
       "  <thead>\n",
       "    <tr style=\"text-align: right;\">\n",
       "      <th></th>\n",
       "      <th>manufacturer</th>\n",
       "      <th>model</th>\n",
       "      <th>displ</th>\n",
       "      <th>year</th>\n",
       "      <th>cyl</th>\n",
       "      <th>trans</th>\n",
       "      <th>drv</th>\n",
       "      <th>cty</th>\n",
       "      <th>hwy</th>\n",
       "      <th>fl</th>\n",
       "      <th>class</th>\n",
       "      <th>avg_mpg</th>\n",
       "    </tr>\n",
       "  </thead>\n",
       "  <tbody>\n",
       "    <tr>\n",
       "      <th>1</th>\n",
       "      <td>audi</td>\n",
       "      <td>a4</td>\n",
       "      <td>1.8</td>\n",
       "      <td>1999</td>\n",
       "      <td>4</td>\n",
       "      <td>auto(l5)</td>\n",
       "      <td>f</td>\n",
       "      <td>18</td>\n",
       "      <td>29</td>\n",
       "      <td>p</td>\n",
       "      <td>compact</td>\n",
       "      <td>29.0</td>\n",
       "    </tr>\n",
       "    <tr>\n",
       "      <th>2</th>\n",
       "      <td>audi</td>\n",
       "      <td>a4</td>\n",
       "      <td>1.8</td>\n",
       "      <td>1999</td>\n",
       "      <td>4</td>\n",
       "      <td>manual(m5)</td>\n",
       "      <td>f</td>\n",
       "      <td>21</td>\n",
       "      <td>29</td>\n",
       "      <td>p</td>\n",
       "      <td>compact</td>\n",
       "      <td>29.0</td>\n",
       "    </tr>\n",
       "    <tr>\n",
       "      <th>3</th>\n",
       "      <td>audi</td>\n",
       "      <td>a4</td>\n",
       "      <td>2.0</td>\n",
       "      <td>2008</td>\n",
       "      <td>4</td>\n",
       "      <td>manual(m6)</td>\n",
       "      <td>f</td>\n",
       "      <td>20</td>\n",
       "      <td>31</td>\n",
       "      <td>p</td>\n",
       "      <td>compact</td>\n",
       "      <td>31.0</td>\n",
       "    </tr>\n",
       "    <tr>\n",
       "      <th>4</th>\n",
       "      <td>audi</td>\n",
       "      <td>a4</td>\n",
       "      <td>2.0</td>\n",
       "      <td>2008</td>\n",
       "      <td>4</td>\n",
       "      <td>auto(av)</td>\n",
       "      <td>f</td>\n",
       "      <td>21</td>\n",
       "      <td>30</td>\n",
       "      <td>p</td>\n",
       "      <td>compact</td>\n",
       "      <td>30.0</td>\n",
       "    </tr>\n",
       "    <tr>\n",
       "      <th>5</th>\n",
       "      <td>audi</td>\n",
       "      <td>a4</td>\n",
       "      <td>2.8</td>\n",
       "      <td>1999</td>\n",
       "      <td>6</td>\n",
       "      <td>auto(l5)</td>\n",
       "      <td>f</td>\n",
       "      <td>16</td>\n",
       "      <td>26</td>\n",
       "      <td>p</td>\n",
       "      <td>compact</td>\n",
       "      <td>26.0</td>\n",
       "    </tr>\n",
       "  </tbody>\n",
       "</table>\n",
       "</div>"
      ],
      "text/plain": [
       "  manufacturer model  displ  year  cyl       trans drv  cty  hwy fl    class  \\\n",
       "1         audi    a4    1.8  1999    4    auto(l5)   f   18   29  p  compact   \n",
       "2         audi    a4    1.8  1999    4  manual(m5)   f   21   29  p  compact   \n",
       "3         audi    a4    2.0  2008    4  manual(m6)   f   20   31  p  compact   \n",
       "4         audi    a4    2.0  2008    4    auto(av)   f   21   30  p  compact   \n",
       "5         audi    a4    2.8  1999    6    auto(l5)   f   16   26  p  compact   \n",
       "\n",
       "   avg_mpg  \n",
       "1     29.0  \n",
       "2     29.0  \n",
       "3     31.0  \n",
       "4     30.0  \n",
       "5     26.0  "
      ]
     },
     "execution_count": 43,
     "metadata": {},
     "output_type": "execute_result"
    }
   ],
   "source": [
    "mpg.head()"
   ]
  },
  {
   "cell_type": "code",
   "execution_count": 45,
   "id": "c53d79ee",
   "metadata": {},
   "outputs": [],
   "source": [
    "avg_99 = mpg.avg_mpg[mpg.year == 1999]"
   ]
  },
  {
   "cell_type": "code",
   "execution_count": 46,
   "id": "d259fc5a",
   "metadata": {},
   "outputs": [],
   "source": [
    "avg_08 = mpg.avg_mpg[mpg.year == 2008]"
   ]
  },
  {
   "cell_type": "markdown",
   "id": "0dc3f401",
   "metadata": {},
   "source": [
    "### Is there a difference in fuel-efficiency in cars from 2008 vs 1999?"
   ]
  },
  {
   "cell_type": "code",
   "execution_count": null,
   "id": "2c0fb7b4",
   "metadata": {},
   "outputs": [],
   "source": [
    "histogram goes here "
   ]
  },
  {
   "cell_type": "markdown",
   "id": "d01bcbcd",
   "metadata": {},
   "source": [
    "H0: Cars produced in 2008 have a better fuel-efficiency than cars produced in 1999"
   ]
  },
  {
   "cell_type": "markdown",
   "id": "69400dba",
   "metadata": {},
   "source": [
    "HA: Cars produced in 2008 do not have a better fuel-efficiency than cars produced in 1999"
   ]
  },
  {
   "cell_type": "code",
   "execution_count": 49,
   "id": "c0e98cc3",
   "metadata": {},
   "outputs": [],
   "source": [
    "p, t = stats.ttest_ind(avg_99, avg_08, equal_var=False)"
   ]
  },
  {
   "cell_type": "code",
   "execution_count": 50,
   "id": "e4047b72",
   "metadata": {},
   "outputs": [
    {
     "data": {
      "text/plain": [
       "-0.03286431672888292"
      ]
     },
     "execution_count": 50,
     "metadata": {},
     "output_type": "execute_result"
    }
   ],
   "source": [
    "p"
   ]
  },
  {
   "cell_type": "code",
   "execution_count": 51,
   "id": "c16773d6",
   "metadata": {},
   "outputs": [
    {
     "data": {
      "text/plain": [
       "0.973811089269393"
      ]
     },
     "execution_count": 51,
     "metadata": {},
     "output_type": "execute_result"
    }
   ],
   "source": [
    "t"
   ]
  },
  {
   "cell_type": "code",
   "execution_count": 52,
   "id": "aa91c914",
   "metadata": {},
   "outputs": [
    {
     "name": "stdout",
     "output_type": "stream",
     "text": [
      "We reject the null hypothesis.\n"
     ]
    }
   ],
   "source": [
    "if p < alpha: \n",
    "    print(\"We reject the null hypothesis.\")\n",
    "else: \n",
    "    print(\"We fail to reject the null hypothesis.\")"
   ]
  },
  {
   "cell_type": "markdown",
   "id": "251872b4",
   "metadata": {},
   "source": [
    "### Are compact cars more fuel-efficient than the average car?"
   ]
  },
  {
   "cell_type": "code",
   "execution_count": null,
   "id": "a4c06da3",
   "metadata": {},
   "outputs": [],
   "source": [
    "histogram "
   ]
  },
  {
   "cell_type": "markdown",
   "id": "1d67793d",
   "metadata": {},
   "source": [
    "H0: Compact cars are more fuel-efficient"
   ]
  },
  {
   "cell_type": "markdown",
   "id": "3f89df78",
   "metadata": {},
   "source": [
    "HA: Compact cars are not more fuel-efficient"
   ]
  },
  {
   "cell_type": "code",
   "execution_count": null,
   "id": "3f2a210c",
   "metadata": {},
   "outputs": [],
   "source": []
  },
  {
   "cell_type": "code",
   "execution_count": 40,
   "id": "5ab487be",
   "metadata": {},
   "outputs": [
    {
     "name": "stdout",
     "output_type": "stream",
     "text": [
      "We reject the null hypothesis.\n"
     ]
    }
   ],
   "source": [
    "if p < alpha: \n",
    "    print(\"We reject the null hypothesis.\")\n",
    "else: \n",
    "    print(\"We fail to reject the null hypothesis.\")"
   ]
  },
  {
   "cell_type": "markdown",
   "id": "188947b4",
   "metadata": {},
   "source": [
    "### Do manual cars get better gas mileage than automatic cars?"
   ]
  },
  {
   "cell_type": "code",
   "execution_count": null,
   "id": "c934063c",
   "metadata": {},
   "outputs": [],
   "source": [
    "histogram "
   ]
  },
  {
   "cell_type": "markdown",
   "id": "56c22d78",
   "metadata": {},
   "source": [
    "H0: Manual cars get better gas mileage than automatic cars. "
   ]
  },
  {
   "cell_type": "markdown",
   "id": "5107a610",
   "metadata": {},
   "source": [
    "HA: Manual cars do not get better gas mileage than automatic cars. "
   ]
  },
  {
   "cell_type": "code",
   "execution_count": 41,
   "id": "033e374f",
   "metadata": {},
   "outputs": [
    {
     "name": "stdout",
     "output_type": "stream",
     "text": [
      "We reject the null hypothesis.\n"
     ]
    }
   ],
   "source": [
    "if p < alpha: \n",
    "    print(\"We reject the null hypothesis.\")\n",
    "else: \n",
    "    print(\"We fail to reject the null hypothesis.\")"
   ]
  }
 ],
 "metadata": {
  "kernelspec": {
   "display_name": "Python 3 (ipykernel)",
   "language": "python",
   "name": "python3"
  },
  "language_info": {
   "codemirror_mode": {
    "name": "ipython",
    "version": 3
   },
   "file_extension": ".py",
   "mimetype": "text/x-python",
   "name": "python",
   "nbconvert_exporter": "python",
   "pygments_lexer": "ipython3",
   "version": "3.9.7"
  }
 },
 "nbformat": 4,
 "nbformat_minor": 5
}
