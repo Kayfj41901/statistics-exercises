{
 "cells": [
  {
   "cell_type": "code",
   "execution_count": 197,
   "id": "ce2331c9",
   "metadata": {},
   "outputs": [],
   "source": [
    "import pandas as pd\n",
    "import matplotlib.pyplot as plt\n",
    "import scipy.stats as stats\n",
    "import seaborn as sns\n",
    "import env\n",
    "from env import get_db_url\n",
    "from pydataset import data\n",
    "import itertools\n"
   ]
  },
  {
   "cell_type": "markdown",
   "id": "09260ae3",
   "metadata": {},
   "source": [
    "# Statistics "
   ]
  },
  {
   "cell_type": "markdown",
   "id": "da7a8506",
   "metadata": {},
   "source": [
    "### Applied Statistics"
   ]
  },
  {
   "cell_type": "markdown",
   "id": "135faf2c",
   "metadata": {},
   "source": [
    "### Inferential = used to generalize about a population based on a sample of data. E.G. 5% of customers churned last month ---> 5% of customers will churn every month "
   ]
  },
  {
   "cell_type": "markdown",
   "id": "810a2cc1",
   "metadata": {},
   "source": [
    "### Hypothesis Testing "
   ]
  },
  {
   "cell_type": "markdown",
   "id": "fcdf2b4a",
   "metadata": {},
   "source": [
    "1. Make inferences from the sample and generalize them to the population "
   ]
  },
  {
   "cell_type": "markdown",
   "id": "ea255dc0",
   "metadata": {},
   "source": [
    "2. Compares, tests and predicts future outcomes. "
   ]
  },
  {
   "cell_type": "markdown",
   "id": "b1019adc",
   "metadata": {},
   "source": [
    "3. Final result is the probability scores "
   ]
  },
  {
   "cell_type": "markdown",
   "id": "7f453187",
   "metadata": {},
   "source": [
    "4. Draws conclusions about the population that is beyond the data available"
   ]
  },
  {
   "cell_type": "markdown",
   "id": "e807c801",
   "metadata": {},
   "source": [
    "### Steps to Hypothesis Tests "
   ]
  },
  {
   "cell_type": "markdown",
   "id": "ca483687",
   "metadata": {},
   "source": [
    "1. Choose the right type of test for your data/question "
   ]
  },
  {
   "cell_type": "markdown",
   "id": "6eae21c1",
   "metadata": {},
   "source": [
    "2. Set a desired confidence level and form hypothesis"
   ]
  },
  {
   "cell_type": "markdown",
   "id": "6a1c9067",
   "metadata": {},
   "source": [
    "3. Calculate the appropriate test statistics and p-value"
   ]
  },
  {
   "cell_type": "markdown",
   "id": "1a4ad251",
   "metadata": {},
   "source": [
    "4. Conclude based on the above statistics"
   ]
  },
  {
   "cell_type": "markdown",
   "id": "4ebc69e5",
   "metadata": {},
   "source": [
    "Exercises"
   ]
  },
  {
   "cell_type": "markdown",
   "id": "fb24e86f",
   "metadata": {},
   "source": [
    "### Has the network latency gone up since we switched internet service providers? "
   ]
  },
  {
   "cell_type": "markdown",
   "id": "2536f237",
   "metadata": {},
   "source": [
    "Is our new network latency (new_provider_ping_test) higher than our previous network latency (old_provider_ping_test)?"
   ]
  },
  {
   "cell_type": "markdown",
   "id": "7b397aa1",
   "metadata": {},
   "source": [
    "H0: Since changing providers, the network latency has had no significant change. "
   ]
  },
  {
   "cell_type": "markdown",
   "id": "ab250f34",
   "metadata": {},
   "source": [
    "HA: Since changing providers, the network latency has had significant change. "
   ]
  },
  {
   "cell_type": "markdown",
   "id": "3482e154",
   "metadata": {},
   "source": [
    "Type 1 Error: Reject a true null hypothesis. "
   ]
  },
  {
   "cell_type": "markdown",
   "id": "24bef465",
   "metadata": {},
   "source": [
    "Type 2 Error: Accept a false null hypothesis. "
   ]
  },
  {
   "cell_type": "markdown",
   "id": "1dd26997",
   "metadata": {},
   "source": [
    "### Is the Website redesign any good?"
   ]
  },
  {
   "cell_type": "markdown",
   "id": "d10b43e7",
   "metadata": {},
   "source": [
    "Was there an increase in user interaction (num_of_clicks) on the website after the redesign?"
   ]
  },
  {
   "cell_type": "markdown",
   "id": "3a17d955",
   "metadata": {},
   "source": [
    "H0: Since the launch of the new website, the user interaction (num_of_clicks) has had no significant change. "
   ]
  },
  {
   "cell_type": "markdown",
   "id": "2664f4af",
   "metadata": {},
   "source": [
    "HA: Since the launch of the new website, the user interaction (num_of_clicks) has had significant change. "
   ]
  },
  {
   "cell_type": "markdown",
   "id": "29f3f610",
   "metadata": {},
   "source": [
    "Type 1 Error: Reject a true null hypothesis. The reality being the user interaction, based on number of clicks, after the website redesign is higher than before the redesign but falsely rejecting it"
   ]
  },
  {
   "cell_type": "markdown",
   "id": "990f57d6",
   "metadata": {},
   "source": [
    "Type II Error: Accept a false null hypothesis. The reality being the user interaction after the redesign is not higher than the interaction before the redesign but not rejecting the null hypothesis "
   ]
  },
  {
   "cell_type": "markdown",
   "id": "4cc8b82b",
   "metadata": {},
   "source": [
    "### Is our television ad driving more sales? "
   ]
  },
  {
   "cell_type": "markdown",
   "id": "ed68e20c",
   "metadata": {},
   "source": [
    "Do we see a spike in sales after our tv add? "
   ]
  },
  {
   "cell_type": "markdown",
   "id": "24fa4faa",
   "metadata": {},
   "source": [
    "H0: The sales data remained the same after the tv ad. "
   ]
  },
  {
   "cell_type": "markdown",
   "id": "4116031b",
   "metadata": {},
   "source": [
    "HA: The sales data had a significant change after the tv ad. "
   ]
  },
  {
   "cell_type": "markdown",
   "id": "37ce0874",
   "metadata": {},
   "source": [
    "Type I Error: Reject a true null hypothesis. "
   ]
  },
  {
   "cell_type": "markdown",
   "id": "55157230",
   "metadata": {},
   "source": [
    "Type II Error: Accept a false null hypothesis"
   ]
  },
  {
   "cell_type": "markdown",
   "id": "87f001f2",
   "metadata": {},
   "source": [
    "### Ace Realty wants to determine whether the average time it takes to sell homes is different for its two offices. A sample of 40 sales from office #1 revealed a mean of 90 days and a standard deviation of 15 days. A sample of 50 sales from office #2 revealed a mean of 100 days and a standard deviation of 20 days. Use a .05 level of significance.\n",
    "\n"
   ]
  },
  {
   "cell_type": "code",
   "execution_count": 142,
   "id": "0aad3dd9",
   "metadata": {},
   "outputs": [
    {
     "data": {
      "text/plain": [
       "<function matplotlib.pyplot.legend(*args, **kwargs)>"
      ]
     },
     "execution_count": 142,
     "metadata": {},
     "output_type": "execute_result"
    },
    {
     "data": {
      "image/png": "[encoded data removed]",
      "text/plain": [
       "<Figure size 432x288 with 1 Axes>"
      ]
     },
     "metadata": {
      "needs_background": "light"
     },
     "output_type": "display_data"
    }
   ],
   "source": [
    "#Visualize distributions \n",
    "\n",
    "x = np.arange(50, 150)\n",
    "\n",
    "y1 = stats.norm(90, 15).pdf(x)\n",
    "y2 = stats.norm(100, 20).pdf(x)\n",
    "\n",
    "plt.plot(x, y1, label = 'Office 1')\n",
    "plt.plot(x, y2, label = 'Office 2')\n",
    "plt.axvline(90, ls=':')\n",
    "plt.axvline(100, ls=':', color = 'orange')\n",
    "\n",
    "plt.legend"
   ]
  },
  {
   "cell_type": "code",
   "execution_count": 5,
   "id": "6d4e91a9",
   "metadata": {},
   "outputs": [],
   "source": [
    "#H0: The average time it takes to sell a home is the same for both offices \n",
    "#HA: The average time it takes to sell a home is not the same for both offices \n",
    "mean1 =90\n",
    "std1 =15\n",
    "count1= 40\n",
    "\n",
    "mean2=100\n",
    "std2=20\n",
    "count2=50\n",
    "\n",
    "alpha = 0.05\n"
   ]
  },
  {
   "cell_type": "code",
   "execution_count": 6,
   "id": "df3c40b3",
   "metadata": {},
   "outputs": [],
   "source": [
    "#Calculate the t stat and p value \n",
    "t, p = stats.ttest_ind_from_stats(mean1, std1, count1, mean2, std2, count2, equal_var=True)"
   ]
  },
  {
   "cell_type": "code",
   "execution_count": 71,
   "id": "49c8df68",
   "metadata": {},
   "outputs": [
    {
     "data": {
      "text/plain": [
       "(4.652577547151351, 0.0)"
      ]
     },
     "execution_count": 71,
     "metadata": {},
     "output_type": "execute_result"
    }
   ],
   "source": [
    "t, p"
   ]
  },
  {
   "cell_type": "code",
   "execution_count": 72,
   "id": "f64832db",
   "metadata": {},
   "outputs": [
    {
     "name": "stdout",
     "output_type": "stream",
     "text": [
      "We reject $H_{0}$\n"
     ]
    }
   ],
   "source": [
    "if p  > alpha:\n",
    "    print(\"We fail to reject $H_{0}$\")\n",
    "else:\n",
    "    print(\"We reject $H_{0}$\")"
   ]
  },
  {
   "cell_type": "markdown",
   "id": "83edab7d",
   "metadata": {},
   "source": [
    "We reject the null hypothesis"
   ]
  },
  {
   "cell_type": "code",
   "execution_count": null,
   "id": "1be087d4",
   "metadata": {},
   "outputs": [],
   "source": [
    "# Load the mpg dataset and use it to answer the following questions:"
   ]
  },
  {
   "cell_type": "code",
   "execution_count": 81,
   "id": "4addb275",
   "metadata": {},
   "outputs": [
    {
     "data": {
      "text/html": [
       "<div>\n",
       "<style scoped>\n",
       "    .dataframe tbody tr th:only-of-type {\n",
       "        vertical-align: middle;\n",
       "    }\n",
       "\n",
       "    .dataframe tbody tr th {\n",
       "        vertical-align: top;\n",
       "    }\n",
       "\n",
       "    .dataframe thead th {\n",
       "        text-align: right;\n",
       "    }\n",
       "</style>\n",
       "<table border=\"1\" class=\"dataframe\">\n",
       "  <thead>\n",
       "    <tr style=\"text-align: right;\">\n",
       "      <th></th>\n",
       "      <th>manufacturer</th>\n",
       "      <th>model</th>\n",
       "      <th>displ</th>\n",
       "      <th>year</th>\n",
       "      <th>cyl</th>\n",
       "      <th>trans</th>\n",
       "      <th>drv</th>\n",
       "      <th>cty</th>\n",
       "      <th>hwy</th>\n",
       "      <th>fl</th>\n",
       "      <th>class</th>\n",
       "      <th>avg_mpg</th>\n",
       "    </tr>\n",
       "  </thead>\n",
       "  <tbody>\n",
       "    <tr>\n",
       "      <th>1</th>\n",
       "      <td>audi</td>\n",
       "      <td>a4</td>\n",
       "      <td>1.8</td>\n",
       "      <td>1999</td>\n",
       "      <td>4</td>\n",
       "      <td>auto(l5)</td>\n",
       "      <td>f</td>\n",
       "      <td>18</td>\n",
       "      <td>29</td>\n",
       "      <td>p</td>\n",
       "      <td>compact</td>\n",
       "      <td>22.212766</td>\n",
       "    </tr>\n",
       "    <tr>\n",
       "      <th>2</th>\n",
       "      <td>audi</td>\n",
       "      <td>a4</td>\n",
       "      <td>1.8</td>\n",
       "      <td>1999</td>\n",
       "      <td>4</td>\n",
       "      <td>manual(m5)</td>\n",
       "      <td>f</td>\n",
       "      <td>21</td>\n",
       "      <td>29</td>\n",
       "      <td>p</td>\n",
       "      <td>compact</td>\n",
       "      <td>24.360000</td>\n",
       "    </tr>\n",
       "    <tr>\n",
       "      <th>3</th>\n",
       "      <td>audi</td>\n",
       "      <td>a4</td>\n",
       "      <td>2.0</td>\n",
       "      <td>2008</td>\n",
       "      <td>4</td>\n",
       "      <td>manual(m6)</td>\n",
       "      <td>f</td>\n",
       "      <td>20</td>\n",
       "      <td>31</td>\n",
       "      <td>p</td>\n",
       "      <td>compact</td>\n",
       "      <td>24.313725</td>\n",
       "    </tr>\n",
       "    <tr>\n",
       "      <th>4</th>\n",
       "      <td>audi</td>\n",
       "      <td>a4</td>\n",
       "      <td>2.0</td>\n",
       "      <td>2008</td>\n",
       "      <td>4</td>\n",
       "      <td>auto(av)</td>\n",
       "      <td>f</td>\n",
       "      <td>21</td>\n",
       "      <td>30</td>\n",
       "      <td>p</td>\n",
       "      <td>compact</td>\n",
       "      <td>24.705882</td>\n",
       "    </tr>\n",
       "    <tr>\n",
       "      <th>5</th>\n",
       "      <td>audi</td>\n",
       "      <td>a4</td>\n",
       "      <td>2.8</td>\n",
       "      <td>1999</td>\n",
       "      <td>6</td>\n",
       "      <td>auto(l5)</td>\n",
       "      <td>f</td>\n",
       "      <td>16</td>\n",
       "      <td>26</td>\n",
       "      <td>p</td>\n",
       "      <td>compact</td>\n",
       "      <td>19.809524</td>\n",
       "    </tr>\n",
       "    <tr>\n",
       "      <th>...</th>\n",
       "      <td>...</td>\n",
       "      <td>...</td>\n",
       "      <td>...</td>\n",
       "      <td>...</td>\n",
       "      <td>...</td>\n",
       "      <td>...</td>\n",
       "      <td>...</td>\n",
       "      <td>...</td>\n",
       "      <td>...</td>\n",
       "      <td>...</td>\n",
       "      <td>...</td>\n",
       "      <td>...</td>\n",
       "    </tr>\n",
       "    <tr>\n",
       "      <th>230</th>\n",
       "      <td>volkswagen</td>\n",
       "      <td>passat</td>\n",
       "      <td>2.0</td>\n",
       "      <td>2008</td>\n",
       "      <td>4</td>\n",
       "      <td>auto(s6)</td>\n",
       "      <td>f</td>\n",
       "      <td>19</td>\n",
       "      <td>28</td>\n",
       "      <td>p</td>\n",
       "      <td>midsize</td>\n",
       "      <td>22.638298</td>\n",
       "    </tr>\n",
       "    <tr>\n",
       "      <th>231</th>\n",
       "      <td>volkswagen</td>\n",
       "      <td>passat</td>\n",
       "      <td>2.0</td>\n",
       "      <td>2008</td>\n",
       "      <td>4</td>\n",
       "      <td>manual(m6)</td>\n",
       "      <td>f</td>\n",
       "      <td>21</td>\n",
       "      <td>29</td>\n",
       "      <td>p</td>\n",
       "      <td>midsize</td>\n",
       "      <td>24.360000</td>\n",
       "    </tr>\n",
       "    <tr>\n",
       "      <th>232</th>\n",
       "      <td>volkswagen</td>\n",
       "      <td>passat</td>\n",
       "      <td>2.8</td>\n",
       "      <td>1999</td>\n",
       "      <td>6</td>\n",
       "      <td>auto(l5)</td>\n",
       "      <td>f</td>\n",
       "      <td>16</td>\n",
       "      <td>26</td>\n",
       "      <td>p</td>\n",
       "      <td>midsize</td>\n",
       "      <td>19.809524</td>\n",
       "    </tr>\n",
       "    <tr>\n",
       "      <th>233</th>\n",
       "      <td>volkswagen</td>\n",
       "      <td>passat</td>\n",
       "      <td>2.8</td>\n",
       "      <td>1999</td>\n",
       "      <td>6</td>\n",
       "      <td>manual(m5)</td>\n",
       "      <td>f</td>\n",
       "      <td>18</td>\n",
       "      <td>26</td>\n",
       "      <td>p</td>\n",
       "      <td>midsize</td>\n",
       "      <td>21.272727</td>\n",
       "    </tr>\n",
       "    <tr>\n",
       "      <th>234</th>\n",
       "      <td>volkswagen</td>\n",
       "      <td>passat</td>\n",
       "      <td>3.6</td>\n",
       "      <td>2008</td>\n",
       "      <td>6</td>\n",
       "      <td>auto(s6)</td>\n",
       "      <td>f</td>\n",
       "      <td>17</td>\n",
       "      <td>26</td>\n",
       "      <td>p</td>\n",
       "      <td>midsize</td>\n",
       "      <td>20.558140</td>\n",
       "    </tr>\n",
       "  </tbody>\n",
       "</table>\n",
       "<p>234 rows × 12 columns</p>\n",
       "</div>"
      ],
      "text/plain": [
       "    manufacturer   model  displ  year  cyl       trans drv  cty  hwy fl  \\\n",
       "1           audi      a4    1.8  1999    4    auto(l5)   f   18   29  p   \n",
       "2           audi      a4    1.8  1999    4  manual(m5)   f   21   29  p   \n",
       "3           audi      a4    2.0  2008    4  manual(m6)   f   20   31  p   \n",
       "4           audi      a4    2.0  2008    4    auto(av)   f   21   30  p   \n",
       "5           audi      a4    2.8  1999    6    auto(l5)   f   16   26  p   \n",
       "..           ...     ...    ...   ...  ...         ...  ..  ...  ... ..   \n",
       "230   volkswagen  passat    2.0  2008    4    auto(s6)   f   19   28  p   \n",
       "231   volkswagen  passat    2.0  2008    4  manual(m6)   f   21   29  p   \n",
       "232   volkswagen  passat    2.8  1999    6    auto(l5)   f   16   26  p   \n",
       "233   volkswagen  passat    2.8  1999    6  manual(m5)   f   18   26  p   \n",
       "234   volkswagen  passat    3.6  2008    6    auto(s6)   f   17   26  p   \n",
       "\n",
       "       class    avg_mpg  \n",
       "1    compact  22.212766  \n",
       "2    compact  24.360000  \n",
       "3    compact  24.313725  \n",
       "4    compact  24.705882  \n",
       "5    compact  19.809524  \n",
       "..       ...        ...  \n",
       "230  midsize  22.638298  \n",
       "231  midsize  24.360000  \n",
       "232  midsize  19.809524  \n",
       "233  midsize  21.272727  \n",
       "234  midsize  20.558140  \n",
       "\n",
       "[234 rows x 12 columns]"
      ]
     },
     "execution_count": 81,
     "metadata": {},
     "output_type": "execute_result"
    }
   ],
   "source": [
    "from pydataset import data\n",
    "mpg = data('mpg')\n",
    "mpg['avg_mpg'] = stats.hmean(mpg[{'cty', 'hwy'}], axis=1)\n",
    "mpg"
   ]
  },
  {
   "cell_type": "code",
   "execution_count": null,
   "id": "024cd474",
   "metadata": {},
   "outputs": [],
   "source": [
    "#Is there a difference in fuel-efficiency in cars from 2008 vs 1999? "
   ]
  },
  {
   "cell_type": "code",
   "execution_count": null,
   "id": "22ccf915",
   "metadata": {},
   "outputs": [],
   "source": [
    "#H0: There is no difference in the fuel-efficiency in cars from 1999 to 2008 \n",
    "#HA: There is a difference in the fuel-efficiency in cars from 1999 to 2008 "
   ]
  },
  {
   "cell_type": "code",
   "execution_count": 82,
   "id": "c53d79ee",
   "metadata": {},
   "outputs": [
    {
     "data": {
      "text/plain": [
       "(19.68238764869729, 19.488662986569054)"
      ]
     },
     "execution_count": 82,
     "metadata": {},
     "output_type": "execute_result"
    }
   ],
   "source": [
    "#Create two sets \n",
    "avg_99 = mpg[mpg.year == 1999].avg_mpg\n",
    "avg_08 = mpg[mpg.year == 2008].avg_mpg\n",
    "avg_99.mean(), avg_08.mean()"
   ]
  },
  {
   "cell_type": "code",
   "execution_count": 83,
   "id": "e2a553b8",
   "metadata": {},
   "outputs": [
    {
     "data": {
      "text/plain": [
       "(25.850396545865912, 22.550836772260343)"
      ]
     },
     "execution_count": 83,
     "metadata": {},
     "output_type": "execute_result"
    }
   ],
   "source": [
    "avg_99.var(), avg_08.var()\n",
    "#the variance is very minimal so I will set equal_var = True"
   ]
  },
  {
   "cell_type": "code",
   "execution_count": 85,
   "id": "aa784aa4",
   "metadata": {},
   "outputs": [
    {
     "data": {
      "text/plain": [
       "(-0.3011962975077886, 0.7635345888327115, 0.05)"
      ]
     },
     "execution_count": 85,
     "metadata": {},
     "output_type": "execute_result"
    }
   ],
   "source": [
    "t, p = stats.ttest_ind(avg_08, avg_99, equal_var = True)\n",
    "t, p, alpha"
   ]
  },
  {
   "cell_type": "code",
   "execution_count": 87,
   "id": "3045cdaa",
   "metadata": {},
   "outputs": [
    {
     "name": "stdout",
     "output_type": "stream",
     "text": [
      "We fail to reject $H_{0}$\n"
     ]
    }
   ],
   "source": [
    "if p > alpha:\n",
    "    print(\"We fail to reject $H_{0}$\")\n",
    "else:\n",
    "    print(\"We reject $H_{0}$\")"
   ]
  },
  {
   "cell_type": "markdown",
   "id": "e8f15518",
   "metadata": {},
   "source": [
    "We fail to reject the null hypothesis. "
   ]
  },
  {
   "cell_type": "code",
   "execution_count": 143,
   "id": "9d9963f6",
   "metadata": {},
   "outputs": [
    {
     "data": {
      "text/plain": [
       "<matplotlib.legend.Legend at 0x7ff1cd2ed100>"
      ]
     },
     "execution_count": 143,
     "metadata": {},
     "output_type": "execute_result"
    },
    {
     "data": {
      "image/png": "[encoded data removed]",
      "text/plain": [
       "<Figure size 432x288 with 1 Axes>"
      ]
     },
     "metadata": {
      "needs_background": "light"
     },
     "output_type": "display_data"
    }
   ],
   "source": [
    "plt.hist([avg_99, avg_08], label=['1999 cars', '2008 cars'])\n",
    "plt.legend(loc=\"upper right\")"
   ]
  },
  {
   "cell_type": "markdown",
   "id": "0dc3f401",
   "metadata": {},
   "source": [
    "#Are compact cars more fuel-efficient than the average car? "
   ]
  },
  {
   "cell_type": "markdown",
   "id": "1d67793d",
   "metadata": {},
   "source": [
    "H0: Compact cars are more fuel-efficient"
   ]
  },
  {
   "cell_type": "markdown",
   "id": "3f89df78",
   "metadata": {},
   "source": [
    "HA: Compact cars are not more fuel-efficient"
   ]
  },
  {
   "cell_type": "code",
   "execution_count": 144,
   "id": "91a4e07f",
   "metadata": {},
   "outputs": [
    {
     "data": {
      "text/html": [
       "<div>\n",
       "<style scoped>\n",
       "    .dataframe tbody tr th:only-of-type {\n",
       "        vertical-align: middle;\n",
       "    }\n",
       "\n",
       "    .dataframe tbody tr th {\n",
       "        vertical-align: top;\n",
       "    }\n",
       "\n",
       "    .dataframe thead th {\n",
       "        text-align: right;\n",
       "    }\n",
       "</style>\n",
       "<table border=\"1\" class=\"dataframe\">\n",
       "  <thead>\n",
       "    <tr style=\"text-align: right;\">\n",
       "      <th></th>\n",
       "      <th>manufacturer</th>\n",
       "      <th>model</th>\n",
       "      <th>displ</th>\n",
       "      <th>year</th>\n",
       "      <th>cyl</th>\n",
       "      <th>trans</th>\n",
       "      <th>drv</th>\n",
       "      <th>cty</th>\n",
       "      <th>hwy</th>\n",
       "      <th>fl</th>\n",
       "      <th>class</th>\n",
       "      <th>avg_mpg</th>\n",
       "      <th>avg_fe</th>\n",
       "    </tr>\n",
       "  </thead>\n",
       "  <tbody>\n",
       "    <tr>\n",
       "      <th>1</th>\n",
       "      <td>audi</td>\n",
       "      <td>a4</td>\n",
       "      <td>1.8</td>\n",
       "      <td>1999</td>\n",
       "      <td>4</td>\n",
       "      <td>auto(l5)</td>\n",
       "      <td>f</td>\n",
       "      <td>18</td>\n",
       "      <td>29</td>\n",
       "      <td>p</td>\n",
       "      <td>compact</td>\n",
       "      <td>22.212766</td>\n",
       "      <td>22.212766</td>\n",
       "    </tr>\n",
       "  </tbody>\n",
       "</table>\n",
       "</div>"
      ],
      "text/plain": [
       "  manufacturer model  displ  year  cyl     trans drv  cty  hwy fl    class  \\\n",
       "1         audi    a4    1.8  1999    4  auto(l5)   f   18   29  p  compact   \n",
       "\n",
       "     avg_mpg     avg_fe  \n",
       "1  22.212766  22.212766  "
      ]
     },
     "execution_count": 144,
     "metadata": {},
     "output_type": "execute_result"
    }
   ],
   "source": [
    "mpg['avg_fe'] = stats.hmean(mpg[['cty', 'hwy']], axis=1)\n",
    "mpg.head(1)"
   ]
  },
  {
   "cell_type": "code",
   "execution_count": 34,
   "id": "1fba6cc5",
   "metadata": {},
   "outputs": [
    {
     "data": {
      "text/plain": [
       "(7.512360093161354, 1.5617666348807727e-09)"
      ]
     },
     "execution_count": 34,
     "metadata": {},
     "output_type": "execute_result"
    }
   ],
   "source": [
    "#calculate the t and p values \n",
    "t, p = stats.ttest_1samp(fe_compact, pop_mean)\n",
    "t, p "
   ]
  },
  {
   "cell_type": "code",
   "execution_count": 145,
   "id": "fd7a7066",
   "metadata": {},
   "outputs": [],
   "source": [
    "if (p/2 < alpha) and t > 0:\n",
    "    print('Reject null')"
   ]
  },
  {
   "cell_type": "markdown",
   "id": "188947b4",
   "metadata": {},
   "source": [
    "### Do manual cars get better gas mileage than automatic cars?"
   ]
  },
  {
   "cell_type": "code",
   "execution_count": 146,
   "id": "f3a7f06b",
   "metadata": {},
   "outputs": [
    {
     "data": {
      "text/html": [
       "<div>\n",
       "<style scoped>\n",
       "    .dataframe tbody tr th:only-of-type {\n",
       "        vertical-align: middle;\n",
       "    }\n",
       "\n",
       "    .dataframe tbody tr th {\n",
       "        vertical-align: top;\n",
       "    }\n",
       "\n",
       "    .dataframe thead th {\n",
       "        text-align: right;\n",
       "    }\n",
       "</style>\n",
       "<table border=\"1\" class=\"dataframe\">\n",
       "  <thead>\n",
       "    <tr style=\"text-align: right;\">\n",
       "      <th></th>\n",
       "      <th>manufacturer</th>\n",
       "      <th>model</th>\n",
       "      <th>displ</th>\n",
       "      <th>year</th>\n",
       "      <th>cyl</th>\n",
       "      <th>trans</th>\n",
       "      <th>drv</th>\n",
       "      <th>cty</th>\n",
       "      <th>hwy</th>\n",
       "      <th>fl</th>\n",
       "      <th>class</th>\n",
       "      <th>avg_mpg</th>\n",
       "      <th>avg_fe</th>\n",
       "    </tr>\n",
       "  </thead>\n",
       "  <tbody>\n",
       "    <tr>\n",
       "      <th>1</th>\n",
       "      <td>audi</td>\n",
       "      <td>a4</td>\n",
       "      <td>1.8</td>\n",
       "      <td>1999</td>\n",
       "      <td>4</td>\n",
       "      <td>auto(l5)</td>\n",
       "      <td>f</td>\n",
       "      <td>18</td>\n",
       "      <td>29</td>\n",
       "      <td>p</td>\n",
       "      <td>compact</td>\n",
       "      <td>22.212766</td>\n",
       "      <td>22.212766</td>\n",
       "    </tr>\n",
       "  </tbody>\n",
       "</table>\n",
       "</div>"
      ],
      "text/plain": [
       "  manufacturer model  displ  year  cyl     trans drv  cty  hwy fl    class  \\\n",
       "1         audi    a4    1.8  1999    4  auto(l5)   f   18   29  p  compact   \n",
       "\n",
       "     avg_mpg     avg_fe  \n",
       "1  22.212766  22.212766  "
      ]
     },
     "execution_count": 146,
     "metadata": {},
     "output_type": "execute_result"
    }
   ],
   "source": [
    "mpg.head(1)"
   ]
  },
  {
   "cell_type": "code",
   "execution_count": 38,
   "id": "c934063c",
   "metadata": {},
   "outputs": [
    {
     "data": {
      "text/plain": [
       "auto(l4)      83\n",
       "manual(m5)    58\n",
       "auto(l5)      39\n",
       "manual(m6)    19\n",
       "auto(s6)      16\n",
       "auto(l6)       6\n",
       "auto(av)       5\n",
       "auto(s5)       3\n",
       "auto(s4)       3\n",
       "auto(l3)       2\n",
       "Name: trans, dtype: int64"
      ]
     },
     "execution_count": 38,
     "metadata": {},
     "output_type": "execute_result"
    }
   ],
   "source": [
    "mpg.trans.value_counts()"
   ]
  },
  {
   "cell_type": "markdown",
   "id": "56c22d78",
   "metadata": {},
   "source": [
    "H0: Manual cars get better gas mileage than automatic cars. "
   ]
  },
  {
   "cell_type": "markdown",
   "id": "5107a610",
   "metadata": {},
   "source": [
    "HA: Manual cars do not get better gas mileage than automatic cars. "
   ]
  },
  {
   "cell_type": "code",
   "execution_count": 39,
   "id": "d2d8d562",
   "metadata": {},
   "outputs": [],
   "source": [
    "fe_auto = mpg[mpg.trans.str.contains('auto')].avg_fe\n",
    "fe_manual = mpg[mpg.trans.str.contains('manual')].avg_fe"
   ]
  },
  {
   "cell_type": "code",
   "execution_count": 40,
   "id": "33e13cad",
   "metadata": {},
   "outputs": [
    {
     "data": {
      "text/plain": [
       "LeveneResult(statistic=0.013901207169738269, pvalue=0.9062462281015493)"
      ]
     },
     "execution_count": 40,
     "metadata": {},
     "output_type": "execute_result"
    }
   ],
   "source": [
    "stats.levene(fe_auto, fe_manual)"
   ]
  },
  {
   "cell_type": "code",
   "execution_count": 41,
   "id": "daa32f68",
   "metadata": {},
   "outputs": [
    {
     "data": {
      "text/plain": [
       "(4.652577547151351, 2.7552323050220026e-06)"
      ]
     },
     "execution_count": 41,
     "metadata": {},
     "output_type": "execute_result"
    }
   ],
   "source": [
    "t, p = stats.ttest_ind(fe_manual, fe_auto, equal_var=True)\n",
    "t, p/2"
   ]
  },
  {
   "cell_type": "code",
   "execution_count": 42,
   "id": "19310fdc",
   "metadata": {},
   "outputs": [
    {
     "data": {
      "text/plain": [
       "(21.629228592155194, 18.583199507835747)"
      ]
     },
     "execution_count": 42,
     "metadata": {},
     "output_type": "execute_result"
    }
   ],
   "source": [
    "fe_manual.mean(), fe_auto.mean()"
   ]
  },
  {
   "cell_type": "code",
   "execution_count": 44,
   "id": "5f1fd797",
   "metadata": {},
   "outputs": [],
   "source": [
    "import numpy as np"
   ]
  },
  {
   "cell_type": "code",
   "execution_count": 45,
   "id": "38766ccd",
   "metadata": {},
   "outputs": [],
   "source": [
    "mpg['transmission_type'] = np.where(mpg.trans.str.contains('auto'),'Auto Transmission', 'Manual Transmission') "
   ]
  },
  {
   "cell_type": "code",
   "execution_count": 46,
   "id": "428d8279",
   "metadata": {},
   "outputs": [
    {
     "data": {
      "text/html": [
       "<div>\n",
       "<style scoped>\n",
       "    .dataframe tbody tr th:only-of-type {\n",
       "        vertical-align: middle;\n",
       "    }\n",
       "\n",
       "    .dataframe tbody tr th {\n",
       "        vertical-align: top;\n",
       "    }\n",
       "\n",
       "    .dataframe thead th {\n",
       "        text-align: right;\n",
       "    }\n",
       "</style>\n",
       "<table border=\"1\" class=\"dataframe\">\n",
       "  <thead>\n",
       "    <tr style=\"text-align: right;\">\n",
       "      <th></th>\n",
       "      <th>manufacturer</th>\n",
       "      <th>model</th>\n",
       "      <th>displ</th>\n",
       "      <th>year</th>\n",
       "      <th>cyl</th>\n",
       "      <th>trans</th>\n",
       "      <th>drv</th>\n",
       "      <th>cty</th>\n",
       "      <th>hwy</th>\n",
       "      <th>fl</th>\n",
       "      <th>class</th>\n",
       "      <th>avg_mpg</th>\n",
       "      <th>avg_fe</th>\n",
       "      <th>transmission_type</th>\n",
       "    </tr>\n",
       "  </thead>\n",
       "  <tbody>\n",
       "    <tr>\n",
       "      <th>1</th>\n",
       "      <td>audi</td>\n",
       "      <td>a4</td>\n",
       "      <td>1.8</td>\n",
       "      <td>1999</td>\n",
       "      <td>4</td>\n",
       "      <td>auto(l5)</td>\n",
       "      <td>f</td>\n",
       "      <td>18</td>\n",
       "      <td>29</td>\n",
       "      <td>p</td>\n",
       "      <td>compact</td>\n",
       "      <td>29.0</td>\n",
       "      <td>22.212766</td>\n",
       "      <td>Auto Transmission</td>\n",
       "    </tr>\n",
       "    <tr>\n",
       "      <th>2</th>\n",
       "      <td>audi</td>\n",
       "      <td>a4</td>\n",
       "      <td>1.8</td>\n",
       "      <td>1999</td>\n",
       "      <td>4</td>\n",
       "      <td>manual(m5)</td>\n",
       "      <td>f</td>\n",
       "      <td>21</td>\n",
       "      <td>29</td>\n",
       "      <td>p</td>\n",
       "      <td>compact</td>\n",
       "      <td>29.0</td>\n",
       "      <td>24.360000</td>\n",
       "      <td>Manual Transmission</td>\n",
       "    </tr>\n",
       "    <tr>\n",
       "      <th>3</th>\n",
       "      <td>audi</td>\n",
       "      <td>a4</td>\n",
       "      <td>2.0</td>\n",
       "      <td>2008</td>\n",
       "      <td>4</td>\n",
       "      <td>manual(m6)</td>\n",
       "      <td>f</td>\n",
       "      <td>20</td>\n",
       "      <td>31</td>\n",
       "      <td>p</td>\n",
       "      <td>compact</td>\n",
       "      <td>31.0</td>\n",
       "      <td>24.313725</td>\n",
       "      <td>Manual Transmission</td>\n",
       "    </tr>\n",
       "    <tr>\n",
       "      <th>4</th>\n",
       "      <td>audi</td>\n",
       "      <td>a4</td>\n",
       "      <td>2.0</td>\n",
       "      <td>2008</td>\n",
       "      <td>4</td>\n",
       "      <td>auto(av)</td>\n",
       "      <td>f</td>\n",
       "      <td>21</td>\n",
       "      <td>30</td>\n",
       "      <td>p</td>\n",
       "      <td>compact</td>\n",
       "      <td>30.0</td>\n",
       "      <td>24.705882</td>\n",
       "      <td>Auto Transmission</td>\n",
       "    </tr>\n",
       "    <tr>\n",
       "      <th>5</th>\n",
       "      <td>audi</td>\n",
       "      <td>a4</td>\n",
       "      <td>2.8</td>\n",
       "      <td>1999</td>\n",
       "      <td>6</td>\n",
       "      <td>auto(l5)</td>\n",
       "      <td>f</td>\n",
       "      <td>16</td>\n",
       "      <td>26</td>\n",
       "      <td>p</td>\n",
       "      <td>compact</td>\n",
       "      <td>26.0</td>\n",
       "      <td>19.809524</td>\n",
       "      <td>Auto Transmission</td>\n",
       "    </tr>\n",
       "    <tr>\n",
       "      <th>...</th>\n",
       "      <td>...</td>\n",
       "      <td>...</td>\n",
       "      <td>...</td>\n",
       "      <td>...</td>\n",
       "      <td>...</td>\n",
       "      <td>...</td>\n",
       "      <td>...</td>\n",
       "      <td>...</td>\n",
       "      <td>...</td>\n",
       "      <td>...</td>\n",
       "      <td>...</td>\n",
       "      <td>...</td>\n",
       "      <td>...</td>\n",
       "      <td>...</td>\n",
       "    </tr>\n",
       "    <tr>\n",
       "      <th>230</th>\n",
       "      <td>volkswagen</td>\n",
       "      <td>passat</td>\n",
       "      <td>2.0</td>\n",
       "      <td>2008</td>\n",
       "      <td>4</td>\n",
       "      <td>auto(s6)</td>\n",
       "      <td>f</td>\n",
       "      <td>19</td>\n",
       "      <td>28</td>\n",
       "      <td>p</td>\n",
       "      <td>midsize</td>\n",
       "      <td>28.0</td>\n",
       "      <td>22.638298</td>\n",
       "      <td>Auto Transmission</td>\n",
       "    </tr>\n",
       "    <tr>\n",
       "      <th>231</th>\n",
       "      <td>volkswagen</td>\n",
       "      <td>passat</td>\n",
       "      <td>2.0</td>\n",
       "      <td>2008</td>\n",
       "      <td>4</td>\n",
       "      <td>manual(m6)</td>\n",
       "      <td>f</td>\n",
       "      <td>21</td>\n",
       "      <td>29</td>\n",
       "      <td>p</td>\n",
       "      <td>midsize</td>\n",
       "      <td>29.0</td>\n",
       "      <td>24.360000</td>\n",
       "      <td>Manual Transmission</td>\n",
       "    </tr>\n",
       "    <tr>\n",
       "      <th>232</th>\n",
       "      <td>volkswagen</td>\n",
       "      <td>passat</td>\n",
       "      <td>2.8</td>\n",
       "      <td>1999</td>\n",
       "      <td>6</td>\n",
       "      <td>auto(l5)</td>\n",
       "      <td>f</td>\n",
       "      <td>16</td>\n",
       "      <td>26</td>\n",
       "      <td>p</td>\n",
       "      <td>midsize</td>\n",
       "      <td>26.0</td>\n",
       "      <td>19.809524</td>\n",
       "      <td>Auto Transmission</td>\n",
       "    </tr>\n",
       "    <tr>\n",
       "      <th>233</th>\n",
       "      <td>volkswagen</td>\n",
       "      <td>passat</td>\n",
       "      <td>2.8</td>\n",
       "      <td>1999</td>\n",
       "      <td>6</td>\n",
       "      <td>manual(m5)</td>\n",
       "      <td>f</td>\n",
       "      <td>18</td>\n",
       "      <td>26</td>\n",
       "      <td>p</td>\n",
       "      <td>midsize</td>\n",
       "      <td>26.0</td>\n",
       "      <td>21.272727</td>\n",
       "      <td>Manual Transmission</td>\n",
       "    </tr>\n",
       "    <tr>\n",
       "      <th>234</th>\n",
       "      <td>volkswagen</td>\n",
       "      <td>passat</td>\n",
       "      <td>3.6</td>\n",
       "      <td>2008</td>\n",
       "      <td>6</td>\n",
       "      <td>auto(s6)</td>\n",
       "      <td>f</td>\n",
       "      <td>17</td>\n",
       "      <td>26</td>\n",
       "      <td>p</td>\n",
       "      <td>midsize</td>\n",
       "      <td>26.0</td>\n",
       "      <td>20.558140</td>\n",
       "      <td>Auto Transmission</td>\n",
       "    </tr>\n",
       "  </tbody>\n",
       "</table>\n",
       "<p>234 rows × 14 columns</p>\n",
       "</div>"
      ],
      "text/plain": [
       "    manufacturer   model  displ  year  cyl       trans drv  cty  hwy fl  \\\n",
       "1           audi      a4    1.8  1999    4    auto(l5)   f   18   29  p   \n",
       "2           audi      a4    1.8  1999    4  manual(m5)   f   21   29  p   \n",
       "3           audi      a4    2.0  2008    4  manual(m6)   f   20   31  p   \n",
       "4           audi      a4    2.0  2008    4    auto(av)   f   21   30  p   \n",
       "5           audi      a4    2.8  1999    6    auto(l5)   f   16   26  p   \n",
       "..           ...     ...    ...   ...  ...         ...  ..  ...  ... ..   \n",
       "230   volkswagen  passat    2.0  2008    4    auto(s6)   f   19   28  p   \n",
       "231   volkswagen  passat    2.0  2008    4  manual(m6)   f   21   29  p   \n",
       "232   volkswagen  passat    2.8  1999    6    auto(l5)   f   16   26  p   \n",
       "233   volkswagen  passat    2.8  1999    6  manual(m5)   f   18   26  p   \n",
       "234   volkswagen  passat    3.6  2008    6    auto(s6)   f   17   26  p   \n",
       "\n",
       "       class  avg_mpg     avg_fe    transmission_type  \n",
       "1    compact     29.0  22.212766    Auto Transmission  \n",
       "2    compact     29.0  24.360000  Manual Transmission  \n",
       "3    compact     31.0  24.313725  Manual Transmission  \n",
       "4    compact     30.0  24.705882    Auto Transmission  \n",
       "5    compact     26.0  19.809524    Auto Transmission  \n",
       "..       ...      ...        ...                  ...  \n",
       "230  midsize     28.0  22.638298    Auto Transmission  \n",
       "231  midsize     29.0  24.360000  Manual Transmission  \n",
       "232  midsize     26.0  19.809524    Auto Transmission  \n",
       "233  midsize     26.0  21.272727  Manual Transmission  \n",
       "234  midsize     26.0  20.558140    Auto Transmission  \n",
       "\n",
       "[234 rows x 14 columns]"
      ]
     },
     "execution_count": 46,
     "metadata": {},
     "output_type": "execute_result"
    }
   ],
   "source": [
    "mpg"
   ]
  },
  {
   "cell_type": "code",
   "execution_count": 47,
   "id": "3242bbea",
   "metadata": {},
   "outputs": [
    {
     "data": {
      "text/plain": [
       "Text(0.5, 1.0, 'Manual transmission gets better fuel effiency')"
      ]
     },
     "execution_count": 47,
     "metadata": {},
     "output_type": "execute_result"
    },
    {
     "data": {
      "image/png": "[encoded data removed]",
      "text/plain": [
       "<Figure size 432x288 with 1 Axes>"
      ]
     },
     "metadata": {
      "needs_background": "light"
     },
     "output_type": "display_data"
    }
   ],
   "source": [
    "mpg.groupby('transmission_type').avg_fe.mean().plot.bar()\n",
    "plt.xticks(rotation=0)\n",
    "plt.xlabel('')\n",
    "plt.ylabel('Average mileage')\n",
    "plt.title('Manual transmission gets better fuel effiency')"
   ]
  },
  {
   "cell_type": "markdown",
   "id": "535f24cd",
   "metadata": {},
   "source": [
    "# Correlation "
   ]
  },
  {
   "cell_type": "markdown",
   "id": "01aa7ec7",
   "metadata": {},
   "source": [
    "Use the telco_churn data. Does tenure correlate with monthly charges? Total charges? What happens if you control for phone and internet service?\n"
   ]
  },
  {
   "cell_type": "code",
   "execution_count": 203,
   "id": "7bb813ae",
   "metadata": {},
   "outputs": [],
   "source": [
    "tc = pd.read_csv('telco_churn.csv')"
   ]
  },
  {
   "cell_type": "code",
   "execution_count": 204,
   "id": "db21965e",
   "metadata": {},
   "outputs": [
    {
     "data": {
      "text/html": [
       "<div>\n",
       "<style scoped>\n",
       "    .dataframe tbody tr th:only-of-type {\n",
       "        vertical-align: middle;\n",
       "    }\n",
       "\n",
       "    .dataframe tbody tr th {\n",
       "        vertical-align: top;\n",
       "    }\n",
       "\n",
       "    .dataframe thead th {\n",
       "        text-align: right;\n",
       "    }\n",
       "</style>\n",
       "<table border=\"1\" class=\"dataframe\">\n",
       "  <thead>\n",
       "    <tr style=\"text-align: right;\">\n",
       "      <th></th>\n",
       "      <th>internet_service_type_id</th>\n",
       "      <th>customer_id</th>\n",
       "      <th>gender</th>\n",
       "      <th>senior_citizen</th>\n",
       "      <th>partner</th>\n",
       "      <th>dependents</th>\n",
       "      <th>tenure</th>\n",
       "      <th>phone_service</th>\n",
       "      <th>multiple_lines</th>\n",
       "      <th>online_security</th>\n",
       "      <th>...</th>\n",
       "      <th>tech_support</th>\n",
       "      <th>streaming_tv</th>\n",
       "      <th>streaming_movies</th>\n",
       "      <th>contract_type_id</th>\n",
       "      <th>paperless_billing</th>\n",
       "      <th>payment_type_id</th>\n",
       "      <th>monthly_charges</th>\n",
       "      <th>total_charges</th>\n",
       "      <th>churn</th>\n",
       "      <th>internet_service_type</th>\n",
       "    </tr>\n",
       "  </thead>\n",
       "  <tbody>\n",
       "    <tr>\n",
       "      <th>0</th>\n",
       "      <td>1</td>\n",
       "      <td>0002-ORFBO</td>\n",
       "      <td>Female</td>\n",
       "      <td>0</td>\n",
       "      <td>Yes</td>\n",
       "      <td>Yes</td>\n",
       "      <td>9</td>\n",
       "      <td>Yes</td>\n",
       "      <td>No</td>\n",
       "      <td>No</td>\n",
       "      <td>...</td>\n",
       "      <td>Yes</td>\n",
       "      <td>Yes</td>\n",
       "      <td>No</td>\n",
       "      <td>2</td>\n",
       "      <td>Yes</td>\n",
       "      <td>2</td>\n",
       "      <td>65.6</td>\n",
       "      <td>593.3</td>\n",
       "      <td>No</td>\n",
       "      <td>DSL</td>\n",
       "    </tr>\n",
       "    <tr>\n",
       "      <th>1</th>\n",
       "      <td>1</td>\n",
       "      <td>0003-MKNFE</td>\n",
       "      <td>Male</td>\n",
       "      <td>0</td>\n",
       "      <td>No</td>\n",
       "      <td>No</td>\n",
       "      <td>9</td>\n",
       "      <td>Yes</td>\n",
       "      <td>Yes</td>\n",
       "      <td>No</td>\n",
       "      <td>...</td>\n",
       "      <td>No</td>\n",
       "      <td>No</td>\n",
       "      <td>Yes</td>\n",
       "      <td>1</td>\n",
       "      <td>No</td>\n",
       "      <td>2</td>\n",
       "      <td>59.9</td>\n",
       "      <td>542.4</td>\n",
       "      <td>No</td>\n",
       "      <td>DSL</td>\n",
       "    </tr>\n",
       "    <tr>\n",
       "      <th>2</th>\n",
       "      <td>2</td>\n",
       "      <td>0004-TLHLJ</td>\n",
       "      <td>Male</td>\n",
       "      <td>0</td>\n",
       "      <td>No</td>\n",
       "      <td>No</td>\n",
       "      <td>4</td>\n",
       "      <td>Yes</td>\n",
       "      <td>No</td>\n",
       "      <td>No</td>\n",
       "      <td>...</td>\n",
       "      <td>No</td>\n",
       "      <td>No</td>\n",
       "      <td>No</td>\n",
       "      <td>1</td>\n",
       "      <td>Yes</td>\n",
       "      <td>1</td>\n",
       "      <td>73.9</td>\n",
       "      <td>280.85</td>\n",
       "      <td>Yes</td>\n",
       "      <td>Fiber optic</td>\n",
       "    </tr>\n",
       "  </tbody>\n",
       "</table>\n",
       "<p>3 rows × 22 columns</p>\n",
       "</div>"
      ],
      "text/plain": [
       "   internet_service_type_id customer_id  gender  senior_citizen partner  \\\n",
       "0                         1  0002-ORFBO  Female               0     Yes   \n",
       "1                         1  0003-MKNFE    Male               0      No   \n",
       "2                         2  0004-TLHLJ    Male               0      No   \n",
       "\n",
       "  dependents  tenure phone_service multiple_lines online_security  ...  \\\n",
       "0        Yes       9           Yes             No              No  ...   \n",
       "1         No       9           Yes            Yes              No  ...   \n",
       "2         No       4           Yes             No              No  ...   \n",
       "\n",
       "  tech_support streaming_tv streaming_movies contract_type_id  \\\n",
       "0          Yes          Yes               No                2   \n",
       "1           No           No              Yes                1   \n",
       "2           No           No               No                1   \n",
       "\n",
       "  paperless_billing  payment_type_id monthly_charges  total_charges  churn  \\\n",
       "0               Yes                2            65.6          593.3     No   \n",
       "1                No                2            59.9          542.4     No   \n",
       "2               Yes                1            73.9         280.85    Yes   \n",
       "\n",
       "  internet_service_type  \n",
       "0                   DSL  \n",
       "1                   DSL  \n",
       "2           Fiber optic  \n",
       "\n",
       "[3 rows x 22 columns]"
      ]
     },
     "execution_count": 204,
     "metadata": {},
     "output_type": "execute_result"
    }
   ],
   "source": [
    "tc.head(3)"
   ]
  },
  {
   "cell_type": "code",
   "execution_count": 207,
   "id": "484feb14",
   "metadata": {},
   "outputs": [],
   "source": [
    "#Reduce number of columns \n",
    "tc = tc[[\"customer_id\", \"monthly_charges\", \"tenure\", \"total_charges\", \"phone_service\", \"internet_service_type\"]]"
   ]
  },
  {
   "cell_type": "markdown",
   "id": "c33a9cd1",
   "metadata": {},
   "source": [
    "#Does tenure correlate with monthly charges? \n",
    "H0: There is no linear relationship between tenure and monthly charges \n",
    "HA: There is a linear relationship between tenure and monthly charges "
   ]
  },
  {
   "cell_type": "code",
   "execution_count": 54,
   "id": "9db338d1",
   "metadata": {},
   "outputs": [
    {
     "name": "stdout",
     "output_type": "stream",
     "text": [
      "r= 0.24718489224989926\n",
      "p= 1.2811368994964528e-98\n"
     ]
    }
   ],
   "source": [
    "#identify the series to work with \n",
    "x = df.tenure\n",
    "y = df.monthly_charges\n",
    "\n",
    "r, p = stats.pearsonr(x,y)\n",
    "print('r=', r)\n",
    "print('p=', p)"
   ]
  },
  {
   "cell_type": "code",
   "execution_count": 89,
   "id": "51335925",
   "metadata": {},
   "outputs": [
    {
     "name": "stdout",
     "output_type": "stream",
     "text": [
      "We fail to reject $H_{0}$\n"
     ]
    }
   ],
   "source": [
    "if p > alpha:\n",
    "    print(\"We fail to reject $H_{0}$\")\n",
    "else:\n",
    "    print(\"We reject $H_{0}$\")"
   ]
  },
  {
   "cell_type": "markdown",
   "id": "d4ce4c1f",
   "metadata": {},
   "source": [
    "There is a moderate positive linear relationship between monthly charges and tenure"
   ]
  },
  {
   "cell_type": "code",
   "execution_count": 88,
   "id": "b9347dce",
   "metadata": {},
   "outputs": [
    {
     "data": {
      "text/plain": [
       "<AxesSubplot:xlabel='tenure', ylabel='total_charges'>"
      ]
     },
     "execution_count": 88,
     "metadata": {},
     "output_type": "execute_result"
    },
    {
     "data": {
      "image/png": "[encoded data removed]",
      "text/plain": [
       "<Figure size 432x288 with 1 Axes>"
      ]
     },
     "metadata": {
      "needs_background": "light"
     },
     "output_type": "display_data"
    }
   ],
   "source": [
    "#Does tenure correlate with total charges? \n",
    "#H0: There is a linear relationship between tenure and monthly charges \n",
    "#HA: There is no linear relationship between tenure and monthly charges \n",
    "df.plot.scatter(y= 'total_charges', x= 'tenure')\n"
   ]
  },
  {
   "cell_type": "code",
   "execution_count": 57,
   "id": "28366c6e",
   "metadata": {},
   "outputs": [],
   "source": [
    "df.dropna(inplace=True)"
   ]
  },
  {
   "cell_type": "code",
   "execution_count": 58,
   "id": "eaf01e38",
   "metadata": {},
   "outputs": [
    {
     "name": "stdout",
     "output_type": "stream",
     "text": [
      "r= 0.8258191824783676\n",
      "p= 0.0\n"
     ]
    }
   ],
   "source": [
    "x = df.tenure \n",
    "y2 = df.total_charges\n",
    "r, p = stats.pearsonr(x,y2)\n",
    "print('r=', r)\n",
    "print('p=', p)"
   ]
  },
  {
   "cell_type": "markdown",
   "id": "3a659a3e",
   "metadata": {},
   "source": [
    "There is a strong positive linear relationship between total charges and tenure"
   ]
  },
  {
   "cell_type": "markdown",
   "id": "c8bfebe5",
   "metadata": {},
   "source": [
    "What happens if you control for phone service? \n",
    "Plot the three types of phone service against monthly charges "
   ]
  },
  {
   "cell_type": "code",
   "execution_count": 93,
   "id": "05a67f54",
   "metadata": {},
   "outputs": [
    {
     "data": {
      "text/plain": [
       "<seaborn.axisgrid.FacetGrid at 0x7ff1ba38f9d0>"
      ]
     },
     "execution_count": 93,
     "metadata": {},
     "output_type": "execute_result"
    },
    {
     "data": {
      "image/png": "[encoded data removed]",
      "text/plain": [
       "<Figure size 1080x360 with 3 Axes>"
      ]
     },
     "metadata": {
      "needs_background": "light"
     },
     "output_type": "display_data"
    }
   ],
   "source": [
    "sns.relplot(data=df, y='total_charges', x='tenure', col = \"phone_service\")"
   ]
  },
  {
   "cell_type": "code",
   "execution_count": 209,
   "id": "755ff72a",
   "metadata": {},
   "outputs": [
    {
     "name": "stderr",
     "output_type": "stream",
     "text": [
      "/var/folders/lt/mq77_h29005b8q_dkwt9pz000000gn/T/ipykernel_75784/2289786469.py:1: SettingWithCopyWarning: \n",
      "A value is trying to be set on a copy of a slice from a DataFrame.\n",
      "Try using .loc[row_indexer,col_indexer] = value instead\n",
      "\n",
      "See the caveats in the documentation: https://pandas.pydata.org/pandas-docs/stable/user_guide/indexing.html#returning-a-view-versus-a-copy\n",
      "  tc[\"one_line\"] = tc.phone_service == 1\n",
      "/var/folders/lt/mq77_h29005b8q_dkwt9pz000000gn/T/ipykernel_75784/2289786469.py:2: SettingWithCopyWarning: \n",
      "A value is trying to be set on a copy of a slice from a DataFrame.\n",
      "Try using .loc[row_indexer,col_indexer] = value instead\n",
      "\n",
      "See the caveats in the documentation: https://pandas.pydata.org/pandas-docs/stable/user_guide/indexing.html#returning-a-view-versus-a-copy\n",
      "  tc[\"two_lines\"] = tc.phone_service == 2\n",
      "/var/folders/lt/mq77_h29005b8q_dkwt9pz000000gn/T/ipykernel_75784/2289786469.py:3: SettingWithCopyWarning: \n",
      "A value is trying to be set on a copy of a slice from a DataFrame.\n",
      "Try using .loc[row_indexer,col_indexer] = value instead\n",
      "\n",
      "See the caveats in the documentation: https://pandas.pydata.org/pandas-docs/stable/user_guide/indexing.html#returning-a-view-versus-a-copy\n",
      "  tc[\"no_line\"] = tc.phone_service == 0\n"
     ]
    }
   ],
   "source": [
    "tc[\"one_line\"] = tc.phone_service == 1\n",
    "tc[\"two_lines\"] = tc.phone_service == 2\n",
    "tc[\"no_line\"] = tc.phone_service == 0"
   ]
  },
  {
   "cell_type": "code",
   "execution_count": 63,
   "id": "ae0d6760",
   "metadata": {},
   "outputs": [
    {
     "data": {
      "text/plain": [
       "<seaborn.axisgrid.FacetGrid at 0x7ff1ca41be20>"
      ]
     },
     "execution_count": 63,
     "metadata": {},
     "output_type": "execute_result"
    },
    {
     "data": {
      "image/png": "[encoded data removed]",
      "text/plain": [
       "<Figure size 1080x360 with 3 Axes>"
      ]
     },
     "metadata": {
      "needs_background": "light"
     },
     "output_type": "display_data"
    }
   ],
   "source": [
    "sns.relplot(data=df, y='monthly_charges', x='tenure', col = \"internet_service\")"
   ]
  },
  {
   "cell_type": "markdown",
   "id": "c329643c",
   "metadata": {},
   "source": [
    "# CHI Square "
   ]
  },
  {
   "cell_type": "markdown",
   "id": "973dae32",
   "metadata": {},
   "source": [
    "### Exercise 1"
   ]
  },
  {
   "cell_type": "code",
   "execution_count": 120,
   "id": "ac117146",
   "metadata": {},
   "outputs": [
    {
     "data": {
      "text/html": [
       "<div>\n",
       "<style scoped>\n",
       "    .dataframe tbody tr th:only-of-type {\n",
       "        vertical-align: middle;\n",
       "    }\n",
       "\n",
       "    .dataframe tbody tr th {\n",
       "        vertical-align: top;\n",
       "    }\n",
       "\n",
       "    .dataframe thead th {\n",
       "        text-align: right;\n",
       "    }\n",
       "</style>\n",
       "<table border=\"1\" class=\"dataframe\">\n",
       "  <thead>\n",
       "    <tr style=\"text-align: right;\">\n",
       "      <th></th>\n",
       "      <th>Codeup Student</th>\n",
       "      <th>Not Codeup Student</th>\n",
       "    </tr>\n",
       "  </thead>\n",
       "  <tbody>\n",
       "    <tr>\n",
       "      <th>Uses Macbook</th>\n",
       "      <td>49</td>\n",
       "      <td>20</td>\n",
       "    </tr>\n",
       "    <tr>\n",
       "      <th>Doesn't Macbook</th>\n",
       "      <td>1</td>\n",
       "      <td>30</td>\n",
       "    </tr>\n",
       "  </tbody>\n",
       "</table>\n",
       "</div>"
      ],
      "text/plain": [
       "                 Codeup Student  Not Codeup Student\n",
       "Uses Macbook                 49                  20\n",
       "Doesn't Macbook               1                  30"
      ]
     },
     "execution_count": 120,
     "metadata": {},
     "output_type": "execute_result"
    }
   ],
   "source": [
    "index = [\"Uses Macbook\", \"Doesn't Macbook\"]\n",
    "columns = [\"Codeup Student\", \"Not Codeup Student\"]\n",
    "\n",
    "observed = pd.DataFrame([[49,20], [1,30]], index=index, columns=columns)\n",
    "observed"
   ]
  },
  {
   "cell_type": "code",
   "execution_count": 123,
   "id": "1e6aa7f5",
   "metadata": {},
   "outputs": [],
   "source": [
    "a = 0.05 "
   ]
  },
  {
   "cell_type": "code",
   "execution_count": 121,
   "id": "641b161f",
   "metadata": {},
   "outputs": [
    {
     "data": {
      "text/plain": [
       "1.4116760526193828e-09"
      ]
     },
     "execution_count": 121,
     "metadata": {},
     "output_type": "execute_result"
    }
   ],
   "source": [
    "chi2, p, degf, expected = stats.chi2_contingency(observed)\n",
    "p"
   ]
  },
  {
   "cell_type": "code",
   "execution_count": 124,
   "id": "6eae792e",
   "metadata": {},
   "outputs": [
    {
     "name": "stdout",
     "output_type": "stream",
     "text": [
      "Reject the null hypothesis\n"
     ]
    }
   ],
   "source": [
    "if p < a: \n",
    "    print(\"Reject the null hypothesis\")\n",
    "else: \n",
    "    print(\"Fail to reject the null hypothesis\")"
   ]
  },
  {
   "cell_type": "markdown",
   "id": "dc4ee84e",
   "metadata": {},
   "source": [
    "### Exercise 2 (simple version)"
   ]
  },
  {
   "cell_type": "code",
   "execution_count": 178,
   "id": "c306ef0a",
   "metadata": {},
   "outputs": [
    {
     "data": {
      "text/html": [
       "<div>\n",
       "<style scoped>\n",
       "    .dataframe tbody tr th:only-of-type {\n",
       "        vertical-align: middle;\n",
       "    }\n",
       "\n",
       "    .dataframe tbody tr th {\n",
       "        vertical-align: top;\n",
       "    }\n",
       "\n",
       "    .dataframe thead th {\n",
       "        text-align: right;\n",
       "    }\n",
       "</style>\n",
       "<table border=\"1\" class=\"dataframe\">\n",
       "  <thead>\n",
       "    <tr style=\"text-align: right;\">\n",
       "      <th></th>\n",
       "      <th>manufacturer</th>\n",
       "      <th>model</th>\n",
       "      <th>displ</th>\n",
       "      <th>year</th>\n",
       "      <th>cyl</th>\n",
       "      <th>trans</th>\n",
       "      <th>drv</th>\n",
       "      <th>cty</th>\n",
       "      <th>hwy</th>\n",
       "      <th>fl</th>\n",
       "      <th>vehicle_type</th>\n",
       "      <th>is_automatic</th>\n",
       "    </tr>\n",
       "  </thead>\n",
       "  <tbody>\n",
       "    <tr>\n",
       "      <th>1</th>\n",
       "      <td>audi</td>\n",
       "      <td>a4</td>\n",
       "      <td>1.8</td>\n",
       "      <td>1999</td>\n",
       "      <td>4</td>\n",
       "      <td>auto(l5)</td>\n",
       "      <td>f</td>\n",
       "      <td>18</td>\n",
       "      <td>29</td>\n",
       "      <td>p</td>\n",
       "      <td>compact</td>\n",
       "      <td>True</td>\n",
       "    </tr>\n",
       "  </tbody>\n",
       "</table>\n",
       "</div>"
      ],
      "text/plain": [
       "  manufacturer model  displ  year  cyl     trans drv  cty  hwy fl  \\\n",
       "1         audi    a4    1.8  1999    4  auto(l5)   f   18   29  p   \n",
       "\n",
       "  vehicle_type  is_automatic  \n",
       "1      compact          True  "
      ]
     },
     "execution_count": 178,
     "metadata": {},
     "output_type": "execute_result"
    }
   ],
   "source": [
    "df = data(\"mpg\")\n",
    "\n",
    "#Rename class \n",
    "df = df.rename(columns={\"class\": \"vehicle_type\"})\n",
    "\n",
    "#Specify automatic \n",
    "df[\"is_automatic\"] = df.trans.str.startswith(\"a\")\n",
    "df.head(1)"
   ]
  },
  {
   "cell_type": "code",
   "execution_count": 128,
   "id": "93bade83",
   "metadata": {},
   "outputs": [
    {
     "data": {
      "text/plain": [
       "0.0"
      ]
     },
     "execution_count": 128,
     "metadata": {},
     "output_type": "execute_result"
    }
   ],
   "source": [
    "#Are manufacturer and model independent of one another? \n",
    "observed = pd.crosstab(df.manufacturer, df.model)\n",
    "chi2, p , degf, expected = stats.chi2_contingency(observed)\n",
    "p"
   ]
  },
  {
   "cell_type": "markdown",
   "id": "486f4e89",
   "metadata": {},
   "source": [
    "### Exercise 2 with Automation "
   ]
  },
  {
   "cell_type": "code",
   "execution_count": 180,
   "id": "e41e1f3d",
   "metadata": {},
   "outputs": [
    {
     "data": {
      "text/plain": [
       "['manufacturer', 'model', 'drv', 'fl', 'vehicle_type', 'is_automatic']"
      ]
     },
     "execution_count": 180,
     "metadata": {},
     "output_type": "execute_result"
    }
   ],
   "source": [
    "categorical_columns = ['manufacturer', 'model', 'drv', 'fl', 'vehicle_type', 'is_automatic']\n",
    "categorical_columns"
   ]
  },
  {
   "cell_type": "code",
   "execution_count": 183,
   "id": "74c8128c",
   "metadata": {},
   "outputs": [
    {
     "data": {
      "text/plain": [
       "[('manufacturer', 'model'),\n",
       " ('manufacturer', 'drv'),\n",
       " ('manufacturer', 'fl'),\n",
       " ('manufacturer', 'vehicle_type'),\n",
       " ('manufacturer', 'is_automatic'),\n",
       " ('model', 'drv'),\n",
       " ('model', 'fl'),\n",
       " ('model', 'vehicle_type'),\n",
       " ('model', 'is_automatic'),\n",
       " ('drv', 'fl'),\n",
       " ('drv', 'vehicle_type'),\n",
       " ('drv', 'is_automatic'),\n",
       " ('fl', 'vehicle_type'),\n",
       " ('fl', 'is_automatic'),\n",
       " ('vehicle_type', 'is_automatic')]"
      ]
     },
     "execution_count": 183,
     "metadata": {},
     "output_type": "execute_result"
    }
   ],
   "source": [
    "combinations = list(itertools.combinations(categorical_columns, 2))\n",
    "combinations"
   ]
  },
  {
   "cell_type": "code",
   "execution_count": 185,
   "id": "d3df43c4",
   "metadata": {},
   "outputs": [
    {
     "data": {
      "text/html": [
       "<div>\n",
       "<style scoped>\n",
       "    .dataframe tbody tr th:only-of-type {\n",
       "        vertical-align: middle;\n",
       "    }\n",
       "\n",
       "    .dataframe tbody tr th {\n",
       "        vertical-align: top;\n",
       "    }\n",
       "\n",
       "    .dataframe thead th {\n",
       "        text-align: right;\n",
       "    }\n",
       "</style>\n",
       "<table border=\"1\" class=\"dataframe\">\n",
       "  <thead>\n",
       "    <tr style=\"text-align: right;\">\n",
       "      <th></th>\n",
       "      <th>column1</th>\n",
       "      <th>column2</th>\n",
       "      <th>p</th>\n",
       "      <th>reject_null</th>\n",
       "    </tr>\n",
       "  </thead>\n",
       "  <tbody>\n",
       "    <tr>\n",
       "      <th>0</th>\n",
       "      <td>manufacturer</td>\n",
       "      <td>model</td>\n",
       "      <td>0.000000e+00</td>\n",
       "      <td>True</td>\n",
       "    </tr>\n",
       "    <tr>\n",
       "      <th>1</th>\n",
       "      <td>manufacturer</td>\n",
       "      <td>drv</td>\n",
       "      <td>5.128094e-34</td>\n",
       "      <td>True</td>\n",
       "    </tr>\n",
       "    <tr>\n",
       "      <th>2</th>\n",
       "      <td>manufacturer</td>\n",
       "      <td>fl</td>\n",
       "      <td>1.062455e-13</td>\n",
       "      <td>True</td>\n",
       "    </tr>\n",
       "    <tr>\n",
       "      <th>3</th>\n",
       "      <td>manufacturer</td>\n",
       "      <td>vehicle_type</td>\n",
       "      <td>5.267718e-54</td>\n",
       "      <td>True</td>\n",
       "    </tr>\n",
       "    <tr>\n",
       "      <th>4</th>\n",
       "      <td>manufacturer</td>\n",
       "      <td>is_automatic</td>\n",
       "      <td>9.534443e-03</td>\n",
       "      <td>True</td>\n",
       "    </tr>\n",
       "    <tr>\n",
       "      <th>5</th>\n",
       "      <td>model</td>\n",
       "      <td>drv</td>\n",
       "      <td>1.473953e-58</td>\n",
       "      <td>True</td>\n",
       "    </tr>\n",
       "    <tr>\n",
       "      <th>6</th>\n",
       "      <td>model</td>\n",
       "      <td>fl</td>\n",
       "      <td>1.854690e-07</td>\n",
       "      <td>True</td>\n",
       "    </tr>\n",
       "    <tr>\n",
       "      <th>7</th>\n",
       "      <td>model</td>\n",
       "      <td>vehicle_type</td>\n",
       "      <td>9.146376e-164</td>\n",
       "      <td>True</td>\n",
       "    </tr>\n",
       "    <tr>\n",
       "      <th>8</th>\n",
       "      <td>model</td>\n",
       "      <td>is_automatic</td>\n",
       "      <td>5.171909e-02</td>\n",
       "      <td>False</td>\n",
       "    </tr>\n",
       "    <tr>\n",
       "      <th>9</th>\n",
       "      <td>drv</td>\n",
       "      <td>fl</td>\n",
       "      <td>5.845580e-01</td>\n",
       "      <td>False</td>\n",
       "    </tr>\n",
       "    <tr>\n",
       "      <th>10</th>\n",
       "      <td>drv</td>\n",
       "      <td>vehicle_type</td>\n",
       "      <td>1.104881e-40</td>\n",
       "      <td>True</td>\n",
       "    </tr>\n",
       "    <tr>\n",
       "      <th>11</th>\n",
       "      <td>drv</td>\n",
       "      <td>is_automatic</td>\n",
       "      <td>2.083815e-01</td>\n",
       "      <td>False</td>\n",
       "    </tr>\n",
       "    <tr>\n",
       "      <th>12</th>\n",
       "      <td>fl</td>\n",
       "      <td>vehicle_type</td>\n",
       "      <td>8.112252e-07</td>\n",
       "      <td>True</td>\n",
       "    </tr>\n",
       "    <tr>\n",
       "      <th>13</th>\n",
       "      <td>fl</td>\n",
       "      <td>is_automatic</td>\n",
       "      <td>4.671671e-01</td>\n",
       "      <td>False</td>\n",
       "    </tr>\n",
       "    <tr>\n",
       "      <th>14</th>\n",
       "      <td>vehicle_type</td>\n",
       "      <td>is_automatic</td>\n",
       "      <td>7.451373e-06</td>\n",
       "      <td>True</td>\n",
       "    </tr>\n",
       "  </tbody>\n",
       "</table>\n",
       "</div>"
      ],
      "text/plain": [
       "         column1       column2              p  reject_null\n",
       "0   manufacturer         model   0.000000e+00         True\n",
       "1   manufacturer           drv   5.128094e-34         True\n",
       "2   manufacturer            fl   1.062455e-13         True\n",
       "3   manufacturer  vehicle_type   5.267718e-54         True\n",
       "4   manufacturer  is_automatic   9.534443e-03         True\n",
       "5          model           drv   1.473953e-58         True\n",
       "6          model            fl   1.854690e-07         True\n",
       "7          model  vehicle_type  9.146376e-164         True\n",
       "8          model  is_automatic   5.171909e-02        False\n",
       "9            drv            fl   5.845580e-01        False\n",
       "10           drv  vehicle_type   1.104881e-40         True\n",
       "11           drv  is_automatic   2.083815e-01        False\n",
       "12            fl  vehicle_type   8.112252e-07         True\n",
       "13            fl  is_automatic   4.671671e-01        False\n",
       "14  vehicle_type  is_automatic   7.451373e-06         True"
      ]
     },
     "execution_count": 185,
     "metadata": {},
     "output_type": "execute_result"
    }
   ],
   "source": [
    "alpha = 0.05 \n",
    "outcomes = []\n",
    "for combination in combinations: \n",
    "    outcome = {}\n",
    "    outcome[\"column1\"] = combination[0]\n",
    "    outcome[\"column2\"] = combination[1]\n",
    "    observed = pd.crosstab (df[combination[0]], df[combination[1]])\n",
    "    \n",
    "    chi2, p, degf, expected = stats.chi2_contingency(observed)\n",
    "    \n",
    "    outcome[\"p\"] = p \n",
    "    \n",
    "    if p < alpha: \n",
    "        outcome[\"reject_null\"] = True \n",
    "    else: \n",
    "        outcome[\"reject_null\"] = False\n",
    "        \n",
    "    outcomes.append(outcome)\n",
    "\n",
    "pd.DataFrame(outcomes)"
   ]
  },
  {
   "cell_type": "markdown",
   "id": "0301b137",
   "metadata": {},
   "source": [
    "# Exercise 3 "
   ]
  },
  {
   "cell_type": "markdown",
   "id": "b603206d",
   "metadata": {},
   "source": [
    "Is an employee's gender independent of whether an employee works in sales or marketing? (only look at current employees)"
   ]
  },
  {
   "cell_type": "markdown",
   "id": "0e7a4ec9",
   "metadata": {},
   "source": [
    "Is an employee's gender independent of whether or not they are or have been a manager?"
   ]
  },
  {
   "cell_type": "code",
   "execution_count": 135,
   "id": "96dfb9c9",
   "metadata": {},
   "outputs": [
    {
     "data": {
      "text/html": [
       "<div>\n",
       "<style scoped>\n",
       "    .dataframe tbody tr th:only-of-type {\n",
       "        vertical-align: middle;\n",
       "    }\n",
       "\n",
       "    .dataframe tbody tr th {\n",
       "        vertical-align: top;\n",
       "    }\n",
       "\n",
       "    .dataframe thead th {\n",
       "        text-align: right;\n",
       "    }\n",
       "</style>\n",
       "<table border=\"1\" class=\"dataframe\">\n",
       "  <thead>\n",
       "    <tr style=\"text-align: right;\">\n",
       "      <th></th>\n",
       "      <th>gender</th>\n",
       "      <th>dept_name</th>\n",
       "    </tr>\n",
       "  </thead>\n",
       "  <tbody>\n",
       "    <tr>\n",
       "      <th>0</th>\n",
       "      <td>F</td>\n",
       "      <td>Marketing</td>\n",
       "    </tr>\n",
       "    <tr>\n",
       "      <th>1</th>\n",
       "      <td>M</td>\n",
       "      <td>Marketing</td>\n",
       "    </tr>\n",
       "    <tr>\n",
       "      <th>2</th>\n",
       "      <td>F</td>\n",
       "      <td>Marketing</td>\n",
       "    </tr>\n",
       "    <tr>\n",
       "      <th>3</th>\n",
       "      <td>F</td>\n",
       "      <td>Marketing</td>\n",
       "    </tr>\n",
       "    <tr>\n",
       "      <th>4</th>\n",
       "      <td>F</td>\n",
       "      <td>Marketing</td>\n",
       "    </tr>\n",
       "  </tbody>\n",
       "</table>\n",
       "</div>"
      ],
      "text/plain": [
       "  gender  dept_name\n",
       "0      F  Marketing\n",
       "1      M  Marketing\n",
       "2      F  Marketing\n",
       "3      F  Marketing\n",
       "4      F  Marketing"
      ]
     },
     "execution_count": 135,
     "metadata": {},
     "output_type": "execute_result"
    }
   ],
   "source": [
    "sql = '''\n",
    "SELECT gender, dept_name \n",
    "FROM employees \n",
    "JOIN dept_emp using(emp_no)\n",
    "JOIN departments using(dept_no)\n",
    "WHERE to_date > curdate()\n",
    "AND dept_name IN ('Sales', 'Marketing')\n",
    "'''\n",
    "\n",
    "url = get_db_url(\"employees\")\n",
    "\n",
    "df = pd.read_sql(sql, url)\n",
    "df.head()"
   ]
  },
  {
   "cell_type": "code",
   "execution_count": 131,
   "id": "dc5eea13",
   "metadata": {},
   "outputs": [
    {
     "data": {
      "text/plain": [
       "M    144114\n",
       "F     96010\n",
       "Name: gender, dtype: int64"
      ]
     },
     "execution_count": 131,
     "metadata": {},
     "output_type": "execute_result"
    }
   ],
   "source": [
    "df.gender.value_counts()"
   ]
  },
  {
   "cell_type": "code",
   "execution_count": 132,
   "id": "780a31b8",
   "metadata": {},
   "outputs": [
    {
     "data": {
      "text/html": [
       "<div>\n",
       "<style scoped>\n",
       "    .dataframe tbody tr th:only-of-type {\n",
       "        vertical-align: middle;\n",
       "    }\n",
       "\n",
       "    .dataframe tbody tr th {\n",
       "        vertical-align: top;\n",
       "    }\n",
       "\n",
       "    .dataframe thead th {\n",
       "        text-align: right;\n",
       "    }\n",
       "</style>\n",
       "<table border=\"1\" class=\"dataframe\">\n",
       "  <thead>\n",
       "    <tr style=\"text-align: right;\">\n",
       "      <th>dept_name</th>\n",
       "      <th>Customer Service</th>\n",
       "      <th>Development</th>\n",
       "      <th>Finance</th>\n",
       "      <th>Human Resources</th>\n",
       "      <th>Marketing</th>\n",
       "      <th>Production</th>\n",
       "      <th>Quality Management</th>\n",
       "      <th>Research</th>\n",
       "      <th>Sales</th>\n",
       "    </tr>\n",
       "    <tr>\n",
       "      <th>gender</th>\n",
       "      <th></th>\n",
       "      <th></th>\n",
       "      <th></th>\n",
       "      <th></th>\n",
       "      <th></th>\n",
       "      <th></th>\n",
       "      <th></th>\n",
       "      <th></th>\n",
       "      <th></th>\n",
       "    </tr>\n",
       "  </thead>\n",
       "  <tbody>\n",
       "    <tr>\n",
       "      <th>F</th>\n",
       "      <td>7007</td>\n",
       "      <td>24533</td>\n",
       "      <td>5014</td>\n",
       "      <td>5147</td>\n",
       "      <td>5864</td>\n",
       "      <td>21393</td>\n",
       "      <td>5872</td>\n",
       "      <td>6181</td>\n",
       "      <td>14999</td>\n",
       "    </tr>\n",
       "    <tr>\n",
       "      <th>M</th>\n",
       "      <td>10562</td>\n",
       "      <td>36853</td>\n",
       "      <td>7423</td>\n",
       "      <td>7751</td>\n",
       "      <td>8978</td>\n",
       "      <td>31911</td>\n",
       "      <td>8674</td>\n",
       "      <td>9260</td>\n",
       "      <td>22702</td>\n",
       "    </tr>\n",
       "  </tbody>\n",
       "</table>\n",
       "</div>"
      ],
      "text/plain": [
       "dept_name  Customer Service  Development  Finance  Human Resources  Marketing  \\\n",
       "gender                                                                          \n",
       "F                      7007        24533     5014             5147       5864   \n",
       "M                     10562        36853     7423             7751       8978   \n",
       "\n",
       "dept_name  Production  Quality Management  Research  Sales  \n",
       "gender                                                      \n",
       "F               21393                5872      6181  14999  \n",
       "M               31911                8674      9260  22702  "
      ]
     },
     "execution_count": 132,
     "metadata": {},
     "output_type": "execute_result"
    }
   ],
   "source": [
    "observed = pd.crosstab(df.gender, df.dept_name)\n",
    "observed"
   ]
  },
  {
   "cell_type": "code",
   "execution_count": 186,
   "id": "97f365f5",
   "metadata": {},
   "outputs": [
    {
     "data": {
      "text/plain": [
       "7.4513729838250925e-06"
      ]
     },
     "execution_count": 186,
     "metadata": {},
     "output_type": "execute_result"
    }
   ],
   "source": [
    "p"
   ]
  },
  {
   "cell_type": "code",
   "execution_count": 190,
   "id": "0f681661",
   "metadata": {},
   "outputs": [
    {
     "name": "stdout",
     "output_type": "stream",
     "text": [
      "Reject the null\n"
     ]
    }
   ],
   "source": [
    "chi2, p, degf, expected = stats.chi2_contingency(observed)\n",
    "if p < a:\n",
    "    print(\"Reject the null\")\n",
    "else: \n",
    "    print(\"Fail to reject the null\")"
   ]
  },
  {
   "cell_type": "markdown",
   "id": "1bda0031",
   "metadata": {},
   "source": [
    "### Exercise 3 Part 2 "
   ]
  },
  {
   "cell_type": "markdown",
   "id": "585c97a9",
   "metadata": {},
   "source": [
    "Is an employee's gender independent of whether or not they are or have been a manager?"
   ]
  },
  {
   "cell_type": "code",
   "execution_count": 191,
   "id": "613b26a9",
   "metadata": {},
   "outputs": [],
   "source": [
    "sql = '''\n",
    "SELECT gender, title \n",
    "FROM employees\n",
    "JOIN titles using(emp_no)\n",
    "'''"
   ]
  },
  {
   "cell_type": "code",
   "execution_count": 192,
   "id": "2a3750d2",
   "metadata": {},
   "outputs": [
    {
     "data": {
      "text/html": [
       "<div>\n",
       "<style scoped>\n",
       "    .dataframe tbody tr th:only-of-type {\n",
       "        vertical-align: middle;\n",
       "    }\n",
       "\n",
       "    .dataframe tbody tr th {\n",
       "        vertical-align: top;\n",
       "    }\n",
       "\n",
       "    .dataframe thead th {\n",
       "        text-align: right;\n",
       "    }\n",
       "</style>\n",
       "<table border=\"1\" class=\"dataframe\">\n",
       "  <thead>\n",
       "    <tr style=\"text-align: right;\">\n",
       "      <th></th>\n",
       "      <th>gender</th>\n",
       "      <th>title</th>\n",
       "    </tr>\n",
       "  </thead>\n",
       "  <tbody>\n",
       "    <tr>\n",
       "      <th>0</th>\n",
       "      <td>M</td>\n",
       "      <td>Senior Engineer</td>\n",
       "    </tr>\n",
       "    <tr>\n",
       "      <th>1</th>\n",
       "      <td>F</td>\n",
       "      <td>Staff</td>\n",
       "    </tr>\n",
       "    <tr>\n",
       "      <th>2</th>\n",
       "      <td>M</td>\n",
       "      <td>Senior Engineer</td>\n",
       "    </tr>\n",
       "    <tr>\n",
       "      <th>3</th>\n",
       "      <td>M</td>\n",
       "      <td>Engineer</td>\n",
       "    </tr>\n",
       "    <tr>\n",
       "      <th>4</th>\n",
       "      <td>M</td>\n",
       "      <td>Senior Engineer</td>\n",
       "    </tr>\n",
       "  </tbody>\n",
       "</table>\n",
       "</div>"
      ],
      "text/plain": [
       "  gender            title\n",
       "0      M  Senior Engineer\n",
       "1      F            Staff\n",
       "2      M  Senior Engineer\n",
       "3      M         Engineer\n",
       "4      M  Senior Engineer"
      ]
     },
     "execution_count": 192,
     "metadata": {},
     "output_type": "execute_result"
    }
   ],
   "source": [
    "df = pd.read_sql(sql, url)\n",
    "df.head()"
   ]
  },
  {
   "cell_type": "code",
   "execution_count": 139,
   "id": "2bb7f39c",
   "metadata": {},
   "outputs": [
    {
     "data": {
      "text/html": [
       "<div>\n",
       "<style scoped>\n",
       "    .dataframe tbody tr th:only-of-type {\n",
       "        vertical-align: middle;\n",
       "    }\n",
       "\n",
       "    .dataframe tbody tr th {\n",
       "        vertical-align: top;\n",
       "    }\n",
       "\n",
       "    .dataframe thead th {\n",
       "        text-align: right;\n",
       "    }\n",
       "</style>\n",
       "<table border=\"1\" class=\"dataframe\">\n",
       "  <thead>\n",
       "    <tr style=\"text-align: right;\">\n",
       "      <th></th>\n",
       "      <th>gender</th>\n",
       "      <th>title</th>\n",
       "      <th>is_manager</th>\n",
       "    </tr>\n",
       "  </thead>\n",
       "  <tbody>\n",
       "    <tr>\n",
       "      <th>0</th>\n",
       "      <td>M</td>\n",
       "      <td>Senior Engineer</td>\n",
       "      <td>False</td>\n",
       "    </tr>\n",
       "    <tr>\n",
       "      <th>1</th>\n",
       "      <td>F</td>\n",
       "      <td>Staff</td>\n",
       "      <td>False</td>\n",
       "    </tr>\n",
       "    <tr>\n",
       "      <th>2</th>\n",
       "      <td>M</td>\n",
       "      <td>Senior Engineer</td>\n",
       "      <td>False</td>\n",
       "    </tr>\n",
       "    <tr>\n",
       "      <th>3</th>\n",
       "      <td>M</td>\n",
       "      <td>Engineer</td>\n",
       "      <td>False</td>\n",
       "    </tr>\n",
       "    <tr>\n",
       "      <th>4</th>\n",
       "      <td>M</td>\n",
       "      <td>Senior Engineer</td>\n",
       "      <td>False</td>\n",
       "    </tr>\n",
       "  </tbody>\n",
       "</table>\n",
       "</div>"
      ],
      "text/plain": [
       "  gender            title  is_manager\n",
       "0      M  Senior Engineer       False\n",
       "1      F            Staff       False\n",
       "2      M  Senior Engineer       False\n",
       "3      M         Engineer       False\n",
       "4      M  Senior Engineer       False"
      ]
     },
     "execution_count": 139,
     "metadata": {},
     "output_type": "execute_result"
    }
   ],
   "source": [
    "df[\"is_manager\"] = df.title == \"Manager\"\n",
    "df.head()"
   ]
  },
  {
   "cell_type": "code",
   "execution_count": 193,
   "id": "86eb61df",
   "metadata": {},
   "outputs": [
    {
     "ename": "AttributeError",
     "evalue": "'DataFrame' object has no attribute 'is_manager'",
     "output_type": "error",
     "traceback": [
      "\u001b[0;31m---------------------------------------------------------------------------\u001b[0m",
      "\u001b[0;31mAttributeError\u001b[0m                            Traceback (most recent call last)",
      "\u001b[0;32m/var/folders/lt/mq77_h29005b8q_dkwt9pz000000gn/T/ipykernel_75784/1498272617.py\u001b[0m in \u001b[0;36m<module>\u001b[0;34m\u001b[0m\n\u001b[0;32m----> 1\u001b[0;31m \u001b[0mobserved\u001b[0m \u001b[0;34m=\u001b[0m \u001b[0mpd\u001b[0m\u001b[0;34m.\u001b[0m\u001b[0mcrosstab\u001b[0m\u001b[0;34m(\u001b[0m\u001b[0mdf\u001b[0m\u001b[0;34m.\u001b[0m\u001b[0mgender\u001b[0m\u001b[0;34m,\u001b[0m \u001b[0mdf\u001b[0m\u001b[0;34m.\u001b[0m\u001b[0mis_manager\u001b[0m\u001b[0;34m)\u001b[0m\u001b[0;34m\u001b[0m\u001b[0;34m\u001b[0m\u001b[0m\n\u001b[0m\u001b[1;32m      2\u001b[0m \u001b[0mobserved\u001b[0m\u001b[0;34m\u001b[0m\u001b[0;34m\u001b[0m\u001b[0m\n",
      "\u001b[0;32m/usr/local/anaconda3/lib/python3.9/site-packages/pandas/core/generic.py\u001b[0m in \u001b[0;36m__getattr__\u001b[0;34m(self, name)\u001b[0m\n\u001b[1;32m   5485\u001b[0m         ):\n\u001b[1;32m   5486\u001b[0m             \u001b[0;32mreturn\u001b[0m \u001b[0mself\u001b[0m\u001b[0;34m[\u001b[0m\u001b[0mname\u001b[0m\u001b[0;34m]\u001b[0m\u001b[0;34m\u001b[0m\u001b[0;34m\u001b[0m\u001b[0m\n\u001b[0;32m-> 5487\u001b[0;31m         \u001b[0;32mreturn\u001b[0m \u001b[0mobject\u001b[0m\u001b[0;34m.\u001b[0m\u001b[0m__getattribute__\u001b[0m\u001b[0;34m(\u001b[0m\u001b[0mself\u001b[0m\u001b[0;34m,\u001b[0m \u001b[0mname\u001b[0m\u001b[0;34m)\u001b[0m\u001b[0;34m\u001b[0m\u001b[0;34m\u001b[0m\u001b[0m\n\u001b[0m\u001b[1;32m   5488\u001b[0m \u001b[0;34m\u001b[0m\u001b[0m\n\u001b[1;32m   5489\u001b[0m     \u001b[0;32mdef\u001b[0m \u001b[0m__setattr__\u001b[0m\u001b[0;34m(\u001b[0m\u001b[0mself\u001b[0m\u001b[0;34m,\u001b[0m \u001b[0mname\u001b[0m\u001b[0;34m:\u001b[0m \u001b[0mstr\u001b[0m\u001b[0;34m,\u001b[0m \u001b[0mvalue\u001b[0m\u001b[0;34m)\u001b[0m \u001b[0;34m->\u001b[0m \u001b[0;32mNone\u001b[0m\u001b[0;34m:\u001b[0m\u001b[0;34m\u001b[0m\u001b[0;34m\u001b[0m\u001b[0m\n",
      "\u001b[0;31mAttributeError\u001b[0m: 'DataFrame' object has no attribute 'is_manager'"
     ]
    }
   ],
   "source": [
    "observed = pd.crosstab(df.gender, df.is_manager)\n",
    "observed"
   ]
  },
  {
   "cell_type": "code",
   "execution_count": 194,
   "id": "1cb96e3a",
   "metadata": {},
   "outputs": [
    {
     "data": {
      "text/plain": [
       "7.4513729838250925e-06"
      ]
     },
     "execution_count": 194,
     "metadata": {},
     "output_type": "execute_result"
    }
   ],
   "source": [
    "chi2, p, degf, expected = stats.chi2_contingency(observed)\n",
    "p"
   ]
  },
  {
   "cell_type": "code",
   "execution_count": 195,
   "id": "501bd054",
   "metadata": {},
   "outputs": [
    {
     "name": "stdout",
     "output_type": "stream",
     "text": [
      "Reject the null\n"
     ]
    }
   ],
   "source": [
    "if p < alpha: \n",
    "    print(\"Reject the null\")\n",
    "else: \n",
    "    print(\"Fail to reject the null\")"
   ]
  },
  {
   "cell_type": "code",
   "execution_count": null,
   "id": "252eecd8",
   "metadata": {},
   "outputs": [],
   "source": []
  },
  {
   "cell_type": "code",
   "execution_count": null,
   "id": "7021d642",
   "metadata": {},
   "outputs": [],
   "source": []
  },
  {
   "cell_type": "code",
   "execution_count": null,
   "id": "4879d436",
   "metadata": {},
   "outputs": [],
   "source": []
  },
  {
   "cell_type": "code",
   "execution_count": null,
   "id": "73d512ee",
   "metadata": {},
   "outputs": [],
   "source": []
  },
  {
   "cell_type": "code",
   "execution_count": null,
   "id": "a41c6eb6",
   "metadata": {},
   "outputs": [],
   "source": []
  },
  {
   "cell_type": "code",
   "execution_count": null,
   "id": "fffdb8aa",
   "metadata": {},
   "outputs": [],
   "source": []
  },
  {
   "cell_type": "code",
   "execution_count": null,
   "id": "b0131564",
   "metadata": {},
   "outputs": [],
   "source": []
  },
  {
   "cell_type": "code",
   "execution_count": null,
   "id": "4c821288",
   "metadata": {},
   "outputs": [],
   "source": []
  },
  {
   "cell_type": "code",
   "execution_count": null,
   "id": "08303585",
   "metadata": {},
   "outputs": [],
   "source": []
  },
  {
   "cell_type": "code",
   "execution_count": null,
   "id": "8f59eab4",
   "metadata": {},
   "outputs": [],
   "source": [
    "df[\"one_line\"] = df.phone_service == 1\n",
    "df[\"two_lines\"] = df.phone_service == 2\n",
    "df[\"no_line\"] = df.phone_service == 0"
   ]
  },
  {
   "cell_type": "code",
   "execution_count": null,
   "id": "23428cae",
   "metadata": {},
   "outputs": [],
   "source": []
  },
  {
   "cell_type": "code",
   "execution_count": null,
   "id": "0d3f219a",
   "metadata": {},
   "outputs": [],
   "source": []
  },
  {
   "cell_type": "code",
   "execution_count": null,
   "id": "e824c5e8",
   "metadata": {},
   "outputs": [],
   "source": []
  },
  {
   "cell_type": "code",
   "execution_count": null,
   "id": "20bbe4e5",
   "metadata": {},
   "outputs": [],
   "source": []
  }
 ],
 "metadata": {
  "kernelspec": {
   "display_name": "Python 3 (ipykernel)",
   "language": "python",
   "name": "python3"
  },
  "language_info": {
   "codemirror_mode": {
    "name": "ipython",
    "version": 3
   },
   "file_extension": ".py",
   "mimetype": "text/x-python",
   "name": "python",
   "nbconvert_exporter": "python",
   "pygments_lexer": "ipython3",
   "version": "3.9.7"
  }
 },
 "nbformat": 4,
 "nbformat_minor": 5
}
