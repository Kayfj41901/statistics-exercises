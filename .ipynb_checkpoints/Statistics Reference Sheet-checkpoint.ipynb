{
 "cells": [
  {
   "cell_type": "code",
   "execution_count": 88,
   "id": "66507d21",
   "metadata": {},
   "outputs": [],
   "source": [
    "import numpy as np\n",
    "import pandas as pd\n",
    "from scipy import stats\n",
    "import seaborn as sns\n",
    "from math import sqrt\n",
    "from pydataset import data\n",
    "np.random.seed(123)"
   ]
  },
  {
   "cell_type": "markdown",
   "id": "d3afe69f",
   "metadata": {},
   "source": [
    "### Simulations"
   ]
  },
  {
   "cell_type": "markdown",
   "id": "4fa42a41",
   "metadata": {},
   "source": [
    "Selects random options from a list : np.random.choice"
   ]
  },
  {
   "cell_type": "code",
   "execution_count": null,
   "id": "fac45a53",
   "metadata": {},
   "outputs": [],
   "source": [
    "#dice \n",
    "#pay five dollars and roll three dice, if the sum is greater than 12, you get 15 dollars\n",
    "n_trials = nrows = 10_000\n",
    "n_dice = ncols = 3\n",
    "\n",
    "rolls = np.random.choice([1, 2, 3, 4, 5, 6], n_trials * n_dice).reshape(nrows, ncols)\n",
    "sum_by_trial = rolls.sum(axis=1)\n",
    "wins = sums_by_trial > 12\n",
    "win_rate = wins.astype(int).mean()\n",
    "\n",
    "expected_winnings = win_rate * 15\n",
    "cost = 5 \n",
    "expected_profit = expected_winnings - cost"
   ]
  },
  {
   "cell_type": "code",
   "execution_count": 7,
   "id": "f23c339c",
   "metadata": {},
   "outputs": [
    {
     "data": {
      "text/plain": [
       "0.42177"
      ]
     },
     "execution_count": 7,
     "metadata": {},
     "output_type": "execute_result"
    }
   ],
   "source": [
    "#dice \n",
    "#at least one three in three dice rolls \n",
    "n_sim = nrows = 10**5 \n",
    "n_dice = ncols = 3\n",
    "rolls = np.random.choice([1, 2, 3, 4, 5, 6], nrows * ncols).reshape(nrows, ncols)\n",
    "\n",
    "(pd.DataFrame(rolls)\n",
    ".apply(lambda row: 3 in row.values, axis=1).mean())\n"
   ]
  },
  {
   "cell_type": "code",
   "execution_count": 10,
   "id": "abbdd9fe",
   "metadata": {},
   "outputs": [
    {
     "data": {
      "text/plain": [
       "0.1665"
      ]
     },
     "execution_count": 10,
     "metadata": {},
     "output_type": "execute_result"
    }
   ],
   "source": [
    "# dice \n",
    "#roll two heads \n",
    "#data frame method \n",
    "n_trials = 10_000 \n",
    "n_dice = 2\n",
    "rolls = np.random.choice([x for x in range(1,7)], size=(n_trials, n_dice))\n",
    "rolls = pd.DataFrame(rolls, columns = ['die1', 'die2'])\n",
    "(rolls.die1 == rolls.die2).mean()"
   ]
  },
  {
   "cell_type": "code",
   "execution_count": 12,
   "id": "1326009d",
   "metadata": {},
   "outputs": [
    {
     "data": {
      "text/plain": [
       "0.2249"
      ]
     },
     "execution_count": 12,
     "metadata": {},
     "output_type": "execute_result"
    }
   ],
   "source": [
    "#flip 8 coins, probability of exactly three heads \n",
    "n_flip = 10_000 \n",
    "coins = 8 \n",
    "flips = np.random.choice([x for x in range(2)], n_flip*coins)\n",
    "flips = flips.reshape(n_flip, coins)\n",
    "heads_per_flip = flips.sum(axis=1)\n",
    "(heads_per_flip == 3).mean()"
   ]
  },
  {
   "cell_type": "code",
   "execution_count": 13,
   "id": "8840e1d2",
   "metadata": {},
   "outputs": [
    {
     "data": {
      "text/plain": [
       "0.6298"
      ]
     },
     "execution_count": 13,
     "metadata": {},
     "output_type": "execute_result"
    }
   ],
   "source": [
    "#Flip 8 coins, probability of more than three heads\n",
    "(heads_per_flip > 3).mean()"
   ]
  },
  {
   "cell_type": "markdown",
   "id": "27150d21",
   "metadata": {},
   "source": [
    "Generates numbers between a given lower and upper bound: np.random.uniform"
   ]
  },
  {
   "cell_type": "markdown",
   "id": "6644710b",
   "metadata": {},
   "source": [
    "Generates numbers between 0 and 1: np.random.random"
   ]
  },
  {
   "cell_type": "code",
   "execution_count": null,
   "id": "57024577",
   "metadata": {},
   "outputs": [],
   "source": [
    "#30% chance my son takes a nap on any given weekend day. What is the chance that he takes a nap at least one day this weekend? What is the probability that he doesn't nap at all? \n",
    "p_nap = .3\n",
    "ndays = ncols = 2\n",
    "n_simulated_weekends = nrows = 10**5 \n",
    "data = np.random.random((nrows, ncols))\n",
    "naps = data < p_nap \n",
    "naps.sum(axis = 1)\n",
    "#1 nap\n",
    "(naps.sum(axis=1) >= 1).mean()\n",
    "# 0 naps \n",
    "(naps.sum(axis=1) >= 0).mean()"
   ]
  },
  {
   "cell_type": "markdown",
   "id": "bcbdde0d",
   "metadata": {},
   "source": [
    "Generates numbers from the standard normal distribution: np.random.randn"
   ]
  },
  {
   "cell_type": "markdown",
   "id": "4593ffbc",
   "metadata": {},
   "source": [
    "Generates numbers from a normal distribution with a specified mean and standard deviation: np.random.normal"
   ]
  },
  {
   "cell_type": "code",
   "execution_count": 14,
   "id": "8a1b3760",
   "metadata": {},
   "outputs": [
    {
     "data": {
      "text/plain": [
       "0.6706"
      ]
     },
     "execution_count": 14,
     "metadata": {},
     "output_type": "execute_result"
    }
   ],
   "source": [
    "#poptarts: students buy 3 poptarts with std of 1.5 per day from snack machine. If the machine is restocked on Monday, how likely is it that I will be able to buy poptarts on Friday afternoon?\n",
    "days_per_week = 5\n",
    "weeks_to_simulate = 10_000\n",
    "simulations = np.random.normal(3, 1.5, (weeks_to_simulate, days_per_week)).round()\n",
    "(simulations.sum(axis=1) < 17).mean()"
   ]
  },
  {
   "cell_type": "markdown",
   "id": "1a048b34",
   "metadata": {},
   "source": [
    "### Probability Distributions"
   ]
  },
  {
   "cell_type": "code",
   "execution_count": null,
   "id": "6dd57e92",
   "metadata": {},
   "outputs": [],
   "source": [
    "#Poisson "
   ]
  },
  {
   "cell_type": "code",
   "execution_count": 21,
   "id": "4e102898",
   "metadata": {},
   "outputs": [
    {
     "data": {
      "text/plain": [
       "0.1353352832366127"
      ]
     },
     "execution_count": 21,
     "metadata": {},
     "output_type": "execute_result"
    }
   ],
   "source": [
    "#AVG number cars waiting during noon hour at bank follows poisson distribution with mean 2 \n",
    "#what is the probability that no cars drive up in the noon hour? \n",
    "mean = 2 \n",
    "bank_drive = stats.poisson(mean)\n",
    "bank_drive.pmf(0)"
   ]
  },
  {
   "cell_type": "code",
   "execution_count": 22,
   "id": "cf3e653d",
   "metadata": {},
   "outputs": [
    {
     "data": {
      "text/plain": [
       "0.32332358381693654"
      ]
     },
     "execution_count": 22,
     "metadata": {},
     "output_type": "execute_result"
    }
   ],
   "source": [
    "#Probability 3 or more cars drive through \n",
    "bank_drive.sf(2)"
   ]
  },
  {
   "cell_type": "code",
   "execution_count": 23,
   "id": "a6198957",
   "metadata": {},
   "outputs": [
    {
     "data": {
      "text/plain": [
       "0.8646647167633873"
      ]
     },
     "execution_count": 23,
     "metadata": {},
     "output_type": "execute_result"
    }
   ],
   "source": [
    "#Probability at least 1 car drives through \n",
    "bank_drive.sf(0)"
   ]
  },
  {
   "cell_type": "code",
   "execution_count": null,
   "id": "e3c424f7",
   "metadata": {},
   "outputs": [],
   "source": [
    "#Normal Distribution "
   ]
  },
  {
   "cell_type": "code",
   "execution_count": null,
   "id": "d0aa604e",
   "metadata": {},
   "outputs": [],
   "source": [
    "#State University Graduates: mean of 3.0 and standard deviation of 0.3"
   ]
  },
  {
   "cell_type": "code",
   "execution_count": 25,
   "id": "09cd5915",
   "metadata": {},
   "outputs": [],
   "source": [
    "#Setup\n",
    "mu = 3.0 \n",
    "std = 0.3 \n",
    "grade_distribution = stats.norm(mu, std)"
   ]
  },
  {
   "cell_type": "code",
   "execution_count": 26,
   "id": "405cb254",
   "metadata": {},
   "outputs": [
    {
     "data": {
      "text/plain": [
       "3.4934560880854417"
      ]
     },
     "execution_count": 26,
     "metadata": {},
     "output_type": "execute_result"
    }
   ],
   "source": [
    "#What GPA is required to be in the top 5% \n",
    "grade_distribution.isf(0.05)"
   ]
  },
  {
   "cell_type": "code",
   "execution_count": 27,
   "id": "2ca61cba",
   "metadata": {},
   "outputs": [
    {
     "data": {
      "text/plain": [
       "2.689069983151863"
      ]
     },
     "execution_count": 27,
     "metadata": {},
     "output_type": "execute_result"
    }
   ],
   "source": [
    "#What GPA constitutes the bottom 15% of the class? \n",
    "grade_distribution.ppf(0.15)"
   ]
  },
  {
   "cell_type": "code",
   "execution_count": 29,
   "id": "5766755d",
   "metadata": {},
   "outputs": [
    {
     "data": {
      "text/plain": [
       "[{2.7475136299281258}, {2.842679846187588}]"
      ]
     },
     "execution_count": 29,
     "metadata": {},
     "output_type": "execute_result"
    }
   ],
   "source": [
    "#Scholarship for students in the third decile \n",
    "third_decile = [{grade_distribution.ppf(0.2)}, {grade_distribution.ppf(0.3)}]\n",
    "third_decile"
   ]
  },
  {
   "cell_type": "code",
   "execution_count": 30,
   "id": "265cd6d2",
   "metadata": {},
   "outputs": [
    {
     "data": {
      "text/plain": [
       "0.9522096477271853"
      ]
     },
     "execution_count": 30,
     "metadata": {},
     "output_type": "execute_result"
    }
   ],
   "source": [
    "#if i have a GPA of 3.5, what percentile am I in? \n",
    "grade_distribution.cdf(3.5)"
   ]
  },
  {
   "cell_type": "code",
   "execution_count": null,
   "id": "ce9a8cc5",
   "metadata": {},
   "outputs": [],
   "source": [
    "#Binomial Distribution "
   ]
  },
  {
   "cell_type": "code",
   "execution_count": 33,
   "id": "e9c23aca",
   "metadata": {},
   "outputs": [
    {
     "data": {
      "text/plain": [
       "0.13975823631416445"
      ]
     },
     "execution_count": 33,
     "metadata": {},
     "output_type": "execute_result"
    }
   ],
   "source": [
    "#Website has an average click-through rate of 2%. One day: 4326 visitors/97 click throughs\n",
    "#What is the probability of 97 people or more clicking through?\n",
    "n_visitors = 4326 \n",
    "p_clickthrough = 0.02\n",
    "click_distribution = stats.binom(n_visitors, p_clickthrough)\n",
    "click_distribution.sf(96)"
   ]
  },
  {
   "cell_type": "code",
   "execution_count": 34,
   "id": "21f84fb9",
   "metadata": {},
   "outputs": [
    {
     "data": {
      "text/plain": [
       "0.45284335760923855"
      ]
     },
     "execution_count": 34,
     "metadata": {},
     "output_type": "execute_result"
    }
   ],
   "source": [
    "#Homework 100 questions where answers are probability rounded to hundreths\n",
    "#Probability that 1 of your first 60 is correct \n",
    "#setup \n",
    "answers_distribution = stats.binom(60, 0.01)\n",
    "answers_distribution.sf(0)"
   ]
  },
  {
   "cell_type": "code",
   "execution_count": 36,
   "id": "b81596e3",
   "metadata": {},
   "outputs": [],
   "source": [
    "#Uniform Distribution \n",
    "#Dice \n",
    "die_distribution = stats.randint(1, 7)"
   ]
  },
  {
   "cell_type": "code",
   "execution_count": 37,
   "id": "859e6376",
   "metadata": {},
   "outputs": [
    {
     "data": {
      "text/plain": [
       "0.16666666666666666"
      ]
     },
     "execution_count": 37,
     "metadata": {},
     "output_type": "execute_result"
    }
   ],
   "source": [
    "#Probability rolling a 3 \n",
    "die_distribution.pmf(3)"
   ]
  },
  {
   "cell_type": "code",
   "execution_count": 38,
   "id": "4e1bb152",
   "metadata": {},
   "outputs": [
    {
     "data": {
      "text/plain": [
       "0.5"
      ]
     },
     "execution_count": 38,
     "metadata": {},
     "output_type": "execute_result"
    }
   ],
   "source": [
    "#Probability rolling a 3 or lower? \n",
    "die_distribution.cdf(3)"
   ]
  },
  {
   "cell_type": "code",
   "execution_count": 40,
   "id": "c414b406",
   "metadata": {},
   "outputs": [
    {
     "data": {
      "text/plain": [
       "5.0"
      ]
     },
     "execution_count": 40,
     "metadata": {},
     "output_type": "execute_result"
    }
   ],
   "source": [
    "#Given probability, what is the value? \n",
    "die_distribution.ppf(5/6)"
   ]
  },
  {
   "cell_type": "code",
   "execution_count": 41,
   "id": "adfdceda",
   "metadata": {},
   "outputs": [
    {
     "data": {
      "text/plain": [
       "0.33333333333333337"
      ]
     },
     "execution_count": 41,
     "metadata": {},
     "output_type": "execute_result"
    }
   ],
   "source": [
    "#Probability roll higher than 4 \n",
    "die_distribution.sf(4)"
   ]
  },
  {
   "cell_type": "code",
   "execution_count": null,
   "id": "6b2e60c2",
   "metadata": {},
   "outputs": [],
   "source": [
    "# there is a 1/3 chance a dice roll will be higher than what value?\n",
    "die_distribution.isf(1/3)"
   ]
  },
  {
   "cell_type": "markdown",
   "id": "5893406a",
   "metadata": {},
   "source": [
    "### Hypothesis Testing "
   ]
  },
  {
   "cell_type": "markdown",
   "id": "7f5e6f67",
   "metadata": {},
   "source": [
    "### T-TEST"
   ]
  },
  {
   "cell_type": "code",
   "execution_count": 43,
   "id": "48e8b4c5",
   "metadata": {},
   "outputs": [
    {
     "data": {
      "text/html": [
       "<div>\n",
       "<style scoped>\n",
       "    .dataframe tbody tr th:only-of-type {\n",
       "        vertical-align: middle;\n",
       "    }\n",
       "\n",
       "    .dataframe tbody tr th {\n",
       "        vertical-align: top;\n",
       "    }\n",
       "\n",
       "    .dataframe thead th {\n",
       "        text-align: right;\n",
       "    }\n",
       "</style>\n",
       "<table border=\"1\" class=\"dataframe\">\n",
       "  <thead>\n",
       "    <tr style=\"text-align: right;\">\n",
       "      <th></th>\n",
       "      <th>customer_id</th>\n",
       "      <th>gender</th>\n",
       "      <th>is_senior_citizen</th>\n",
       "      <th>partner</th>\n",
       "      <th>dependents</th>\n",
       "      <th>phone_service</th>\n",
       "      <th>internet_service</th>\n",
       "      <th>contract_type</th>\n",
       "      <th>payment_type</th>\n",
       "      <th>monthly_charges</th>\n",
       "      <th>total_charges</th>\n",
       "      <th>churn</th>\n",
       "      <th>tenure</th>\n",
       "    </tr>\n",
       "  </thead>\n",
       "  <tbody>\n",
       "    <tr>\n",
       "      <th>0</th>\n",
       "      <td>0002-ORFBO</td>\n",
       "      <td>Female</td>\n",
       "      <td>0</td>\n",
       "      <td>Yes</td>\n",
       "      <td>Yes</td>\n",
       "      <td>1</td>\n",
       "      <td>1</td>\n",
       "      <td>1</td>\n",
       "      <td>Mailed check</td>\n",
       "      <td>65.6</td>\n",
       "      <td>593.30</td>\n",
       "      <td>No</td>\n",
       "      <td>9.0</td>\n",
       "    </tr>\n",
       "    <tr>\n",
       "      <th>1</th>\n",
       "      <td>0003-MKNFE</td>\n",
       "      <td>Male</td>\n",
       "      <td>0</td>\n",
       "      <td>No</td>\n",
       "      <td>No</td>\n",
       "      <td>2</td>\n",
       "      <td>1</td>\n",
       "      <td>0</td>\n",
       "      <td>Mailed check</td>\n",
       "      <td>59.9</td>\n",
       "      <td>542.40</td>\n",
       "      <td>No</td>\n",
       "      <td>9.1</td>\n",
       "    </tr>\n",
       "    <tr>\n",
       "      <th>2</th>\n",
       "      <td>0004-TLHLJ</td>\n",
       "      <td>Male</td>\n",
       "      <td>0</td>\n",
       "      <td>No</td>\n",
       "      <td>No</td>\n",
       "      <td>1</td>\n",
       "      <td>2</td>\n",
       "      <td>0</td>\n",
       "      <td>Electronic check</td>\n",
       "      <td>73.9</td>\n",
       "      <td>280.85</td>\n",
       "      <td>Yes</td>\n",
       "      <td>3.8</td>\n",
       "    </tr>\n",
       "    <tr>\n",
       "      <th>3</th>\n",
       "      <td>0011-IGKFF</td>\n",
       "      <td>Male</td>\n",
       "      <td>1</td>\n",
       "      <td>Yes</td>\n",
       "      <td>No</td>\n",
       "      <td>1</td>\n",
       "      <td>2</td>\n",
       "      <td>0</td>\n",
       "      <td>Electronic check</td>\n",
       "      <td>98.0</td>\n",
       "      <td>1237.85</td>\n",
       "      <td>Yes</td>\n",
       "      <td>12.6</td>\n",
       "    </tr>\n",
       "    <tr>\n",
       "      <th>4</th>\n",
       "      <td>0013-EXCHZ</td>\n",
       "      <td>Female</td>\n",
       "      <td>1</td>\n",
       "      <td>Yes</td>\n",
       "      <td>No</td>\n",
       "      <td>1</td>\n",
       "      <td>2</td>\n",
       "      <td>0</td>\n",
       "      <td>Mailed check</td>\n",
       "      <td>83.9</td>\n",
       "      <td>267.40</td>\n",
       "      <td>Yes</td>\n",
       "      <td>3.2</td>\n",
       "    </tr>\n",
       "  </tbody>\n",
       "</table>\n",
       "</div>"
      ],
      "text/plain": [
       "  customer_id  gender  is_senior_citizen partner dependents  phone_service  \\\n",
       "0  0002-ORFBO  Female                  0     Yes        Yes              1   \n",
       "1  0003-MKNFE    Male                  0      No         No              2   \n",
       "2  0004-TLHLJ    Male                  0      No         No              1   \n",
       "3  0011-IGKFF    Male                  1     Yes         No              1   \n",
       "4  0013-EXCHZ  Female                  1     Yes         No              1   \n",
       "\n",
       "   internet_service  contract_type      payment_type  monthly_charges  \\\n",
       "0                 1              1      Mailed check             65.6   \n",
       "1                 1              0      Mailed check             59.9   \n",
       "2                 2              0  Electronic check             73.9   \n",
       "3                 2              0  Electronic check             98.0   \n",
       "4                 2              0      Mailed check             83.9   \n",
       "\n",
       "   total_charges churn  tenure  \n",
       "0         593.30    No     9.0  \n",
       "1         542.40    No     9.1  \n",
       "2         280.85   Yes     3.8  \n",
       "3        1237.85   Yes    12.6  \n",
       "4         267.40   Yes     3.2  "
      ]
     },
     "execution_count": 43,
     "metadata": {},
     "output_type": "execute_result"
    }
   ],
   "source": [
    "df = pd.read_csv('telco_churn.csv')\n",
    "df.head()"
   ]
  },
  {
   "cell_type": "markdown",
   "id": "3400820e",
   "metadata": {},
   "source": [
    "### One Sample T-Test"
   ]
  },
  {
   "cell_type": "code",
   "execution_count": 44,
   "id": "5d1a7e57",
   "metadata": {},
   "outputs": [
    {
     "name": "stdout",
     "output_type": "stream",
     "text": [
      "16.94463703366894 2.5278893572028665e-60 0.05\n"
     ]
    }
   ],
   "source": [
    "#H0: Mean of monthly charges of churned customers <= Mean of monthly charges of all customers \n",
    "#HA: Mean of monthly charges of churned customers > Mean of monthly charges of all customers \n",
    "alpha = 0.05 \n",
    "#comfirm sample is large enough\n",
    "df.churn.value_counts()\n",
    "#compute test statistic and probability (t-statistic & p-value)\n",
    "churn_sample = df[df.churn == 'Yes'].monthly_charges\n",
    "overall_mean = df.monthly_charges.mean()\n",
    "t, p = stats.ttest_1samp(churn_sample, overall_mean)\n",
    "print(t, p/2, alpha)"
   ]
  },
  {
   "cell_type": "code",
   "execution_count": 45,
   "id": "bde993ee",
   "metadata": {},
   "outputs": [
    {
     "name": "stdout",
     "output_type": "stream",
     "text": [
      "We reject $H_{0}$\n"
     ]
    }
   ],
   "source": [
    "if p/2 > alpha:\n",
    "    print(\"We fail to reject $H_{0}$\")\n",
    "elif t < 0:\n",
    "    print(\"We fail to reject $H_{0}$\")\n",
    "else:\n",
    "    print(\"We reject $H_{0}$\")"
   ]
  },
  {
   "cell_type": "code",
   "execution_count": 47,
   "id": "847632a2",
   "metadata": {},
   "outputs": [
    {
     "name": "stdout",
     "output_type": "stream",
     "text": [
      "16.94463703366894 5.055778714405733e-60 0.05\n"
     ]
    }
   ],
   "source": [
    "#H0: Mean of monthly charges of churned customers = mean of monthly charges of all customers\n",
    "#HA: mean of monthly charges of churned customers != mean of monthly charges of all customers\n",
    "#set alpha\n",
    "alpha = 0.05 \n",
    "#check if sample is large enough \n",
    "df.monthly_charges.value_counts()\n",
    "#compute statistics \n",
    "t, p = stats.ttest_1samp(churn_sample, overall_mean)\n",
    "print(t, p, alpha)"
   ]
  },
  {
   "cell_type": "code",
   "execution_count": 90,
   "id": "08d3f22e",
   "metadata": {},
   "outputs": [
    {
     "name": "stdout",
     "output_type": "stream",
     "text": [
      "We reject $H_{0}$\n"
     ]
    }
   ],
   "source": [
    "if p > alpha:\n",
    "    print(\"We fail to reject $H_{0}$\")\n",
    "else:\n",
    "    print(\"We reject $H_{0}$\")"
   ]
  },
  {
   "cell_type": "code",
   "execution_count": 52,
   "id": "064080a6",
   "metadata": {},
   "outputs": [
    {
     "name": "stdout",
     "output_type": "stream",
     "text": [
      "16.94463703366894 2.5278893572028665e-60 0.05\n"
     ]
    }
   ],
   "source": [
    "#H0: Mean of monthly charges of churned customers >= Mean of monthly charges of all customers\n",
    "#HA: Mean of monthly charges of churned customers < mean of monthly charges of all customers \n",
    "#set alpha\n",
    "alpha = 0.05 \n",
    "#check to see if sample size is large enough \n",
    "df.monthly_charges.value_counts()\n",
    "#compute test statistics \n",
    "t, p = stats.ttest_1samp(churn_sample, overall_mean)\n",
    "print(t, p/2, alpha)"
   ]
  },
  {
   "cell_type": "code",
   "execution_count": 53,
   "id": "18252df2",
   "metadata": {},
   "outputs": [
    {
     "name": "stdout",
     "output_type": "stream",
     "text": [
      "We reject $H_{0}$\n"
     ]
    }
   ],
   "source": [
    "if p/2 > alpha:\n",
    "    print(\"We fail to reject $H_{0}$\")\n",
    "elif t < 0:\n",
    "    print(\"We fail to reject $H_{0}$\")\n",
    "else:\n",
    "    print(\"We reject $H_{0}$\")"
   ]
  },
  {
   "cell_type": "markdown",
   "id": "a7e6384e",
   "metadata": {},
   "source": [
    "### Independent T-Test \n",
    "### Two Sample T-Test \n",
    "#Compare mean of group a to mean of group b "
   ]
  },
  {
   "cell_type": "code",
   "execution_count": 57,
   "id": "ac524870",
   "metadata": {},
   "outputs": [],
   "source": [
    "no_churn_sample = df[df.churn == 'No'].monthly_charges"
   ]
  },
  {
   "cell_type": "code",
   "execution_count": 60,
   "id": "a12bb2fc",
   "metadata": {},
   "outputs": [
    {
     "name": "stdout",
     "output_type": "stream",
     "text": [
      "609.121189260892\n",
      "967.3313950133302\n",
      "18.38622417075037 6.175772779771316e-73 0.05\n"
     ]
    }
   ],
   "source": [
    "#H0:Mean of monthly charges of churned customers <= mean of monthly charges of customers who haven't churned \n",
    "#HA: Mean of monthly charges of churned customers > mean of monthly charges of customers who haven't churned\n",
    "#set alpha \n",
    "alpha = 0.05 \n",
    "#I really don't understand how to test if variances are equal \n",
    "print(churn_sample.var())\n",
    "print(no_churn_sample.var())\n",
    "#compute the test statistic \n",
    "t, p = stats.ttest_ind(churn_sample, no_churn_sample, equal_var=False)\n",
    "print(t, p/2, alpha)\n"
   ]
  },
  {
   "cell_type": "code",
   "execution_count": 61,
   "id": "f5cf6bef",
   "metadata": {},
   "outputs": [
    {
     "name": "stdout",
     "output_type": "stream",
     "text": [
      "We reject $H_{0}$\n"
     ]
    }
   ],
   "source": [
    "if p / 2 > alpha:\n",
    "    print(\"We fail to reject $H_{0}$\")\n",
    "elif t < 0:\n",
    "    print(\"We fail to reject $H_{0}$\")\n",
    "else:\n",
    "    print(\"We reject $H_{0}$\")"
   ]
  },
  {
   "cell_type": "code",
   "execution_count": 62,
   "id": "5fa3b6a9",
   "metadata": {},
   "outputs": [
    {
     "name": "stdout",
     "output_type": "stream",
     "text": [
      "18.38622417075037 1.2351545559542633e-72 0.05\n"
     ]
    }
   ],
   "source": [
    "#H0: charges of customers who churn equals that of those who don't churn \n",
    "#HA: charges of customers who churn is not equal to that of those who don't churn \n",
    "#set alpha \n",
    "alpha = 0.05\n",
    "#compute statistics \n",
    "t, p = stats.ttest_ind(churn_sample, no_churn_sample, equal_var=False)\n",
    "print(t, p, alpha)"
   ]
  },
  {
   "cell_type": "code",
   "execution_count": 63,
   "id": "112750f5",
   "metadata": {},
   "outputs": [
    {
     "name": "stdout",
     "output_type": "stream",
     "text": [
      "We reject $H_{0}$\n"
     ]
    }
   ],
   "source": [
    "if p  > alpha:\n",
    "    print(\"We fail to reject $H_{0}$\")\n",
    "else:\n",
    "    print(\"We reject $H_{0}$\")"
   ]
  },
  {
   "cell_type": "code",
   "execution_count": 65,
   "id": "f0bbc7d3",
   "metadata": {},
   "outputs": [
    {
     "name": "stdout",
     "output_type": "stream",
     "text": [
      "18.38622417075037 6.175772779771316e-73 0.05\n"
     ]
    }
   ],
   "source": [
    "#H0: Charges of customers who churn is equal or greater than that of those who don't churn \n",
    "#HA: Charges of customers who churn is less than that of those who don't churn \n",
    "#Set Alpha \n",
    "alpha = 0.05 \n",
    "#Check for variances \n",
    "#compute statistics \n",
    "t, p = stats.ttest_ind(churn_sample, no_churn_sample, equal_var=False)\n",
    "print(t, p/2, alpha)"
   ]
  },
  {
   "cell_type": "code",
   "execution_count": 66,
   "id": "2526df9a",
   "metadata": {},
   "outputs": [
    {
     "name": "stdout",
     "output_type": "stream",
     "text": [
      "We reject $H_{0}$\n"
     ]
    }
   ],
   "source": [
    "if p / 2 > alpha:\n",
    "    print(\"We fail to reject $H_{0}$\")\n",
    "elif t < 0:\n",
    "    print(\"We fail to reject $H_{0}$\")\n",
    "else:\n",
    "    print(\"We reject $H_{0}$\")"
   ]
  },
  {
   "cell_type": "markdown",
   "id": "3ef89a3e",
   "metadata": {},
   "source": [
    "### ANOVA Analysis of Variance \n",
    "#Compare means of groups a, b, & c "
   ]
  },
  {
   "cell_type": "code",
   "execution_count": 74,
   "id": "8692bb05",
   "metadata": {},
   "outputs": [
    {
     "data": {
      "text/plain": [
       "setosa        50\n",
       "versicolor    50\n",
       "virginica     50\n",
       "Name: species, dtype: int64"
      ]
     },
     "execution_count": 74,
     "metadata": {},
     "output_type": "execute_result"
    }
   ],
   "source": [
    "df = sns.load_dataset('iris')\n",
    "df.species.value_counts()"
   ]
  },
  {
   "cell_type": "code",
   "execution_count": 76,
   "id": "ebf168e4",
   "metadata": {},
   "outputs": [],
   "source": [
    "versicolor_sepal_length = df[df.species == 'versicolor'].sepal_length\n",
    "virginica_sepal_length = df[df.species == 'virginica'].sepal_length\n",
    "setosa_sepal_length = df[df.species == 'setosa'].sepal_length"
   ]
  },
  {
   "cell_type": "code",
   "execution_count": 77,
   "id": "bf6c0758",
   "metadata": {},
   "outputs": [
    {
     "name": "stdout",
     "output_type": "stream",
     "text": [
      "0.2664326530612246\n",
      "0.40434285714285706\n",
      "0.12424897959183666\n",
      "119.26450218450472 1.6696691907693648e-31 0.05\n"
     ]
    }
   ],
   "source": [
    "#H0: population means of the sepal length for the three species, versicolor, virginica, & setosa, are all equal.\n",
    "#HA: population means of the sepal length for the three species, versicolor, virginica, & setosa, are NOT all equal.\n",
    "#Set significance \n",
    "alpha = 0.05 \n",
    "#check for variance \n",
    "print(versicolor_sepal_length.var())\n",
    "print(virginica_sepal_length.var())\n",
    "print(setosa_sepal_length.var())\n",
    "#compute test statistic \n",
    "f, p = stats.f_oneway(versicolor_sepal_length, virginica_sepal_length, setosa_sepal_length)\n",
    "print(f, p, alpha)\n",
    "    "
   ]
  },
  {
   "cell_type": "code",
   "execution_count": 78,
   "id": "c386ec03",
   "metadata": {},
   "outputs": [
    {
     "name": "stdout",
     "output_type": "stream",
     "text": [
      "We reject $H_{0}$\n"
     ]
    }
   ],
   "source": [
    "if p < alpha:\n",
    "    print(\"We reject $H_{0}$\")\n",
    "else:\n",
    "    print(\"We fail to reject $H_{0}$\")"
   ]
  },
  {
   "cell_type": "code",
   "execution_count": 83,
   "id": "d8b743a7",
   "metadata": {},
   "outputs": [
    {
     "name": "stdout",
     "output_type": "stream",
     "text": [
      "1591.8336567413864\n",
      "317.5238558909445\n",
      "406.3397717295875\n"
     ]
    }
   ],
   "source": [
    "#import dataset \n",
    "df = sns.load_dataset('mpg')\n",
    "#check sample size \n",
    "df.origin.value_counts()\n",
    "#drop null values \n",
    "df.dropna(inplace=True)\n",
    "#subset dataframe \n",
    "usa_hp = df[df.origin == 'usa'].horsepower\n",
    "japan_hp = df[df.origin == 'japan'].horsepower\n",
    "eu_hp = df[df.origin == 'europe'].horsepower\n",
    "#set hypothesis \n",
    "#H0: HP is the same across all origins \n",
    "#HA: HP is not the same across all origins\n",
    "#set alpha\n",
    "alpha = 0.05 \n",
    "#check variances \n",
    "print(usa_hp.var())\n",
    "print(japan_hp.var())\n",
    "print(eu_hp.var())\n"
   ]
  },
  {
   "cell_type": "markdown",
   "id": "963205f4",
   "metadata": {},
   "source": [
    "Looking at the variances, they are very different, so I will move to a 2-sample, independent t-test comparing usa made cars vs. non-usa made cars."
   ]
  },
  {
   "cell_type": "code",
   "execution_count": 84,
   "id": "f6ea9bfa",
   "metadata": {},
   "outputs": [
    {
     "name": "stdout",
     "output_type": "stream",
     "text": [
      "1591.8336567413864\n",
      "356.2380020501352\n",
      "13.017135027378012 3.384733024288272e-32 0.05\n"
     ]
    }
   ],
   "source": [
    "#H0: usa origin cars' hp equals non-usa origin cars' hp \n",
    "#HA: usa origin cars' hp does not equal non-usa origin cars' hp\n",
    "#set alpha \n",
    "alpha = 0.05 \n",
    "#variance check \n",
    "usa_hp = df[df.origin == 'usa'].horsepower\n",
    "non_usa_hp = df[df.origin != 'usa'].horsepower\n",
    "print(usa_hp.var())\n",
    "print(non_usa_hp.var())\n",
    "#set equal variance to false because variance values are far off \n",
    "t, p = stats.ttest_ind(usa_hp, non_usa_hp, equal_var=False)\n",
    "print(t, p, alpha)"
   ]
  },
  {
   "cell_type": "code",
   "execution_count": 91,
   "id": "60d3c349",
   "metadata": {},
   "outputs": [
    {
     "name": "stdout",
     "output_type": "stream",
     "text": [
      "We reject $H_{0}$\n"
     ]
    }
   ],
   "source": [
    "if p > alpha:\n",
    "    print(\"We fail to reject $H_{0}$\")\n",
    "else:\n",
    "    print(\"We reject $H_{0}$\")"
   ]
  },
  {
   "cell_type": "code",
   "execution_count": null,
   "id": "c416c7c9",
   "metadata": {},
   "outputs": [],
   "source": [
    "#Kruskal-Wallis Test, "
   ]
  },
  {
   "cell_type": "code",
   "execution_count": 86,
   "id": "dd6d555c",
   "metadata": {},
   "outputs": [
    {
     "data": {
      "text/plain": [
       "KruskalResult(statistic=105.59475799843663, pvalue=1.1759521262123952e-23)"
      ]
     },
     "execution_count": 86,
     "metadata": {},
     "output_type": "execute_result"
    }
   ],
   "source": [
    "stats.kruskal(usa_hp, japan_hp, eu_hp)"
   ]
  },
  {
   "cell_type": "code",
   "execution_count": 87,
   "id": "c4823127",
   "metadata": {},
   "outputs": [],
   "source": [
    "#Correlation \n",
    "#Correlation tests are used to check if two samples are related. They are often used for feature selection and multivariate analysis in data preprocessing and exploration\n"
   ]
  },
  {
   "cell_type": "code",
   "execution_count": null,
   "id": "493f338c",
   "metadata": {},
   "outputs": [],
   "source": []
  },
  {
   "cell_type": "code",
   "execution_count": null,
   "id": "3ddfb816",
   "metadata": {},
   "outputs": [],
   "source": []
  },
  {
   "cell_type": "code",
   "execution_count": null,
   "id": "8940badc",
   "metadata": {},
   "outputs": [],
   "source": []
  },
  {
   "cell_type": "code",
   "execution_count": null,
   "id": "aeb9ba7b",
   "metadata": {},
   "outputs": [],
   "source": []
  },
  {
   "cell_type": "code",
   "execution_count": null,
   "id": "5829ef65",
   "metadata": {},
   "outputs": [],
   "source": []
  },
  {
   "cell_type": "code",
   "execution_count": null,
   "id": "d9db1f16",
   "metadata": {},
   "outputs": [],
   "source": []
  },
  {
   "cell_type": "code",
   "execution_count": null,
   "id": "48c042bf",
   "metadata": {},
   "outputs": [],
   "source": []
  },
  {
   "cell_type": "markdown",
   "id": "b12b7383",
   "metadata": {},
   "source": [
    "# Chi Square "
   ]
  },
  {
   "cell_type": "code",
   "execution_count": 92,
   "id": "8f033740",
   "metadata": {},
   "outputs": [
    {
     "data": {
      "text/html": [
       "<div>\n",
       "<style scoped>\n",
       "    .dataframe tbody tr th:only-of-type {\n",
       "        vertical-align: middle;\n",
       "    }\n",
       "\n",
       "    .dataframe tbody tr th {\n",
       "        vertical-align: top;\n",
       "    }\n",
       "\n",
       "    .dataframe thead th {\n",
       "        text-align: right;\n",
       "    }\n",
       "</style>\n",
       "<table border=\"1\" class=\"dataframe\">\n",
       "  <thead>\n",
       "    <tr style=\"text-align: right;\">\n",
       "      <th></th>\n",
       "      <th>manufacturer</th>\n",
       "      <th>model</th>\n",
       "      <th>displ</th>\n",
       "      <th>year</th>\n",
       "      <th>cyl</th>\n",
       "      <th>trans</th>\n",
       "      <th>drv</th>\n",
       "      <th>cty</th>\n",
       "      <th>hwy</th>\n",
       "      <th>fl</th>\n",
       "      <th>class</th>\n",
       "      <th>transmission</th>\n",
       "    </tr>\n",
       "  </thead>\n",
       "  <tbody>\n",
       "    <tr>\n",
       "      <th>1</th>\n",
       "      <td>audi</td>\n",
       "      <td>a4</td>\n",
       "      <td>1.8</td>\n",
       "      <td>1999</td>\n",
       "      <td>4</td>\n",
       "      <td>auto(l5)</td>\n",
       "      <td>f</td>\n",
       "      <td>18</td>\n",
       "      <td>29</td>\n",
       "      <td>p</td>\n",
       "      <td>compact</td>\n",
       "      <td>auto</td>\n",
       "    </tr>\n",
       "    <tr>\n",
       "      <th>2</th>\n",
       "      <td>audi</td>\n",
       "      <td>a4</td>\n",
       "      <td>1.8</td>\n",
       "      <td>1999</td>\n",
       "      <td>4</td>\n",
       "      <td>manual(m5)</td>\n",
       "      <td>f</td>\n",
       "      <td>21</td>\n",
       "      <td>29</td>\n",
       "      <td>p</td>\n",
       "      <td>compact</td>\n",
       "      <td>manual</td>\n",
       "    </tr>\n",
       "    <tr>\n",
       "      <th>3</th>\n",
       "      <td>audi</td>\n",
       "      <td>a4</td>\n",
       "      <td>2.0</td>\n",
       "      <td>2008</td>\n",
       "      <td>4</td>\n",
       "      <td>manual(m6)</td>\n",
       "      <td>f</td>\n",
       "      <td>20</td>\n",
       "      <td>31</td>\n",
       "      <td>p</td>\n",
       "      <td>compact</td>\n",
       "      <td>manual</td>\n",
       "    </tr>\n",
       "    <tr>\n",
       "      <th>4</th>\n",
       "      <td>audi</td>\n",
       "      <td>a4</td>\n",
       "      <td>2.0</td>\n",
       "      <td>2008</td>\n",
       "      <td>4</td>\n",
       "      <td>auto(av)</td>\n",
       "      <td>f</td>\n",
       "      <td>21</td>\n",
       "      <td>30</td>\n",
       "      <td>p</td>\n",
       "      <td>compact</td>\n",
       "      <td>auto</td>\n",
       "    </tr>\n",
       "    <tr>\n",
       "      <th>5</th>\n",
       "      <td>audi</td>\n",
       "      <td>a4</td>\n",
       "      <td>2.8</td>\n",
       "      <td>1999</td>\n",
       "      <td>6</td>\n",
       "      <td>auto(l5)</td>\n",
       "      <td>f</td>\n",
       "      <td>16</td>\n",
       "      <td>26</td>\n",
       "      <td>p</td>\n",
       "      <td>compact</td>\n",
       "      <td>auto</td>\n",
       "    </tr>\n",
       "  </tbody>\n",
       "</table>\n",
       "</div>"
      ],
      "text/plain": [
       "  manufacturer model  displ  year  cyl       trans drv  cty  hwy fl    class  \\\n",
       "1         audi    a4    1.8  1999    4    auto(l5)   f   18   29  p  compact   \n",
       "2         audi    a4    1.8  1999    4  manual(m5)   f   21   29  p  compact   \n",
       "3         audi    a4    2.0  2008    4  manual(m6)   f   20   31  p  compact   \n",
       "4         audi    a4    2.0  2008    4    auto(av)   f   21   30  p  compact   \n",
       "5         audi    a4    2.8  1999    6    auto(l5)   f   16   26  p  compact   \n",
       "\n",
       "  transmission  \n",
       "1         auto  \n",
       "2       manual  \n",
       "3       manual  \n",
       "4         auto  \n",
       "5         auto  "
      ]
     },
     "execution_count": 92,
     "metadata": {},
     "output_type": "execute_result"
    }
   ],
   "source": [
    "#load dataset \n",
    "mpg = data('mpg')\n",
    "mpg['transmission'] = mpg.trans.str[:-4]\n",
    "mpg.head()"
   ]
  },
  {
   "cell_type": "code",
   "execution_count": null,
   "id": "8ffcb657",
   "metadata": {},
   "outputs": [],
   "source": [
    "#is the drive independent of transmission type? \n",
    "#H0: drive is independent of transmission type \n",
    "#HA: drive is not independent of transmission type "
   ]
  },
  {
   "cell_type": "code",
   "execution_count": 93,
   "id": "900d1770",
   "metadata": {},
   "outputs": [
    {
     "data": {
      "text/plain": [
       "auto      0.67094\n",
       "manual    0.32906\n",
       "Name: transmission, dtype: float64"
      ]
     },
     "execution_count": 93,
     "metadata": {},
     "output_type": "execute_result"
    }
   ],
   "source": [
    "#first calculate the proportions for the transmission type: \n",
    "n = mpg.shape[0]\n",
    "transmission_proportions = mpg.transmission.value_counts() / n\n",
    "transmission_proportions"
   ]
  },
  {
   "cell_type": "code",
   "execution_count": null,
   "id": "30cd2e58",
   "metadata": {},
   "outputs": [],
   "source": [
    "Automatic transmissions: 67%\n",
    "Manual transmissions 33%"
   ]
  },
  {
   "cell_type": "code",
   "execution_count": 94,
   "id": "45aa7d5c",
   "metadata": {},
   "outputs": [
    {
     "data": {
      "text/plain": [
       "f    0.452991\n",
       "4    0.440171\n",
       "r    0.106838\n",
       "Name: drv, dtype: float64"
      ]
     },
     "execution_count": 94,
     "metadata": {},
     "output_type": "execute_result"
    }
   ],
   "source": [
    "#Second calculate the proportions for the drive types: \n",
    "drive_proportions = mpg.drv.value_counts() / n\n",
    "drive_proportions"
   ]
  },
  {
   "cell_type": "code",
   "execution_count": null,
   "id": "d624f72c",
   "metadata": {},
   "outputs": [],
   "source": [
    "#To find the overall proportions, we multiply all the combinations of proportions together \n",
    "#To find the proportion of automatic drive cars with 4 wheel drive, we multiply those two proportions together\n",
    ".67 * .44 = .2984\n",
    "#Therefore we would expect 29.84% of the total cars to be automatic and 4-wheel drive "
   ]
  },
  {
   "cell_type": "code",
   "execution_count": 95,
   "id": "313c00df",
   "metadata": {},
   "outputs": [
    {
     "data": {
      "text/html": [
       "<div>\n",
       "<style scoped>\n",
       "    .dataframe tbody tr th:only-of-type {\n",
       "        vertical-align: middle;\n",
       "    }\n",
       "\n",
       "    .dataframe tbody tr th {\n",
       "        vertical-align: top;\n",
       "    }\n",
       "\n",
       "    .dataframe thead th {\n",
       "        text-align: right;\n",
       "    }\n",
       "</style>\n",
       "<table border=\"1\" class=\"dataframe\">\n",
       "  <thead>\n",
       "    <tr style=\"text-align: right;\">\n",
       "      <th></th>\n",
       "      <th>auto</th>\n",
       "      <th>manual</th>\n",
       "    </tr>\n",
       "  </thead>\n",
       "  <tbody>\n",
       "    <tr>\n",
       "      <th>4</th>\n",
       "      <td>0.295328</td>\n",
       "      <td>0.144843</td>\n",
       "    </tr>\n",
       "    <tr>\n",
       "      <th>f</th>\n",
       "      <td>0.303930</td>\n",
       "      <td>0.149061</td>\n",
       "    </tr>\n",
       "    <tr>\n",
       "      <th>r</th>\n",
       "      <td>0.071682</td>\n",
       "      <td>0.035156</td>\n",
       "    </tr>\n",
       "  </tbody>\n",
       "</table>\n",
       "</div>"
      ],
      "text/plain": [
       "       auto    manual\n",
       "4  0.295328  0.144843\n",
       "f  0.303930  0.149061\n",
       "r  0.071682  0.035156"
      ]
     },
     "execution_count": 95,
     "metadata": {},
     "output_type": "execute_result"
    }
   ],
   "source": [
    "#to do this in a dataframe you would write this code: \n",
    "expected = pd.DataFrame()\n",
    "\n",
    "for transmission_group, t_prop in transmission_proportions.iteritems():\n",
    "    for drive_group, d_prop in drive_proportions.iteritems(): \n",
    "        expected.loc[drive_group, transmission_group] = t_prop * d_prop\n",
    "\n",
    "expected.sort_index(inplace=True)\n",
    "expected"
   ]
  },
  {
   "cell_type": "code",
   "execution_count": 96,
   "id": "680664a5",
   "metadata": {},
   "outputs": [
    {
     "data": {
      "text/html": [
       "<div>\n",
       "<style scoped>\n",
       "    .dataframe tbody tr th:only-of-type {\n",
       "        vertical-align: middle;\n",
       "    }\n",
       "\n",
       "    .dataframe tbody tr th {\n",
       "        vertical-align: top;\n",
       "    }\n",
       "\n",
       "    .dataframe thead th {\n",
       "        text-align: right;\n",
       "    }\n",
       "</style>\n",
       "<table border=\"1\" class=\"dataframe\">\n",
       "  <thead>\n",
       "    <tr style=\"text-align: right;\">\n",
       "      <th></th>\n",
       "      <th>auto</th>\n",
       "      <th>manual</th>\n",
       "    </tr>\n",
       "  </thead>\n",
       "  <tbody>\n",
       "    <tr>\n",
       "      <th>4</th>\n",
       "      <td>69.106838</td>\n",
       "      <td>33.893162</td>\n",
       "    </tr>\n",
       "    <tr>\n",
       "      <th>f</th>\n",
       "      <td>71.119658</td>\n",
       "      <td>34.880342</td>\n",
       "    </tr>\n",
       "    <tr>\n",
       "      <th>r</th>\n",
       "      <td>16.773504</td>\n",
       "      <td>8.226496</td>\n",
       "    </tr>\n",
       "  </tbody>\n",
       "</table>\n",
       "</div>"
      ],
      "text/plain": [
       "        auto     manual\n",
       "4  69.106838  33.893162\n",
       "f  71.119658  34.880342\n",
       "r  16.773504   8.226496"
      ]
     },
     "execution_count": 96,
     "metadata": {},
     "output_type": "execute_result"
    }
   ],
   "source": [
    "#if we want to convert these proportions to expected numbers of values, we can multiply by the total number of observations\n",
    "expected *= n \n",
    "expected"
   ]
  },
  {
   "cell_type": "code",
   "execution_count": null,
   "id": "13d06366",
   "metadata": {},
   "outputs": [],
   "source": [
    "#easy way "
   ]
  },
  {
   "cell_type": "code",
   "execution_count": null,
   "id": "9cb96acb",
   "metadata": {},
   "outputs": [],
   "source": [
    "#data.isnull().sum()\n",
    "#dropna(inplace=True)"
   ]
  },
  {
   "cell_type": "code",
   "execution_count": null,
   "id": "b77d1936",
   "metadata": {},
   "outputs": [],
   "source": []
  }
 ],
 "metadata": {
  "kernelspec": {
   "display_name": "Python 3 (ipykernel)",
   "language": "python",
   "name": "python3"
  },
  "language_info": {
   "codemirror_mode": {
    "name": "ipython",
    "version": 3
   },
   "file_extension": ".py",
   "mimetype": "text/x-python",
   "name": "python",
   "nbconvert_exporter": "python",
   "pygments_lexer": "ipython3",
   "version": "3.9.7"
  }
 },
 "nbformat": 4,
 "nbformat_minor": 5
}
