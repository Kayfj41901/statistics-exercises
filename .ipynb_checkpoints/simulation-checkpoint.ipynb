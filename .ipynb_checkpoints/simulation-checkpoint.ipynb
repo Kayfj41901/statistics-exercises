{
 "cells": [
  {
   "cell_type": "code",
   "execution_count": 10,
   "id": "ca5d6a79",
   "metadata": {},
   "outputs": [],
   "source": [
    "%run viz.py"
   ]
  },
  {
   "cell_type": "code",
   "execution_count": 3,
   "id": "ef574aa4",
   "metadata": {},
   "outputs": [],
   "source": [
    "%matplotlib inline \n",
    "import numpy as np \n",
    "import pandas as pd \n",
    "\n",
    "\n",
    "np.random.seed(29)"
   ]
  },
  {
   "cell_type": "markdown",
   "id": "57208cde",
   "metadata": {},
   "source": [
    "# NOTES "
   ]
  },
  {
   "cell_type": "markdown",
   "id": "49c4c5a8",
   "metadata": {},
   "source": [
    "Generating Random Numbers with Numpy "
   ]
  },
  {
   "cell_type": "markdown",
   "id": "e07805ad",
   "metadata": {},
   "source": [
    "*np.random.choice: selects random options from a list"
   ]
  },
  {
   "cell_type": "markdown",
   "id": "b95b6ed5",
   "metadata": {},
   "source": [
    "*np.random.uniform: generates numbers between a given lower and upper bound"
   ]
  },
  {
   "cell_type": "markdown",
   "id": "e94828f3",
   "metadata": {},
   "source": [
    "*np.random.random: generates numbers between 0 and 1"
   ]
  },
  {
   "cell_type": "markdown",
   "id": "c8217200",
   "metadata": {},
   "source": [
    "*np.random.randn: generates numbers from the standard normal distribution"
   ]
  },
  {
   "cell_type": "markdown",
   "id": "64cabcf8",
   "metadata": {},
   "source": [
    "*np.random.normal: generates numbers from a normal distribution with a specified mean and standard deviation"
   ]
  },
  {
   "cell_type": "markdown",
   "id": "21a73691",
   "metadata": {},
   "source": [
    "### Example 1"
   ]
  },
  {
   "cell_type": "markdown",
   "id": "cfe4b839",
   "metadata": {},
   "source": [
    "You are at a carnival and come across a person in a booth offering you a game of \"chance\" (as people in booths at carnivals tend to do).\n",
    "\n",
    "You pay 5 dollars and roll 3 dice. If the sum of the dice rolls is greater than 12, you get 15 dollars. If it's less than or equal to 12, you get nothing.\n",
    "\n",
    "Assuming the dice are fair, should you play this game? How would this change if the winning condition was a sum greater than or equal to 12?"
   ]
  },
  {
   "cell_type": "code",
   "execution_count": 4,
   "id": "8f4f7ebc",
   "metadata": {},
   "outputs": [
    {
     "data": {
      "text/plain": [
       "array([[6, 4, 5],\n",
       "       [6, 3, 1],\n",
       "       [1, 2, 2],\n",
       "       ...,\n",
       "       [6, 2, 1],\n",
       "       [3, 4, 3],\n",
       "       [4, 2, 4]])"
      ]
     },
     "execution_count": 4,
     "metadata": {},
     "output_type": "execute_result"
    }
   ],
   "source": [
    "#The rows indicate the number of simulated trials we want to do, i.e. rolling 3 die \n",
    "#There are three columns one for each dice \n",
    "#The random choice gives options for 1 through 6 because a dice has 6 sides\n",
    "#The reshape method creates a matrix\n",
    "n_trials = nrows = 10_000\n",
    "n_dice = ncols = 3\n",
    "rolls = np.random.choice([1, 2, 3, 4, 5, 6], n_trials * n_dice).reshape(nrows, ncols)\n",
    "rolls"
   ]
  },
  {
   "cell_type": "code",
   "execution_count": 5,
   "id": "fe1240b2",
   "metadata": {},
   "outputs": [
    {
     "data": {
      "text/plain": [
       "array([15, 10,  5, ...,  9, 10, 10])"
      ]
     },
     "execution_count": 5,
     "metadata": {},
     "output_type": "execute_result"
    }
   ],
   "source": [
    "#Now to calculate the sum of each row \n",
    "#The axis is set to 1 to indicate that we want the sum of every row not sum of every column\n",
    "sums_by_trial = rolls.sum(axis=1)\n",
    "sums_by_trial"
   ]
  },
  {
   "cell_type": "code",
   "execution_count": 12,
   "id": "752aae90",
   "metadata": {},
   "outputs": [
    {
     "data": {
      "text/plain": [
       "array([ True, False, False, ..., False, False, False])"
      ]
     },
     "execution_count": 12,
     "metadata": {},
     "output_type": "execute_result"
    }
   ],
   "source": [
    "#Now create the sums over 12 into a boolean array \n",
    "wins = sums_by_trial > 12\n",
    "wins"
   ]
  },
  {
   "cell_type": "code",
   "execution_count": 13,
   "id": "87c3fd4d",
   "metadata": {},
   "outputs": [
    {
     "data": {
      "text/plain": [
       "0.2633"
      ]
     },
     "execution_count": 13,
     "metadata": {},
     "output_type": "execute_result"
    }
   ],
   "source": [
    "#Calculate an overall win rate, treat each win as a 1 and each loss as a 0, then take the average of the array \n",
    "win_rate = wins.astype(int).mean()\n",
    "win_rate"
   ]
  },
  {
   "cell_type": "code",
   "execution_count": 15,
   "id": "0364e1dd",
   "metadata": {},
   "outputs": [
    {
     "data": {
      "text/plain": [
       "-1.0505000000000004"
      ]
     },
     "execution_count": 15,
     "metadata": {},
     "output_type": "execute_result"
    }
   ],
   "source": [
    "#Calculate expected profit \n",
    "expected_winnings = win_rate * 15 \n",
    "cost = 5 \n",
    "expected_profit = expected_winnings - cost \n",
    "expected_profit"
   ]
  },
  {
   "cell_type": "markdown",
   "id": "43f878f8",
   "metadata": {},
   "source": [
    "#We can expect to lose over a dollar everytime we play this game "
   ]
  },
  {
   "cell_type": "markdown",
   "id": "4da1c4b2",
   "metadata": {},
   "source": [
    "### Example 2"
   ]
  },
  {
   "cell_type": "markdown",
   "id": "58d95763",
   "metadata": {},
   "source": [
    "There's a 30% chance my son takes a nap on any given weekend day. What is the chance that he takes a nap at least one day this weekend? What is the probability that he doesn't nap at all?"
   ]
  },
  {
   "cell_type": "code",
   "execution_count": 17,
   "id": "e34a6fce",
   "metadata": {},
   "outputs": [],
   "source": [
    "#The .3 is for 30% chance of nap, 2 is for the number of days in the weekend, 10**5 is for 10,000 simulations \n",
    "h_nap = .3\n",
    "ndays = ncols = 2\n",
    "n_simulated_weekends = nrows = 10**5"
   ]
  },
  {
   "cell_type": "code",
   "execution_count": 18,
   "id": "e643ed8d",
   "metadata": {},
   "outputs": [
    {
     "data": {
      "text/plain": [
       "array([[0.46762045, 0.70078355],\n",
       "       [0.18897809, 0.54312897],\n",
       "       [0.253291  , 0.43836437],\n",
       "       ...,\n",
       "       [0.15008559, 0.37577491],\n",
       "       [0.34690321, 0.58934311],\n",
       "       [0.97135998, 0.57219933]])"
      ]
     },
     "execution_count": 18,
     "metadata": {},
     "output_type": "execute_result"
    }
   ],
   "source": [
    "#We will use random numbers between 0 and 1 where the values below the percent are true for taking a nap and above false\n",
    "data = np.random.random((nrows, ncols))\n",
    "data"
   ]
  },
  {
   "cell_type": "code",
   "execution_count": 20,
   "id": "d72eb7f1",
   "metadata": {},
   "outputs": [
    {
     "data": {
      "text/plain": [
       "array([[False, False],\n",
       "       [ True, False],\n",
       "       [ True, False],\n",
       "       ...,\n",
       "       [ True, False],\n",
       "       [False, False],\n",
       "       [False, False]])"
      ]
     },
     "execution_count": 20,
     "metadata": {},
     "output_type": "execute_result"
    }
   ],
   "source": [
    "naps = data < h_nap\n",
    "naps"
   ]
  },
  {
   "cell_type": "code",
   "execution_count": 21,
   "id": "c9eec2f1",
   "metadata": {},
   "outputs": [
    {
     "data": {
      "text/plain": [
       "array([0, 1, 1, ..., 1, 0, 0])"
      ]
     },
     "execution_count": 21,
     "metadata": {},
     "output_type": "execute_result"
    }
   ],
   "source": [
    "naps.sum(axis=1)"
   ]
  },
  {
   "cell_type": "markdown",
   "id": "0a1431c0",
   "metadata": {},
   "source": [
    "What is the probability that at least one nap is taken?"
   ]
  },
  {
   "cell_type": "code",
   "execution_count": 22,
   "id": "554eb286",
   "metadata": {},
   "outputs": [
    {
     "data": {
      "text/plain": [
       "0.50998"
      ]
     },
     "execution_count": 22,
     "metadata": {},
     "output_type": "execute_result"
    }
   ],
   "source": [
    "#I don't understand how this code works \n",
    "(naps.sum(axis=1) >= 1).mean()"
   ]
  },
  {
   "cell_type": "code",
   "execution_count": 23,
   "id": "3cb07ade",
   "metadata": {},
   "outputs": [
    {
     "data": {
      "text/plain": [
       "0.49002"
      ]
     },
     "execution_count": 23,
     "metadata": {},
     "output_type": "execute_result"
    }
   ],
   "source": [
    "(naps.sum(axis=1) == 0).mean()"
   ]
  },
  {
   "cell_type": "markdown",
   "id": "f707e046",
   "metadata": {},
   "source": [
    "You have about a 50/50 chance that at least one nap will be taken one day of the weekend, which dramatically increases if you take that child to the park and run them for the first few hours of the day"
   ]
  },
  {
   "cell_type": "markdown",
   "id": "07d6362f",
   "metadata": {},
   "source": [
    "### Example 3"
   ]
  },
  {
   "cell_type": "markdown",
   "id": "24850dd0",
   "metadata": {},
   "source": [
    "What is the probability of getting at least one 3 in 3 dice rolls?"
   ]
  },
  {
   "cell_type": "code",
   "execution_count": 24,
   "id": "d0d61588",
   "metadata": {},
   "outputs": [
    {
     "data": {
      "text/plain": [
       "0.42324"
      ]
     },
     "execution_count": 24,
     "metadata": {},
     "output_type": "execute_result"
    }
   ],
   "source": [
    "n_simulations = nrows = 10**5\n",
    "n_dice_rolled = ncols = 3\n",
    "\n",
    "rolls = np.random.choice([1, 2, 3, 4, 5, 6], nrows * ncols).reshape(nrows, ncols)\n",
    "\n",
    "(pd.DataFrame(rolls)\n",
    " .apply(lambda row: 3 in row.values, axis=1)\n",
    " .mean())\n",
    "\n"
   ]
  },
  {
   "cell_type": "markdown",
   "id": "36d5ba5d",
   "metadata": {},
   "source": [
    "Step 1: Assign values for the number of rows and columns we are going to use   "
   ]
  },
  {
   "cell_type": "markdown",
   "id": "24217861",
   "metadata": {},
   "source": [
    "Step 2: Create the rolls variable that holds a 3 x 10,000 matrix where each element is a randomly chosen number between 1 and 6"
   ]
  },
  {
   "cell_type": "markdown",
   "id": "4238570a",
   "metadata": {},
   "source": [
    "Step 3: create a dataframe from the rolls: pd.DataFrame(rolls), .apply(), .mean()"
   ]
  },
  {
   "cell_type": "markdown",
   "id": "10f485a8",
   "metadata": {},
   "source": [
    "### Practice Problems "
   ]
  },
  {
   "cell_type": "markdown",
   "id": "d140d002",
   "metadata": {},
   "source": [
    "### Q1. How likely is it that you roll doubles when rolling two dice?"
   ]
  },
  {
   "cell_type": "code",
   "execution_count": 25,
   "id": "78776b43",
   "metadata": {},
   "outputs": [
    {
     "data": {
      "text/plain": [
       "array([[2, 3],\n",
       "       [6, 5],\n",
       "       [2, 4],\n",
       "       ...,\n",
       "       [6, 3],\n",
       "       [2, 1],\n",
       "       [5, 1]])"
      ]
     },
     "execution_count": 25,
     "metadata": {},
     "output_type": "execute_result"
    }
   ],
   "source": [
    "#Total possible outcomes when two dice are rolled 36 \n",
    "#The number of outcomes rolling doubles is 6 \n",
    "n_trials = nrows = 10_000\n",
    "n_dice = ncols = 2\n",
    "rolls = np.random.choice([1, 2, 3, 4, 5, 6], n_trials * n_dice).reshape(nrows, ncols)\n",
    "rolls"
   ]
  },
  {
   "cell_type": "code",
   "execution_count": 122,
   "id": "0064c576",
   "metadata": {},
   "outputs": [
    {
     "data": {
      "text/html": [
       "<div>\n",
       "<style scoped>\n",
       "    .dataframe tbody tr th:only-of-type {\n",
       "        vertical-align: middle;\n",
       "    }\n",
       "\n",
       "    .dataframe tbody tr th {\n",
       "        vertical-align: top;\n",
       "    }\n",
       "\n",
       "    .dataframe thead th {\n",
       "        text-align: right;\n",
       "    }\n",
       "</style>\n",
       "<table border=\"1\" class=\"dataframe\">\n",
       "  <thead>\n",
       "    <tr style=\"text-align: right;\">\n",
       "      <th></th>\n",
       "      <th>0</th>\n",
       "      <th>1</th>\n",
       "    </tr>\n",
       "  </thead>\n",
       "  <tbody>\n",
       "    <tr>\n",
       "      <th>0</th>\n",
       "      <td>2</td>\n",
       "      <td>3</td>\n",
       "    </tr>\n",
       "    <tr>\n",
       "      <th>1</th>\n",
       "      <td>6</td>\n",
       "      <td>5</td>\n",
       "    </tr>\n",
       "    <tr>\n",
       "      <th>2</th>\n",
       "      <td>2</td>\n",
       "      <td>4</td>\n",
       "    </tr>\n",
       "    <tr>\n",
       "      <th>3</th>\n",
       "      <td>5</td>\n",
       "      <td>6</td>\n",
       "    </tr>\n",
       "    <tr>\n",
       "      <th>4</th>\n",
       "      <td>3</td>\n",
       "      <td>1</td>\n",
       "    </tr>\n",
       "    <tr>\n",
       "      <th>...</th>\n",
       "      <td>...</td>\n",
       "      <td>...</td>\n",
       "    </tr>\n",
       "    <tr>\n",
       "      <th>9995</th>\n",
       "      <td>1</td>\n",
       "      <td>4</td>\n",
       "    </tr>\n",
       "    <tr>\n",
       "      <th>9996</th>\n",
       "      <td>3</td>\n",
       "      <td>2</td>\n",
       "    </tr>\n",
       "    <tr>\n",
       "      <th>9997</th>\n",
       "      <td>6</td>\n",
       "      <td>3</td>\n",
       "    </tr>\n",
       "    <tr>\n",
       "      <th>9998</th>\n",
       "      <td>2</td>\n",
       "      <td>1</td>\n",
       "    </tr>\n",
       "    <tr>\n",
       "      <th>9999</th>\n",
       "      <td>5</td>\n",
       "      <td>1</td>\n",
       "    </tr>\n",
       "  </tbody>\n",
       "</table>\n",
       "<p>10000 rows × 2 columns</p>\n",
       "</div>"
      ],
      "text/plain": [
       "      0  1\n",
       "0     2  3\n",
       "1     6  5\n",
       "2     2  4\n",
       "3     5  6\n",
       "4     3  1\n",
       "...  .. ..\n",
       "9995  1  4\n",
       "9996  3  2\n",
       "9997  6  3\n",
       "9998  2  1\n",
       "9999  5  1\n",
       "\n",
       "[10000 rows x 2 columns]"
      ]
     },
     "execution_count": 122,
     "metadata": {},
     "output_type": "execute_result"
    }
   ],
   "source": [
    "rolls = pd.DataFrame(rolls)\n",
    "rolls"
   ]
  },
  {
   "cell_type": "markdown",
   "id": "3d2f2ad0",
   "metadata": {},
   "source": [
    "# NEED TO KNOW HOW TO PULL NON UNIQUE VALUES FROM DATAFRAME "
   ]
  },
  {
   "cell_type": "markdown",
   "id": "ce900473",
   "metadata": {},
   "source": [
    "### Q2. If you flip 8 coins, what is the probability of getting exactly 3 heads? What is the probability of getting more than 3 heads?"
   ]
  },
  {
   "cell_type": "code",
   "execution_count": 26,
   "id": "b104a3df",
   "metadata": {},
   "outputs": [
    {
     "data": {
      "text/plain": [
       "array([[1, 0, 1, ..., 0, 0, 1],\n",
       "       [0, 0, 1, ..., 1, 1, 1],\n",
       "       [0, 0, 1, ..., 0, 0, 0],\n",
       "       ...,\n",
       "       [0, 1, 1, ..., 0, 1, 1],\n",
       "       [0, 0, 1, ..., 1, 0, 1],\n",
       "       [1, 0, 0, ..., 0, 1, 0]])"
      ]
     },
     "execution_count": 26,
     "metadata": {},
     "output_type": "execute_result"
    }
   ],
   "source": [
    "#I chose to set this up with the choices being 1 and 0 to simulate a numeric version of heads or tails where the 1 would symbolize rolling heads and the 0 would symbolize rolling tails \n",
    "n_trials = nrows = 10_000 \n",
    "n_coin = ncols = 8 \n",
    "flips = np.random.choice([1, 0], n_trials * n_coin).reshape(nrows, ncols)\n",
    "flips"
   ]
  },
  {
   "cell_type": "code",
   "execution_count": 27,
   "id": "de6fabfc",
   "metadata": {},
   "outputs": [
    {
     "data": {
      "text/plain": [
       "array([3, 6, 2, ..., 6, 3, 4])"
      ]
     },
     "execution_count": 27,
     "metadata": {},
     "output_type": "execute_result"
    }
   ],
   "source": [
    "sums_by_trial = flips.sum(axis=1)\n",
    "sums_by_trial"
   ]
  },
  {
   "cell_type": "code",
   "execution_count": 78,
   "id": "a91e8253",
   "metadata": {},
   "outputs": [
    {
     "data": {
      "text/plain": [
       "array([False, False, False, ..., False, False, False])"
      ]
     },
     "execution_count": 78,
     "metadata": {},
     "output_type": "execute_result"
    }
   ],
   "source": [
    "three = sums_by_trial == 3\n",
    "three"
   ]
  },
  {
   "cell_type": "code",
   "execution_count": 80,
   "id": "ce51d96d",
   "metadata": {},
   "outputs": [
    {
     "data": {
      "text/plain": [
       "<function ndarray.any>"
      ]
     },
     "execution_count": 80,
     "metadata": {},
     "output_type": "execute_result"
    }
   ],
   "source": [
    "#need to know number of true values "
   ]
  },
  {
   "cell_type": "markdown",
   "id": "7606acfe",
   "metadata": {},
   "source": [
    "### Q3. There are approximitely 3 web development cohorts for every 1 data science cohort at Codeup. Assuming that Codeup randomly selects an alumni to put on a billboard, what are the odds that the two billboards I drive past both have data science students on them?"
   ]
  },
  {
   "cell_type": "code",
   "execution_count": 39,
   "id": "fdbc1a3f",
   "metadata": {},
   "outputs": [],
   "source": [
    "ds_cohort = 0.25 \n",
    "nbillboards = ncols = 2 \n",
    "n_simulated_billboards = nrows = 10**5 "
   ]
  },
  {
   "cell_type": "code",
   "execution_count": 40,
   "id": "fb7609df",
   "metadata": {},
   "outputs": [
    {
     "data": {
      "text/plain": [
       "array([[0.46429388, 0.40885974],\n",
       "       [0.08326115, 0.02222945],\n",
       "       [0.41161641, 0.89518895],\n",
       "       ...,\n",
       "       [0.3459291 , 0.99321578],\n",
       "       [0.90523284, 0.62221469],\n",
       "       [0.03487333, 0.54012269]])"
      ]
     },
     "execution_count": 40,
     "metadata": {},
     "output_type": "execute_result"
    }
   ],
   "source": [
    "data = np.random.random((nrows, ncols))\n",
    "data"
   ]
  },
  {
   "cell_type": "code",
   "execution_count": 41,
   "id": "90579088",
   "metadata": {},
   "outputs": [
    {
     "data": {
      "text/plain": [
       "array([[False, False],\n",
       "       [ True,  True],\n",
       "       [False, False],\n",
       "       ...,\n",
       "       [False, False],\n",
       "       [False, False],\n",
       "       [ True, False]])"
      ]
     },
     "execution_count": 41,
     "metadata": {},
     "output_type": "execute_result"
    }
   ],
   "source": [
    "ds_alumni = data < ds_cohort\n",
    "ds_alumni "
   ]
  },
  {
   "cell_type": "code",
   "execution_count": 42,
   "id": "7ddf713a",
   "metadata": {},
   "outputs": [
    {
     "data": {
      "text/plain": [
       "array([0, 2, 0, ..., 0, 0, 1])"
      ]
     },
     "execution_count": 42,
     "metadata": {},
     "output_type": "execute_result"
    }
   ],
   "source": [
    "ds_alumni.sum(axis=1)"
   ]
  },
  {
   "cell_type": "code",
   "execution_count": 45,
   "id": "abe567e4",
   "metadata": {},
   "outputs": [
    {
     "data": {
      "text/plain": [
       "0.06402"
      ]
     },
     "execution_count": 45,
     "metadata": {},
     "output_type": "execute_result"
    }
   ],
   "source": [
    "(ds_alumni.sum(axis=1) >= 2).mean()"
   ]
  },
  {
   "cell_type": "markdown",
   "id": "7027c046",
   "metadata": {},
   "source": [
    "### There is approximately a 6% chance that both billboards will have a data science alumni"
   ]
  },
  {
   "cell_type": "markdown",
   "id": "3e87cf0b",
   "metadata": {},
   "source": [
    "### Q4. Codeup students buy, on average, 3 poptart packages with a standard deviation of 1.5 a day from the snack vending machine. If on monday the machine is restocked with 17 poptart packages, how likely is it that I will be able to buy some poptarts on Friday afternoon? (Remember, if you have mean and standard deviation, use the np.random.normal)"
   ]
  },
  {
   "cell_type": "code",
   "execution_count": 49,
   "id": "657dd9ea",
   "metadata": {},
   "outputs": [
    {
     "data": {
      "text/plain": [
       "array([[ 3.,  6.,  3.,  2.],\n",
       "       [ 4.,  3.,  4.,  2.],\n",
       "       [ 3.,  4.,  3.,  2.],\n",
       "       ...,\n",
       "       [ 2.,  2.,  1.,  2.],\n",
       "       [ 3.,  2.,  2.,  2.],\n",
       "       [ 4.,  2., -0.,  2.]])"
      ]
     },
     "execution_count": 49,
     "metadata": {},
     "output_type": "execute_result"
    }
   ],
   "source": [
    "#snack = np.random.normal(average, standard deviation, size=(10,000-for the number of simulations, 4 for the number of days)).round()\n",
    "\n",
    "snack = np.random.normal(3, 1.5, size=(10_000 , 4)).round()\n",
    "snack"
   ]
  },
  {
   "cell_type": "code",
   "execution_count": 51,
   "id": "7eba5047",
   "metadata": {},
   "outputs": [
    {
     "data": {
      "text/plain": [
       "array([14., 13., 12., ...,  7.,  9.,  8.])"
      ]
     },
     "execution_count": 51,
     "metadata": {},
     "output_type": "execute_result"
    }
   ],
   "source": [
    "snacks_by_week = snack.sum(axis=1)\n",
    "snacks_by_week"
   ]
  },
  {
   "cell_type": "code",
   "execution_count": 52,
   "id": "1b4063cb",
   "metadata": {},
   "outputs": [
    {
     "data": {
      "text/plain": [
       "array([ True,  True,  True, ...,  True,  True,  True])"
      ]
     },
     "execution_count": 52,
     "metadata": {},
     "output_type": "execute_result"
    }
   ],
   "source": [
    "available_tarts = snacks_by_week < 17\n",
    "available_tarts"
   ]
  },
  {
   "cell_type": "code",
   "execution_count": 53,
   "id": "a6334681",
   "metadata": {},
   "outputs": [
    {
     "data": {
      "text/plain": [
       "0.932"
      ]
     },
     "execution_count": 53,
     "metadata": {},
     "output_type": "execute_result"
    }
   ],
   "source": [
    "hungry_me = available_tarts.astype(int).mean()\n",
    "hungry_me"
   ]
  },
  {
   "cell_type": "markdown",
   "id": "3739f5d9",
   "metadata": {},
   "source": [
    "I have a 93% chance of poptarts still being available in the vending machine on Friday"
   ]
  },
  {
   "cell_type": "markdown",
   "id": "2c6ef4e6",
   "metadata": {},
   "source": [
    "### Q5. Compare Heights"
   ]
  },
  {
   "cell_type": "markdown",
   "id": "a66c4347",
   "metadata": {},
   "source": [
    "Men have an average height of 178 cm and standard deviation of 8cm.\n"
   ]
  },
  {
   "cell_type": "markdown",
   "id": "5eff1af5",
   "metadata": {},
   "source": [
    "Women have a mean of 170, sd = 6cm.\n"
   ]
  },
  {
   "cell_type": "markdown",
   "id": "a8ab331d",
   "metadata": {},
   "source": [
    "Since you have means and standard deviations, you can use np.random.normal to generate observations.\n"
   ]
  },
  {
   "cell_type": "markdown",
   "id": "1be33be8",
   "metadata": {},
   "source": [
    "If a man and woman are chosen at random, what is the likelihood the woman is taller than the man?\n"
   ]
  },
  {
   "cell_type": "code",
   "execution_count": 54,
   "id": "90eca0c6",
   "metadata": {},
   "outputs": [],
   "source": [
    "male = np.random.normal(178, 8, 10_000)\n",
    "female = np.random.normal(170, 6, 10_000)"
   ]
  },
  {
   "cell_type": "code",
   "execution_count": 55,
   "id": "3523657a",
   "metadata": {},
   "outputs": [
    {
     "data": {
      "text/plain": [
       "0.2064"
      ]
     },
     "execution_count": 55,
     "metadata": {},
     "output_type": "execute_result"
    }
   ],
   "source": [
    "(female > male).mean()"
   ]
  },
  {
   "cell_type": "markdown",
   "id": "5186a442",
   "metadata": {},
   "source": [
    "There is a 20% chance a female will be taller than a male"
   ]
  },
  {
   "cell_type": "markdown",
   "id": "747346fd",
   "metadata": {},
   "source": [
    "### Q6. When installing anaconda on a student's computer, there's a 1 in 250 chance that the download is corrupted and the installation fails. What are the odds that after having 50 students download anaconda, no one has an installation issue? "
   ]
  },
  {
   "cell_type": "code",
   "execution_count": 57,
   "id": "b429da4d",
   "metadata": {},
   "outputs": [
    {
     "data": {
      "text/plain": [
       "array([[False, False, False, ..., False, False, False],\n",
       "       [False, False, False, ..., False, False, False],\n",
       "       [False, False, False, ..., False, False, False],\n",
       "       ...,\n",
       "       [False, False, False, ..., False, False, False],\n",
       "       [False, False, False, ..., False, False, False],\n",
       "       [False, False, False, ..., False, False, False]])"
      ]
     },
     "execution_count": 57,
     "metadata": {},
     "output_type": "execute_result"
    }
   ],
   "source": [
    "#np.random.choice([possible outcomes for any element], probability=[whereTrue, whereFalse], size(number of simulations(rows), number of units(columns)))\n",
    "n_students = 50\n",
    "simulations = np.random.choice([True, False], p=[1/250, 249/250], size=(10_000, n_students))\n",
    "simulations"
   ]
  },
  {
   "cell_type": "code",
   "execution_count": 59,
   "id": "d5f7fcea",
   "metadata": {},
   "outputs": [
    {
     "data": {
      "text/plain": [
       "(10000, 50)"
      ]
     },
     "execution_count": 59,
     "metadata": {},
     "output_type": "execute_result"
    }
   ],
   "source": [
    "#10,000 rows for the sample base, 50 to represent the number of students \n",
    "simulations.shape"
   ]
  },
  {
   "cell_type": "code",
   "execution_count": 69,
   "id": "1a99c1ea",
   "metadata": {},
   "outputs": [
    {
     "data": {
      "text/plain": [
       "1833"
      ]
     },
     "execution_count": 69,
     "metadata": {},
     "output_type": "execute_result"
    }
   ],
   "source": [
    "#A corrupted file occurs 1833 times per 10000 downloads \n",
    "simulations.any(axis=1).sum()"
   ]
  },
  {
   "cell_type": "markdown",
   "id": "416b2fcb",
   "metadata": {},
   "source": [
    "The odds that 1 in 50 students downloads a corrupt file is 18%"
   ]
  },
  {
   "cell_type": "markdown",
   "id": "f1ad9f19",
   "metadata": {},
   "source": [
    "The odds that no one downloads a corrupt file is 82%"
   ]
  },
  {
   "cell_type": "markdown",
   "id": "5f2fd3cd",
   "metadata": {},
   "source": [
    "### 100 students?"
   ]
  },
  {
   "cell_type": "code",
   "execution_count": 71,
   "id": "fcff19dc",
   "metadata": {},
   "outputs": [
    {
     "data": {
      "text/plain": [
       "array([[False, False, False, ..., False, False, False],\n",
       "       [False, False, False, ..., False, False, False],\n",
       "       [False, False, False, ..., False, False, False],\n",
       "       ...,\n",
       "       [False, False, False, ..., False, False, False],\n",
       "       [False, False, False, ..., False, False, False],\n",
       "       [False, False, False, ..., False, False, False]])"
      ]
     },
     "execution_count": 71,
     "metadata": {},
     "output_type": "execute_result"
    }
   ],
   "source": [
    "n_students = 100 \n",
    "simulations = np.random.choice([True, False], p=[1/250, 249/250], size=(10_000, n_students))\n",
    "simulations"
   ]
  },
  {
   "cell_type": "code",
   "execution_count": 72,
   "id": "9406e1a1",
   "metadata": {},
   "outputs": [
    {
     "data": {
      "text/plain": [
       "3272"
      ]
     },
     "execution_count": 72,
     "metadata": {},
     "output_type": "execute_result"
    }
   ],
   "source": [
    "simulations.any(axis=1).sum()"
   ]
  },
  {
   "cell_type": "code",
   "execution_count": 73,
   "id": "94f51cad",
   "metadata": {},
   "outputs": [
    {
     "data": {
      "text/plain": [
       "0.3272"
      ]
     },
     "execution_count": 73,
     "metadata": {},
     "output_type": "execute_result"
    }
   ],
   "source": [
    "3272/10000"
   ]
  },
  {
   "cell_type": "markdown",
   "id": "ade9744b",
   "metadata": {},
   "source": [
    "In a class of 100, there is a 32% chance a student will download a corrupt file "
   ]
  },
  {
   "cell_type": "markdown",
   "id": "05e77c22",
   "metadata": {},
   "source": [
    "In a class of 100, there is a 68% chance no one will download a corrupt file "
   ]
  },
  {
   "cell_type": "markdown",
   "id": "08382e1b",
   "metadata": {},
   "source": [
    "### I. What is the probability that we observe an installation issue within the first 150 students that download anaconda?"
   ]
  },
  {
   "cell_type": "code",
   "execution_count": 74,
   "id": "2b3f3d8e",
   "metadata": {},
   "outputs": [
    {
     "data": {
      "text/plain": [
       "4558"
      ]
     },
     "execution_count": 74,
     "metadata": {},
     "output_type": "execute_result"
    }
   ],
   "source": [
    "n_students = 150 \n",
    "simulations = np.random.choice([True, False], p=[1/250, 249/250], size=(10_000, n_students))\n",
    "simulations\n",
    "simulations.any(axis=1).sum()"
   ]
  },
  {
   "cell_type": "code",
   "execution_count": 75,
   "id": "c037d9eb",
   "metadata": {},
   "outputs": [
    {
     "data": {
      "text/plain": [
       "0.4558"
      ]
     },
     "execution_count": 75,
     "metadata": {},
     "output_type": "execute_result"
    }
   ],
   "source": [
    "4558/10000"
   ]
  },
  {
   "cell_type": "markdown",
   "id": "61e31b82",
   "metadata": {},
   "source": [
    "A 45% probability"
   ]
  },
  {
   "cell_type": "markdown",
   "id": "80051890",
   "metadata": {},
   "source": [
    "### II. How likely is it that 450 students all download anaconda without an issue?"
   ]
  },
  {
   "cell_type": "code",
   "execution_count": 76,
   "id": "7cc26795",
   "metadata": {},
   "outputs": [
    {
     "data": {
      "text/plain": [
       "8369"
      ]
     },
     "execution_count": 76,
     "metadata": {},
     "output_type": "execute_result"
    }
   ],
   "source": [
    "n_students = 450 \n",
    "simulations = np.random.choice([True, False], p=[1/250, 249/250], size=(10_000, n_students))\n",
    "simulations\n",
    "simulations.any(axis=1).sum()"
   ]
  },
  {
   "cell_type": "code",
   "execution_count": 77,
   "id": "f339d7a3",
   "metadata": {},
   "outputs": [
    {
     "data": {
      "text/plain": [
       "0.8369"
      ]
     },
     "execution_count": 77,
     "metadata": {},
     "output_type": "execute_result"
    }
   ],
   "source": [
    "8369/10000"
   ]
  },
  {
   "cell_type": "markdown",
   "id": "c7096470",
   "metadata": {},
   "source": [
    "An 17% probability "
   ]
  },
  {
   "cell_type": "markdown",
   "id": "c6277ee1",
   "metadata": {},
   "source": [
    "Q7. There's a 70% chance on any given day that there will be at least one food truck at Travis Park. However, you haven't seen a food truck there in 3 days. How unlikely is this?"
   ]
  },
  {
   "cell_type": "code",
   "execution_count": 81,
   "id": "3e4a53ba",
   "metadata": {},
   "outputs": [
    {
     "data": {
      "text/plain": [
       "array([[0.99506392, 0.73420189, 0.51775892],\n",
       "       [0.0800494 , 0.18482718, 0.13014966],\n",
       "       [0.74251692, 0.65799799, 0.38680959],\n",
       "       ...,\n",
       "       [0.36530261, 0.45973899, 0.6073687 ],\n",
       "       [0.76001429, 0.26114043, 0.54278693],\n",
       "       [0.9776759 , 0.8250263 , 0.81262429]])"
      ]
     },
     "execution_count": 81,
     "metadata": {},
     "output_type": "execute_result"
    }
   ],
   "source": [
    "food_truck = .7\n",
    "ndays = ncols = 3\n",
    "iterations = nrows = 10000\n",
    "data = np.random.random((nrows, ncols))\n",
    "data\n",
    "\n"
   ]
  },
  {
   "cell_type": "code",
   "execution_count": 86,
   "id": "35468d9d",
   "metadata": {},
   "outputs": [
    {
     "data": {
      "text/plain": [
       "array([[False, False,  True],\n",
       "       [ True,  True,  True],\n",
       "       [False,  True,  True],\n",
       "       ...,\n",
       "       [ True,  True,  True],\n",
       "       [False,  True,  True],\n",
       "       [False, False, False]])"
      ]
     },
     "execution_count": 86,
     "metadata": {},
     "output_type": "execute_result"
    }
   ],
   "source": [
    "truck = data < 0.70\n",
    "truck"
   ]
  },
  {
   "cell_type": "code",
   "execution_count": 87,
   "id": "6f48b443",
   "metadata": {},
   "outputs": [
    {
     "data": {
      "text/plain": [
       "9728"
      ]
     },
     "execution_count": 87,
     "metadata": {},
     "output_type": "execute_result"
    }
   ],
   "source": [
    "truck.any(axis=1).sum()"
   ]
  },
  {
   "cell_type": "code",
   "execution_count": 88,
   "id": "930de20c",
   "metadata": {},
   "outputs": [
    {
     "data": {
      "text/plain": [
       "0.9728"
      ]
     },
     "execution_count": 88,
     "metadata": {},
     "output_type": "execute_result"
    }
   ],
   "source": [
    "9728/10000"
   ]
  },
  {
   "cell_type": "markdown",
   "id": "312d81d2",
   "metadata": {},
   "source": [
    "The probability of the truck not being there after three days is 2.68%"
   ]
  },
  {
   "cell_type": "markdown",
   "id": "b00f9854",
   "metadata": {},
   "source": [
    "### I. How likely is it that a food truck will show up sometime this week?"
   ]
  },
  {
   "cell_type": "code",
   "execution_count": 89,
   "id": "ed8ee03b",
   "metadata": {},
   "outputs": [
    {
     "data": {
      "text/plain": [
       "array([[0.19842854, 0.9064451 , 0.93749594, ..., 0.90026707, 0.48827506,\n",
       "        0.77701832],\n",
       "       [0.33798502, 0.27027299, 0.50058364, ..., 0.14922925, 0.79022106,\n",
       "        0.9981348 ],\n",
       "       [0.10604764, 0.30832491, 0.99522721, ..., 0.41199631, 0.55972056,\n",
       "        0.97152305],\n",
       "       ...,\n",
       "       [0.80404303, 0.34448305, 0.65407864, ..., 0.76960067, 0.33095556,\n",
       "        0.39260188],\n",
       "       [0.90228115, 0.98484751, 0.25866203, ..., 0.10646487, 0.52737205,\n",
       "        0.18502824],\n",
       "       [0.24167103, 0.50975916, 0.41583218, ..., 0.53984193, 0.35450694,\n",
       "        0.83410817]])"
      ]
     },
     "execution_count": 89,
     "metadata": {},
     "output_type": "execute_result"
    }
   ],
   "source": [
    "food_truck = .7\n",
    "ndays = ncols = 7\n",
    "iterations = nrows = 10000\n",
    "data = np.random.random((nrows, ncols))\n",
    "data"
   ]
  },
  {
   "cell_type": "code",
   "execution_count": 90,
   "id": "a03b9cb5",
   "metadata": {},
   "outputs": [
    {
     "data": {
      "text/plain": [
       "9997"
      ]
     },
     "execution_count": 90,
     "metadata": {},
     "output_type": "execute_result"
    }
   ],
   "source": [
    "truck = data < 0.70\n",
    "truck\n",
    "truck.any(axis=1).sum()"
   ]
  },
  {
   "cell_type": "markdown",
   "id": "5a2cf357",
   "metadata": {},
   "source": [
    "It is over 99% likely the truck will be there this week "
   ]
  },
  {
   "cell_type": "markdown",
   "id": "414e7e00",
   "metadata": {},
   "source": [
    "### Q8. If 23 people are in the same room, what are the odds that two of them share a birthday? What if it's 20 people? 40?"
   ]
  },
  {
   "cell_type": "code",
   "execution_count": 92,
   "id": "40d55f98",
   "metadata": {},
   "outputs": [
    {
     "data": {
      "text/plain": [
       "array([[241,  64, 349, ..., 114, 273, 139],\n",
       "       [ 29,  99, 203, ...,  25, 335, 215],\n",
       "       [248, 260, 343, ...,  95, 315, 170],\n",
       "       ...,\n",
       "       [167, 103, 232, ..., 173, 148, 197],\n",
       "       [ 41, 137,  47, ..., 120,  63, 114],\n",
       "       [ 44, 306, 188, ...,  85, 327, 127]])"
      ]
     },
     "execution_count": 92,
     "metadata": {},
     "output_type": "execute_result"
    }
   ],
   "source": [
    "#Create a sample of 10,000 that uses numbers 1-365 for 23 columns \n",
    "same_birthday = np.random.randint(1, 366, size=(10000, 23))\n",
    "same_birthday"
   ]
  },
  {
   "cell_type": "code",
   "execution_count": 94,
   "id": "aa605e0c",
   "metadata": {},
   "outputs": [
    {
     "data": {
      "text/html": [
       "<div>\n",
       "<style scoped>\n",
       "    .dataframe tbody tr th:only-of-type {\n",
       "        vertical-align: middle;\n",
       "    }\n",
       "\n",
       "    .dataframe tbody tr th {\n",
       "        vertical-align: top;\n",
       "    }\n",
       "\n",
       "    .dataframe thead th {\n",
       "        text-align: right;\n",
       "    }\n",
       "</style>\n",
       "<table border=\"1\" class=\"dataframe\">\n",
       "  <thead>\n",
       "    <tr style=\"text-align: right;\">\n",
       "      <th></th>\n",
       "      <th>0</th>\n",
       "      <th>1</th>\n",
       "      <th>2</th>\n",
       "      <th>3</th>\n",
       "      <th>4</th>\n",
       "      <th>5</th>\n",
       "      <th>6</th>\n",
       "      <th>7</th>\n",
       "      <th>8</th>\n",
       "      <th>9</th>\n",
       "      <th>...</th>\n",
       "      <th>13</th>\n",
       "      <th>14</th>\n",
       "      <th>15</th>\n",
       "      <th>16</th>\n",
       "      <th>17</th>\n",
       "      <th>18</th>\n",
       "      <th>19</th>\n",
       "      <th>20</th>\n",
       "      <th>21</th>\n",
       "      <th>22</th>\n",
       "    </tr>\n",
       "  </thead>\n",
       "  <tbody>\n",
       "    <tr>\n",
       "      <th>0</th>\n",
       "      <td>241</td>\n",
       "      <td>64</td>\n",
       "      <td>349</td>\n",
       "      <td>31</td>\n",
       "      <td>263</td>\n",
       "      <td>324</td>\n",
       "      <td>246</td>\n",
       "      <td>119</td>\n",
       "      <td>84</td>\n",
       "      <td>205</td>\n",
       "      <td>...</td>\n",
       "      <td>193</td>\n",
       "      <td>335</td>\n",
       "      <td>275</td>\n",
       "      <td>323</td>\n",
       "      <td>94</td>\n",
       "      <td>308</td>\n",
       "      <td>290</td>\n",
       "      <td>114</td>\n",
       "      <td>273</td>\n",
       "      <td>139</td>\n",
       "    </tr>\n",
       "    <tr>\n",
       "      <th>1</th>\n",
       "      <td>29</td>\n",
       "      <td>99</td>\n",
       "      <td>203</td>\n",
       "      <td>160</td>\n",
       "      <td>96</td>\n",
       "      <td>50</td>\n",
       "      <td>266</td>\n",
       "      <td>58</td>\n",
       "      <td>306</td>\n",
       "      <td>324</td>\n",
       "      <td>...</td>\n",
       "      <td>230</td>\n",
       "      <td>67</td>\n",
       "      <td>157</td>\n",
       "      <td>183</td>\n",
       "      <td>336</td>\n",
       "      <td>192</td>\n",
       "      <td>336</td>\n",
       "      <td>25</td>\n",
       "      <td>335</td>\n",
       "      <td>215</td>\n",
       "    </tr>\n",
       "    <tr>\n",
       "      <th>2</th>\n",
       "      <td>248</td>\n",
       "      <td>260</td>\n",
       "      <td>343</td>\n",
       "      <td>229</td>\n",
       "      <td>340</td>\n",
       "      <td>82</td>\n",
       "      <td>355</td>\n",
       "      <td>243</td>\n",
       "      <td>271</td>\n",
       "      <td>97</td>\n",
       "      <td>...</td>\n",
       "      <td>163</td>\n",
       "      <td>33</td>\n",
       "      <td>284</td>\n",
       "      <td>232</td>\n",
       "      <td>78</td>\n",
       "      <td>95</td>\n",
       "      <td>214</td>\n",
       "      <td>95</td>\n",
       "      <td>315</td>\n",
       "      <td>170</td>\n",
       "    </tr>\n",
       "    <tr>\n",
       "      <th>3</th>\n",
       "      <td>219</td>\n",
       "      <td>1</td>\n",
       "      <td>160</td>\n",
       "      <td>16</td>\n",
       "      <td>136</td>\n",
       "      <td>202</td>\n",
       "      <td>14</td>\n",
       "      <td>139</td>\n",
       "      <td>215</td>\n",
       "      <td>345</td>\n",
       "      <td>...</td>\n",
       "      <td>176</td>\n",
       "      <td>225</td>\n",
       "      <td>44</td>\n",
       "      <td>348</td>\n",
       "      <td>37</td>\n",
       "      <td>300</td>\n",
       "      <td>182</td>\n",
       "      <td>222</td>\n",
       "      <td>338</td>\n",
       "      <td>41</td>\n",
       "    </tr>\n",
       "    <tr>\n",
       "      <th>4</th>\n",
       "      <td>175</td>\n",
       "      <td>125</td>\n",
       "      <td>29</td>\n",
       "      <td>122</td>\n",
       "      <td>123</td>\n",
       "      <td>22</td>\n",
       "      <td>31</td>\n",
       "      <td>174</td>\n",
       "      <td>218</td>\n",
       "      <td>184</td>\n",
       "      <td>...</td>\n",
       "      <td>180</td>\n",
       "      <td>210</td>\n",
       "      <td>56</td>\n",
       "      <td>349</td>\n",
       "      <td>77</td>\n",
       "      <td>305</td>\n",
       "      <td>122</td>\n",
       "      <td>252</td>\n",
       "      <td>285</td>\n",
       "      <td>199</td>\n",
       "    </tr>\n",
       "    <tr>\n",
       "      <th>...</th>\n",
       "      <td>...</td>\n",
       "      <td>...</td>\n",
       "      <td>...</td>\n",
       "      <td>...</td>\n",
       "      <td>...</td>\n",
       "      <td>...</td>\n",
       "      <td>...</td>\n",
       "      <td>...</td>\n",
       "      <td>...</td>\n",
       "      <td>...</td>\n",
       "      <td>...</td>\n",
       "      <td>...</td>\n",
       "      <td>...</td>\n",
       "      <td>...</td>\n",
       "      <td>...</td>\n",
       "      <td>...</td>\n",
       "      <td>...</td>\n",
       "      <td>...</td>\n",
       "      <td>...</td>\n",
       "      <td>...</td>\n",
       "      <td>...</td>\n",
       "    </tr>\n",
       "    <tr>\n",
       "      <th>9995</th>\n",
       "      <td>266</td>\n",
       "      <td>274</td>\n",
       "      <td>358</td>\n",
       "      <td>274</td>\n",
       "      <td>240</td>\n",
       "      <td>290</td>\n",
       "      <td>89</td>\n",
       "      <td>339</td>\n",
       "      <td>194</td>\n",
       "      <td>335</td>\n",
       "      <td>...</td>\n",
       "      <td>113</td>\n",
       "      <td>260</td>\n",
       "      <td>130</td>\n",
       "      <td>115</td>\n",
       "      <td>103</td>\n",
       "      <td>323</td>\n",
       "      <td>167</td>\n",
       "      <td>150</td>\n",
       "      <td>225</td>\n",
       "      <td>109</td>\n",
       "    </tr>\n",
       "    <tr>\n",
       "      <th>9996</th>\n",
       "      <td>45</td>\n",
       "      <td>221</td>\n",
       "      <td>31</td>\n",
       "      <td>356</td>\n",
       "      <td>15</td>\n",
       "      <td>209</td>\n",
       "      <td>275</td>\n",
       "      <td>268</td>\n",
       "      <td>235</td>\n",
       "      <td>343</td>\n",
       "      <td>...</td>\n",
       "      <td>164</td>\n",
       "      <td>130</td>\n",
       "      <td>24</td>\n",
       "      <td>357</td>\n",
       "      <td>48</td>\n",
       "      <td>64</td>\n",
       "      <td>343</td>\n",
       "      <td>289</td>\n",
       "      <td>222</td>\n",
       "      <td>279</td>\n",
       "    </tr>\n",
       "    <tr>\n",
       "      <th>9997</th>\n",
       "      <td>167</td>\n",
       "      <td>103</td>\n",
       "      <td>232</td>\n",
       "      <td>338</td>\n",
       "      <td>52</td>\n",
       "      <td>67</td>\n",
       "      <td>114</td>\n",
       "      <td>291</td>\n",
       "      <td>260</td>\n",
       "      <td>173</td>\n",
       "      <td>...</td>\n",
       "      <td>355</td>\n",
       "      <td>107</td>\n",
       "      <td>327</td>\n",
       "      <td>256</td>\n",
       "      <td>89</td>\n",
       "      <td>310</td>\n",
       "      <td>137</td>\n",
       "      <td>173</td>\n",
       "      <td>148</td>\n",
       "      <td>197</td>\n",
       "    </tr>\n",
       "    <tr>\n",
       "      <th>9998</th>\n",
       "      <td>41</td>\n",
       "      <td>137</td>\n",
       "      <td>47</td>\n",
       "      <td>161</td>\n",
       "      <td>47</td>\n",
       "      <td>107</td>\n",
       "      <td>350</td>\n",
       "      <td>100</td>\n",
       "      <td>240</td>\n",
       "      <td>287</td>\n",
       "      <td>...</td>\n",
       "      <td>298</td>\n",
       "      <td>57</td>\n",
       "      <td>324</td>\n",
       "      <td>249</td>\n",
       "      <td>77</td>\n",
       "      <td>104</td>\n",
       "      <td>359</td>\n",
       "      <td>120</td>\n",
       "      <td>63</td>\n",
       "      <td>114</td>\n",
       "    </tr>\n",
       "    <tr>\n",
       "      <th>9999</th>\n",
       "      <td>44</td>\n",
       "      <td>306</td>\n",
       "      <td>188</td>\n",
       "      <td>209</td>\n",
       "      <td>213</td>\n",
       "      <td>245</td>\n",
       "      <td>323</td>\n",
       "      <td>206</td>\n",
       "      <td>360</td>\n",
       "      <td>99</td>\n",
       "      <td>...</td>\n",
       "      <td>77</td>\n",
       "      <td>178</td>\n",
       "      <td>338</td>\n",
       "      <td>55</td>\n",
       "      <td>314</td>\n",
       "      <td>80</td>\n",
       "      <td>255</td>\n",
       "      <td>85</td>\n",
       "      <td>327</td>\n",
       "      <td>127</td>\n",
       "    </tr>\n",
       "  </tbody>\n",
       "</table>\n",
       "<p>10000 rows × 23 columns</p>\n",
       "</div>"
      ],
      "text/plain": [
       "       0    1    2    3    4    5    6    7    8    9   ...   13   14   15  \\\n",
       "0     241   64  349   31  263  324  246  119   84  205  ...  193  335  275   \n",
       "1      29   99  203  160   96   50  266   58  306  324  ...  230   67  157   \n",
       "2     248  260  343  229  340   82  355  243  271   97  ...  163   33  284   \n",
       "3     219    1  160   16  136  202   14  139  215  345  ...  176  225   44   \n",
       "4     175  125   29  122  123   22   31  174  218  184  ...  180  210   56   \n",
       "...   ...  ...  ...  ...  ...  ...  ...  ...  ...  ...  ...  ...  ...  ...   \n",
       "9995  266  274  358  274  240  290   89  339  194  335  ...  113  260  130   \n",
       "9996   45  221   31  356   15  209  275  268  235  343  ...  164  130   24   \n",
       "9997  167  103  232  338   52   67  114  291  260  173  ...  355  107  327   \n",
       "9998   41  137   47  161   47  107  350  100  240  287  ...  298   57  324   \n",
       "9999   44  306  188  209  213  245  323  206  360   99  ...   77  178  338   \n",
       "\n",
       "       16   17   18   19   20   21   22  \n",
       "0     323   94  308  290  114  273  139  \n",
       "1     183  336  192  336   25  335  215  \n",
       "2     232   78   95  214   95  315  170  \n",
       "3     348   37  300  182  222  338   41  \n",
       "4     349   77  305  122  252  285  199  \n",
       "...   ...  ...  ...  ...  ...  ...  ...  \n",
       "9995  115  103  323  167  150  225  109  \n",
       "9996  357   48   64  343  289  222  279  \n",
       "9997  256   89  310  137  173  148  197  \n",
       "9998  249   77  104  359  120   63  114  \n",
       "9999   55  314   80  255   85  327  127  \n",
       "\n",
       "[10000 rows x 23 columns]"
      ]
     },
     "execution_count": 94,
     "metadata": {},
     "output_type": "execute_result"
    }
   ],
   "source": [
    "#convert the NP ARRAY to a database \n",
    "same_birthday = pd.DataFrame(same_birthday)\n",
    "same_birthday"
   ]
  },
  {
   "cell_type": "code",
   "execution_count": 96,
   "id": "65e3599b",
   "metadata": {},
   "outputs": [
    {
     "data": {
      "text/plain": [
       "0       False\n",
       "1        True\n",
       "2        True\n",
       "3       False\n",
       "4        True\n",
       "        ...  \n",
       "9995     True\n",
       "9996     True\n",
       "9997     True\n",
       "9998     True\n",
       "9999    False\n",
       "Length: 10000, dtype: bool"
      ]
     },
     "execution_count": 96,
     "metadata": {},
     "output_type": "execute_result"
    }
   ],
   "source": [
    "#Use the ununique operator to create a boolean list of True or False values, where True is yes two elements match across a row and False is no matching elements across row\n",
    "(same_birthday.apply(lambda birthdays: birthdays.nunique(), axis = 1) < 23)"
   ]
  },
  {
   "cell_type": "code",
   "execution_count": 97,
   "id": "09a1ee66",
   "metadata": {},
   "outputs": [
    {
     "data": {
      "text/plain": [
       "5093"
      ]
     },
     "execution_count": 97,
     "metadata": {},
     "output_type": "execute_result"
    }
   ],
   "source": [
    "(same_birthday.apply(lambda birthdays: birthdays.nunique(), axis = 1) < 23).sum()"
   ]
  },
  {
   "cell_type": "code",
   "execution_count": 98,
   "id": "f6b117e0",
   "metadata": {},
   "outputs": [
    {
     "data": {
      "text/plain": [
       "0.5093"
      ]
     },
     "execution_count": 98,
     "metadata": {},
     "output_type": "execute_result"
    }
   ],
   "source": [
    "5093/10000"
   ]
  },
  {
   "cell_type": "markdown",
   "id": "e45822ef",
   "metadata": {},
   "source": [
    "The probability of two people having the same birthdays in a room of 23 people is 50% "
   ]
  },
  {
   "cell_type": "code",
   "execution_count": 105,
   "id": "7987241a",
   "metadata": {},
   "outputs": [],
   "source": [
    "same_birthday = np.random.randint(1, 366, size=(10000, 20))"
   ]
  },
  {
   "cell_type": "code",
   "execution_count": 106,
   "id": "4e12e6a3",
   "metadata": {},
   "outputs": [
    {
     "data": {
      "text/html": [
       "<div>\n",
       "<style scoped>\n",
       "    .dataframe tbody tr th:only-of-type {\n",
       "        vertical-align: middle;\n",
       "    }\n",
       "\n",
       "    .dataframe tbody tr th {\n",
       "        vertical-align: top;\n",
       "    }\n",
       "\n",
       "    .dataframe thead th {\n",
       "        text-align: right;\n",
       "    }\n",
       "</style>\n",
       "<table border=\"1\" class=\"dataframe\">\n",
       "  <thead>\n",
       "    <tr style=\"text-align: right;\">\n",
       "      <th></th>\n",
       "      <th>0</th>\n",
       "      <th>1</th>\n",
       "      <th>2</th>\n",
       "      <th>3</th>\n",
       "      <th>4</th>\n",
       "      <th>5</th>\n",
       "      <th>6</th>\n",
       "      <th>7</th>\n",
       "      <th>8</th>\n",
       "      <th>9</th>\n",
       "      <th>10</th>\n",
       "      <th>11</th>\n",
       "      <th>12</th>\n",
       "      <th>13</th>\n",
       "      <th>14</th>\n",
       "      <th>15</th>\n",
       "      <th>16</th>\n",
       "      <th>17</th>\n",
       "      <th>18</th>\n",
       "      <th>19</th>\n",
       "    </tr>\n",
       "  </thead>\n",
       "  <tbody>\n",
       "    <tr>\n",
       "      <th>0</th>\n",
       "      <td>233</td>\n",
       "      <td>364</td>\n",
       "      <td>291</td>\n",
       "      <td>196</td>\n",
       "      <td>207</td>\n",
       "      <td>254</td>\n",
       "      <td>296</td>\n",
       "      <td>299</td>\n",
       "      <td>170</td>\n",
       "      <td>360</td>\n",
       "      <td>68</td>\n",
       "      <td>182</td>\n",
       "      <td>30</td>\n",
       "      <td>362</td>\n",
       "      <td>41</td>\n",
       "      <td>348</td>\n",
       "      <td>233</td>\n",
       "      <td>43</td>\n",
       "      <td>169</td>\n",
       "      <td>310</td>\n",
       "    </tr>\n",
       "    <tr>\n",
       "      <th>1</th>\n",
       "      <td>353</td>\n",
       "      <td>265</td>\n",
       "      <td>61</td>\n",
       "      <td>253</td>\n",
       "      <td>235</td>\n",
       "      <td>210</td>\n",
       "      <td>116</td>\n",
       "      <td>144</td>\n",
       "      <td>280</td>\n",
       "      <td>127</td>\n",
       "      <td>12</td>\n",
       "      <td>42</td>\n",
       "      <td>309</td>\n",
       "      <td>189</td>\n",
       "      <td>191</td>\n",
       "      <td>350</td>\n",
       "      <td>280</td>\n",
       "      <td>129</td>\n",
       "      <td>241</td>\n",
       "      <td>147</td>\n",
       "    </tr>\n",
       "    <tr>\n",
       "      <th>2</th>\n",
       "      <td>286</td>\n",
       "      <td>193</td>\n",
       "      <td>41</td>\n",
       "      <td>142</td>\n",
       "      <td>259</td>\n",
       "      <td>339</td>\n",
       "      <td>211</td>\n",
       "      <td>67</td>\n",
       "      <td>160</td>\n",
       "      <td>215</td>\n",
       "      <td>263</td>\n",
       "      <td>221</td>\n",
       "      <td>163</td>\n",
       "      <td>54</td>\n",
       "      <td>43</td>\n",
       "      <td>148</td>\n",
       "      <td>347</td>\n",
       "      <td>231</td>\n",
       "      <td>73</td>\n",
       "      <td>329</td>\n",
       "    </tr>\n",
       "    <tr>\n",
       "      <th>3</th>\n",
       "      <td>32</td>\n",
       "      <td>194</td>\n",
       "      <td>107</td>\n",
       "      <td>307</td>\n",
       "      <td>65</td>\n",
       "      <td>16</td>\n",
       "      <td>32</td>\n",
       "      <td>172</td>\n",
       "      <td>145</td>\n",
       "      <td>198</td>\n",
       "      <td>28</td>\n",
       "      <td>51</td>\n",
       "      <td>245</td>\n",
       "      <td>189</td>\n",
       "      <td>12</td>\n",
       "      <td>30</td>\n",
       "      <td>275</td>\n",
       "      <td>28</td>\n",
       "      <td>205</td>\n",
       "      <td>223</td>\n",
       "    </tr>\n",
       "    <tr>\n",
       "      <th>4</th>\n",
       "      <td>120</td>\n",
       "      <td>138</td>\n",
       "      <td>257</td>\n",
       "      <td>289</td>\n",
       "      <td>69</td>\n",
       "      <td>333</td>\n",
       "      <td>278</td>\n",
       "      <td>57</td>\n",
       "      <td>48</td>\n",
       "      <td>235</td>\n",
       "      <td>339</td>\n",
       "      <td>51</td>\n",
       "      <td>247</td>\n",
       "      <td>176</td>\n",
       "      <td>297</td>\n",
       "      <td>328</td>\n",
       "      <td>361</td>\n",
       "      <td>120</td>\n",
       "      <td>272</td>\n",
       "      <td>291</td>\n",
       "    </tr>\n",
       "    <tr>\n",
       "      <th>...</th>\n",
       "      <td>...</td>\n",
       "      <td>...</td>\n",
       "      <td>...</td>\n",
       "      <td>...</td>\n",
       "      <td>...</td>\n",
       "      <td>...</td>\n",
       "      <td>...</td>\n",
       "      <td>...</td>\n",
       "      <td>...</td>\n",
       "      <td>...</td>\n",
       "      <td>...</td>\n",
       "      <td>...</td>\n",
       "      <td>...</td>\n",
       "      <td>...</td>\n",
       "      <td>...</td>\n",
       "      <td>...</td>\n",
       "      <td>...</td>\n",
       "      <td>...</td>\n",
       "      <td>...</td>\n",
       "      <td>...</td>\n",
       "    </tr>\n",
       "    <tr>\n",
       "      <th>9995</th>\n",
       "      <td>57</td>\n",
       "      <td>228</td>\n",
       "      <td>296</td>\n",
       "      <td>209</td>\n",
       "      <td>23</td>\n",
       "      <td>116</td>\n",
       "      <td>281</td>\n",
       "      <td>42</td>\n",
       "      <td>118</td>\n",
       "      <td>209</td>\n",
       "      <td>233</td>\n",
       "      <td>325</td>\n",
       "      <td>10</td>\n",
       "      <td>75</td>\n",
       "      <td>140</td>\n",
       "      <td>243</td>\n",
       "      <td>292</td>\n",
       "      <td>134</td>\n",
       "      <td>113</td>\n",
       "      <td>128</td>\n",
       "    </tr>\n",
       "    <tr>\n",
       "      <th>9996</th>\n",
       "      <td>330</td>\n",
       "      <td>147</td>\n",
       "      <td>328</td>\n",
       "      <td>274</td>\n",
       "      <td>234</td>\n",
       "      <td>291</td>\n",
       "      <td>334</td>\n",
       "      <td>337</td>\n",
       "      <td>171</td>\n",
       "      <td>50</td>\n",
       "      <td>112</td>\n",
       "      <td>269</td>\n",
       "      <td>183</td>\n",
       "      <td>302</td>\n",
       "      <td>98</td>\n",
       "      <td>120</td>\n",
       "      <td>59</td>\n",
       "      <td>58</td>\n",
       "      <td>151</td>\n",
       "      <td>266</td>\n",
       "    </tr>\n",
       "    <tr>\n",
       "      <th>9997</th>\n",
       "      <td>312</td>\n",
       "      <td>360</td>\n",
       "      <td>88</td>\n",
       "      <td>27</td>\n",
       "      <td>108</td>\n",
       "      <td>363</td>\n",
       "      <td>212</td>\n",
       "      <td>274</td>\n",
       "      <td>331</td>\n",
       "      <td>319</td>\n",
       "      <td>164</td>\n",
       "      <td>360</td>\n",
       "      <td>326</td>\n",
       "      <td>117</td>\n",
       "      <td>289</td>\n",
       "      <td>183</td>\n",
       "      <td>43</td>\n",
       "      <td>115</td>\n",
       "      <td>158</td>\n",
       "      <td>123</td>\n",
       "    </tr>\n",
       "    <tr>\n",
       "      <th>9998</th>\n",
       "      <td>143</td>\n",
       "      <td>37</td>\n",
       "      <td>265</td>\n",
       "      <td>139</td>\n",
       "      <td>296</td>\n",
       "      <td>243</td>\n",
       "      <td>214</td>\n",
       "      <td>103</td>\n",
       "      <td>320</td>\n",
       "      <td>89</td>\n",
       "      <td>299</td>\n",
       "      <td>125</td>\n",
       "      <td>332</td>\n",
       "      <td>179</td>\n",
       "      <td>29</td>\n",
       "      <td>358</td>\n",
       "      <td>102</td>\n",
       "      <td>101</td>\n",
       "      <td>152</td>\n",
       "      <td>283</td>\n",
       "    </tr>\n",
       "    <tr>\n",
       "      <th>9999</th>\n",
       "      <td>21</td>\n",
       "      <td>197</td>\n",
       "      <td>87</td>\n",
       "      <td>11</td>\n",
       "      <td>115</td>\n",
       "      <td>179</td>\n",
       "      <td>331</td>\n",
       "      <td>288</td>\n",
       "      <td>149</td>\n",
       "      <td>91</td>\n",
       "      <td>339</td>\n",
       "      <td>213</td>\n",
       "      <td>106</td>\n",
       "      <td>362</td>\n",
       "      <td>73</td>\n",
       "      <td>338</td>\n",
       "      <td>315</td>\n",
       "      <td>31</td>\n",
       "      <td>19</td>\n",
       "      <td>112</td>\n",
       "    </tr>\n",
       "  </tbody>\n",
       "</table>\n",
       "<p>10000 rows × 20 columns</p>\n",
       "</div>"
      ],
      "text/plain": [
       "       0    1    2    3    4    5    6    7    8    9    10   11   12   13  \\\n",
       "0     233  364  291  196  207  254  296  299  170  360   68  182   30  362   \n",
       "1     353  265   61  253  235  210  116  144  280  127   12   42  309  189   \n",
       "2     286  193   41  142  259  339  211   67  160  215  263  221  163   54   \n",
       "3      32  194  107  307   65   16   32  172  145  198   28   51  245  189   \n",
       "4     120  138  257  289   69  333  278   57   48  235  339   51  247  176   \n",
       "...   ...  ...  ...  ...  ...  ...  ...  ...  ...  ...  ...  ...  ...  ...   \n",
       "9995   57  228  296  209   23  116  281   42  118  209  233  325   10   75   \n",
       "9996  330  147  328  274  234  291  334  337  171   50  112  269  183  302   \n",
       "9997  312  360   88   27  108  363  212  274  331  319  164  360  326  117   \n",
       "9998  143   37  265  139  296  243  214  103  320   89  299  125  332  179   \n",
       "9999   21  197   87   11  115  179  331  288  149   91  339  213  106  362   \n",
       "\n",
       "       14   15   16   17   18   19  \n",
       "0      41  348  233   43  169  310  \n",
       "1     191  350  280  129  241  147  \n",
       "2      43  148  347  231   73  329  \n",
       "3      12   30  275   28  205  223  \n",
       "4     297  328  361  120  272  291  \n",
       "...   ...  ...  ...  ...  ...  ...  \n",
       "9995  140  243  292  134  113  128  \n",
       "9996   98  120   59   58  151  266  \n",
       "9997  289  183   43  115  158  123  \n",
       "9998   29  358  102  101  152  283  \n",
       "9999   73  338  315   31   19  112  \n",
       "\n",
       "[10000 rows x 20 columns]"
      ]
     },
     "execution_count": 106,
     "metadata": {},
     "output_type": "execute_result"
    }
   ],
   "source": [
    "same_birthday = pd.DataFrame(same_birthday)\n",
    "same_birthday"
   ]
  },
  {
   "cell_type": "code",
   "execution_count": 108,
   "id": "b58806ab",
   "metadata": {},
   "outputs": [
    {
     "data": {
      "text/plain": [
       "4156"
      ]
     },
     "execution_count": 108,
     "metadata": {},
     "output_type": "execute_result"
    }
   ],
   "source": [
    "(same_birthday.apply(lambda birthday: birthday.nunique(), axis=1)<20).sum()"
   ]
  },
  {
   "cell_type": "code",
   "execution_count": 109,
   "id": "effeb500",
   "metadata": {},
   "outputs": [
    {
     "data": {
      "text/plain": [
       "0.4156"
      ]
     },
     "execution_count": 109,
     "metadata": {},
     "output_type": "execute_result"
    }
   ],
   "source": [
    "4156/10000"
   ]
  },
  {
   "cell_type": "markdown",
   "id": "f9191fce",
   "metadata": {},
   "source": [
    "In a room of 20 people, there is a 41% probability two people will share the same birthday. "
   ]
  },
  {
   "cell_type": "code",
   "execution_count": 113,
   "id": "cd2b39f8",
   "metadata": {},
   "outputs": [
    {
     "data": {
      "text/plain": [
       "array([[  6, 205, 127, ...,  67, 337, 213],\n",
       "       [232,  16, 273, ..., 215, 274, 266],\n",
       "       [ 42, 342,  42, ..., 200, 203,  12],\n",
       "       ...,\n",
       "       [177, 303,  95, ..., 259, 328, 240],\n",
       "       [  7,  49, 227, ...,  70, 258,  61],\n",
       "       [212, 336, 285, ...,  56, 351, 188]])"
      ]
     },
     "execution_count": 113,
     "metadata": {},
     "output_type": "execute_result"
    }
   ],
   "source": [
    "same_birthday = np.random.randint(1, 366, size=(10000, 40))\n",
    "same_birthday"
   ]
  },
  {
   "cell_type": "code",
   "execution_count": 115,
   "id": "80c30ff6",
   "metadata": {},
   "outputs": [
    {
     "data": {
      "text/html": [
       "<div>\n",
       "<style scoped>\n",
       "    .dataframe tbody tr th:only-of-type {\n",
       "        vertical-align: middle;\n",
       "    }\n",
       "\n",
       "    .dataframe tbody tr th {\n",
       "        vertical-align: top;\n",
       "    }\n",
       "\n",
       "    .dataframe thead th {\n",
       "        text-align: right;\n",
       "    }\n",
       "</style>\n",
       "<table border=\"1\" class=\"dataframe\">\n",
       "  <thead>\n",
       "    <tr style=\"text-align: right;\">\n",
       "      <th></th>\n",
       "      <th>0</th>\n",
       "      <th>1</th>\n",
       "      <th>2</th>\n",
       "      <th>3</th>\n",
       "      <th>4</th>\n",
       "      <th>5</th>\n",
       "      <th>6</th>\n",
       "      <th>7</th>\n",
       "      <th>8</th>\n",
       "      <th>9</th>\n",
       "      <th>...</th>\n",
       "      <th>30</th>\n",
       "      <th>31</th>\n",
       "      <th>32</th>\n",
       "      <th>33</th>\n",
       "      <th>34</th>\n",
       "      <th>35</th>\n",
       "      <th>36</th>\n",
       "      <th>37</th>\n",
       "      <th>38</th>\n",
       "      <th>39</th>\n",
       "    </tr>\n",
       "  </thead>\n",
       "  <tbody>\n",
       "    <tr>\n",
       "      <th>0</th>\n",
       "      <td>6</td>\n",
       "      <td>205</td>\n",
       "      <td>127</td>\n",
       "      <td>258</td>\n",
       "      <td>31</td>\n",
       "      <td>235</td>\n",
       "      <td>123</td>\n",
       "      <td>263</td>\n",
       "      <td>360</td>\n",
       "      <td>130</td>\n",
       "      <td>...</td>\n",
       "      <td>322</td>\n",
       "      <td>256</td>\n",
       "      <td>92</td>\n",
       "      <td>332</td>\n",
       "      <td>229</td>\n",
       "      <td>227</td>\n",
       "      <td>250</td>\n",
       "      <td>67</td>\n",
       "      <td>337</td>\n",
       "      <td>213</td>\n",
       "    </tr>\n",
       "    <tr>\n",
       "      <th>1</th>\n",
       "      <td>232</td>\n",
       "      <td>16</td>\n",
       "      <td>273</td>\n",
       "      <td>290</td>\n",
       "      <td>70</td>\n",
       "      <td>160</td>\n",
       "      <td>248</td>\n",
       "      <td>359</td>\n",
       "      <td>195</td>\n",
       "      <td>117</td>\n",
       "      <td>...</td>\n",
       "      <td>222</td>\n",
       "      <td>152</td>\n",
       "      <td>223</td>\n",
       "      <td>362</td>\n",
       "      <td>107</td>\n",
       "      <td>196</td>\n",
       "      <td>74</td>\n",
       "      <td>215</td>\n",
       "      <td>274</td>\n",
       "      <td>266</td>\n",
       "    </tr>\n",
       "    <tr>\n",
       "      <th>2</th>\n",
       "      <td>42</td>\n",
       "      <td>342</td>\n",
       "      <td>42</td>\n",
       "      <td>130</td>\n",
       "      <td>31</td>\n",
       "      <td>210</td>\n",
       "      <td>264</td>\n",
       "      <td>253</td>\n",
       "      <td>221</td>\n",
       "      <td>85</td>\n",
       "      <td>...</td>\n",
       "      <td>16</td>\n",
       "      <td>165</td>\n",
       "      <td>260</td>\n",
       "      <td>77</td>\n",
       "      <td>86</td>\n",
       "      <td>59</td>\n",
       "      <td>204</td>\n",
       "      <td>200</td>\n",
       "      <td>203</td>\n",
       "      <td>12</td>\n",
       "    </tr>\n",
       "    <tr>\n",
       "      <th>3</th>\n",
       "      <td>131</td>\n",
       "      <td>161</td>\n",
       "      <td>80</td>\n",
       "      <td>172</td>\n",
       "      <td>48</td>\n",
       "      <td>295</td>\n",
       "      <td>82</td>\n",
       "      <td>346</td>\n",
       "      <td>23</td>\n",
       "      <td>291</td>\n",
       "      <td>...</td>\n",
       "      <td>97</td>\n",
       "      <td>136</td>\n",
       "      <td>172</td>\n",
       "      <td>152</td>\n",
       "      <td>5</td>\n",
       "      <td>188</td>\n",
       "      <td>263</td>\n",
       "      <td>295</td>\n",
       "      <td>117</td>\n",
       "      <td>348</td>\n",
       "    </tr>\n",
       "    <tr>\n",
       "      <th>4</th>\n",
       "      <td>54</td>\n",
       "      <td>201</td>\n",
       "      <td>358</td>\n",
       "      <td>106</td>\n",
       "      <td>79</td>\n",
       "      <td>108</td>\n",
       "      <td>349</td>\n",
       "      <td>46</td>\n",
       "      <td>125</td>\n",
       "      <td>320</td>\n",
       "      <td>...</td>\n",
       "      <td>29</td>\n",
       "      <td>154</td>\n",
       "      <td>244</td>\n",
       "      <td>9</td>\n",
       "      <td>39</td>\n",
       "      <td>352</td>\n",
       "      <td>112</td>\n",
       "      <td>154</td>\n",
       "      <td>117</td>\n",
       "      <td>134</td>\n",
       "    </tr>\n",
       "    <tr>\n",
       "      <th>...</th>\n",
       "      <td>...</td>\n",
       "      <td>...</td>\n",
       "      <td>...</td>\n",
       "      <td>...</td>\n",
       "      <td>...</td>\n",
       "      <td>...</td>\n",
       "      <td>...</td>\n",
       "      <td>...</td>\n",
       "      <td>...</td>\n",
       "      <td>...</td>\n",
       "      <td>...</td>\n",
       "      <td>...</td>\n",
       "      <td>...</td>\n",
       "      <td>...</td>\n",
       "      <td>...</td>\n",
       "      <td>...</td>\n",
       "      <td>...</td>\n",
       "      <td>...</td>\n",
       "      <td>...</td>\n",
       "      <td>...</td>\n",
       "      <td>...</td>\n",
       "    </tr>\n",
       "    <tr>\n",
       "      <th>9995</th>\n",
       "      <td>157</td>\n",
       "      <td>332</td>\n",
       "      <td>172</td>\n",
       "      <td>26</td>\n",
       "      <td>41</td>\n",
       "      <td>296</td>\n",
       "      <td>63</td>\n",
       "      <td>296</td>\n",
       "      <td>172</td>\n",
       "      <td>22</td>\n",
       "      <td>...</td>\n",
       "      <td>297</td>\n",
       "      <td>50</td>\n",
       "      <td>146</td>\n",
       "      <td>240</td>\n",
       "      <td>323</td>\n",
       "      <td>211</td>\n",
       "      <td>321</td>\n",
       "      <td>63</td>\n",
       "      <td>191</td>\n",
       "      <td>160</td>\n",
       "    </tr>\n",
       "    <tr>\n",
       "      <th>9996</th>\n",
       "      <td>281</td>\n",
       "      <td>205</td>\n",
       "      <td>285</td>\n",
       "      <td>151</td>\n",
       "      <td>322</td>\n",
       "      <td>297</td>\n",
       "      <td>143</td>\n",
       "      <td>59</td>\n",
       "      <td>267</td>\n",
       "      <td>37</td>\n",
       "      <td>...</td>\n",
       "      <td>121</td>\n",
       "      <td>352</td>\n",
       "      <td>105</td>\n",
       "      <td>122</td>\n",
       "      <td>312</td>\n",
       "      <td>337</td>\n",
       "      <td>275</td>\n",
       "      <td>293</td>\n",
       "      <td>298</td>\n",
       "      <td>266</td>\n",
       "    </tr>\n",
       "    <tr>\n",
       "      <th>9997</th>\n",
       "      <td>177</td>\n",
       "      <td>303</td>\n",
       "      <td>95</td>\n",
       "      <td>207</td>\n",
       "      <td>237</td>\n",
       "      <td>203</td>\n",
       "      <td>323</td>\n",
       "      <td>220</td>\n",
       "      <td>111</td>\n",
       "      <td>3</td>\n",
       "      <td>...</td>\n",
       "      <td>186</td>\n",
       "      <td>146</td>\n",
       "      <td>142</td>\n",
       "      <td>76</td>\n",
       "      <td>2</td>\n",
       "      <td>244</td>\n",
       "      <td>204</td>\n",
       "      <td>259</td>\n",
       "      <td>328</td>\n",
       "      <td>240</td>\n",
       "    </tr>\n",
       "    <tr>\n",
       "      <th>9998</th>\n",
       "      <td>7</td>\n",
       "      <td>49</td>\n",
       "      <td>227</td>\n",
       "      <td>244</td>\n",
       "      <td>195</td>\n",
       "      <td>204</td>\n",
       "      <td>33</td>\n",
       "      <td>258</td>\n",
       "      <td>277</td>\n",
       "      <td>73</td>\n",
       "      <td>...</td>\n",
       "      <td>63</td>\n",
       "      <td>90</td>\n",
       "      <td>195</td>\n",
       "      <td>280</td>\n",
       "      <td>221</td>\n",
       "      <td>303</td>\n",
       "      <td>330</td>\n",
       "      <td>70</td>\n",
       "      <td>258</td>\n",
       "      <td>61</td>\n",
       "    </tr>\n",
       "    <tr>\n",
       "      <th>9999</th>\n",
       "      <td>212</td>\n",
       "      <td>336</td>\n",
       "      <td>285</td>\n",
       "      <td>186</td>\n",
       "      <td>54</td>\n",
       "      <td>55</td>\n",
       "      <td>346</td>\n",
       "      <td>307</td>\n",
       "      <td>196</td>\n",
       "      <td>274</td>\n",
       "      <td>...</td>\n",
       "      <td>100</td>\n",
       "      <td>132</td>\n",
       "      <td>346</td>\n",
       "      <td>212</td>\n",
       "      <td>207</td>\n",
       "      <td>181</td>\n",
       "      <td>77</td>\n",
       "      <td>56</td>\n",
       "      <td>351</td>\n",
       "      <td>188</td>\n",
       "    </tr>\n",
       "  </tbody>\n",
       "</table>\n",
       "<p>10000 rows × 40 columns</p>\n",
       "</div>"
      ],
      "text/plain": [
       "       0    1    2    3    4    5    6    7    8    9   ...   30   31   32  \\\n",
       "0       6  205  127  258   31  235  123  263  360  130  ...  322  256   92   \n",
       "1     232   16  273  290   70  160  248  359  195  117  ...  222  152  223   \n",
       "2      42  342   42  130   31  210  264  253  221   85  ...   16  165  260   \n",
       "3     131  161   80  172   48  295   82  346   23  291  ...   97  136  172   \n",
       "4      54  201  358  106   79  108  349   46  125  320  ...   29  154  244   \n",
       "...   ...  ...  ...  ...  ...  ...  ...  ...  ...  ...  ...  ...  ...  ...   \n",
       "9995  157  332  172   26   41  296   63  296  172   22  ...  297   50  146   \n",
       "9996  281  205  285  151  322  297  143   59  267   37  ...  121  352  105   \n",
       "9997  177  303   95  207  237  203  323  220  111    3  ...  186  146  142   \n",
       "9998    7   49  227  244  195  204   33  258  277   73  ...   63   90  195   \n",
       "9999  212  336  285  186   54   55  346  307  196  274  ...  100  132  346   \n",
       "\n",
       "       33   34   35   36   37   38   39  \n",
       "0     332  229  227  250   67  337  213  \n",
       "1     362  107  196   74  215  274  266  \n",
       "2      77   86   59  204  200  203   12  \n",
       "3     152    5  188  263  295  117  348  \n",
       "4       9   39  352  112  154  117  134  \n",
       "...   ...  ...  ...  ...  ...  ...  ...  \n",
       "9995  240  323  211  321   63  191  160  \n",
       "9996  122  312  337  275  293  298  266  \n",
       "9997   76    2  244  204  259  328  240  \n",
       "9998  280  221  303  330   70  258   61  \n",
       "9999  212  207  181   77   56  351  188  \n",
       "\n",
       "[10000 rows x 40 columns]"
      ]
     },
     "execution_count": 115,
     "metadata": {},
     "output_type": "execute_result"
    }
   ],
   "source": [
    "same_birthday = pd.DataFrame(same_birthday)\n",
    "same_birthday"
   ]
  },
  {
   "cell_type": "code",
   "execution_count": 118,
   "id": "946fda12",
   "metadata": {},
   "outputs": [
    {
     "data": {
      "text/plain": [
       "0        True\n",
       "1       False\n",
       "2        True\n",
       "3        True\n",
       "4        True\n",
       "        ...  \n",
       "9995     True\n",
       "9996     True\n",
       "9997     True\n",
       "9998     True\n",
       "9999     True\n",
       "Length: 10000, dtype: bool"
      ]
     },
     "execution_count": 118,
     "metadata": {},
     "output_type": "execute_result"
    }
   ],
   "source": [
    "(same_birthday.apply(lambda birthday: birthday.nunique(), axis=1) < 40) "
   ]
  },
  {
   "cell_type": "code",
   "execution_count": 119,
   "id": "ad0bbdd6",
   "metadata": {},
   "outputs": [
    {
     "data": {
      "text/plain": [
       "8897"
      ]
     },
     "execution_count": 119,
     "metadata": {},
     "output_type": "execute_result"
    }
   ],
   "source": [
    "(same_birthday.apply(lambda birthday: birthday.nunique(), axis=1) < 40).sum()"
   ]
  },
  {
   "cell_type": "code",
   "execution_count": 120,
   "id": "7959d011",
   "metadata": {},
   "outputs": [
    {
     "data": {
      "text/plain": [
       "0.8897"
      ]
     },
     "execution_count": 120,
     "metadata": {},
     "output_type": "execute_result"
    }
   ],
   "source": [
    "8897/10000"
   ]
  },
  {
   "cell_type": "markdown",
   "id": "46ce75f4",
   "metadata": {},
   "source": [
    "In a room of 40 people, there is almost an 89% probability two people will share the same birthday"
   ]
  },
  {
   "cell_type": "code",
   "execution_count": null,
   "id": "1f9d263c",
   "metadata": {},
   "outputs": [],
   "source": []
  }
 ],
 "metadata": {
  "kernelspec": {
   "display_name": "Python 3 (ipykernel)",
   "language": "python",
   "name": "python3"
  },
  "language_info": {
   "codemirror_mode": {
    "name": "ipython",
    "version": 3
   },
   "file_extension": ".py",
   "mimetype": "text/x-python",
   "name": "python",
   "nbconvert_exporter": "python",
   "pygments_lexer": "ipython3",
   "version": "3.9.7"
  }
 },
 "nbformat": 4,
 "nbformat_minor": 5
}
