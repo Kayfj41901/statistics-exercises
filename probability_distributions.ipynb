{
 "cells": [
  {
   "cell_type": "markdown",
   "id": "8e2dcc67",
   "metadata": {},
   "source": [
    "# Probability Distributions"
   ]
  },
  {
   "cell_type": "markdown",
   "id": "774cd7bf",
   "metadata": {},
   "source": [
    "### Four Most Common Distributions "
   ]
  },
  {
   "cell_type": "markdown",
   "id": "34d0ddad",
   "metadata": {},
   "source": [
    "*Uniform - have equal likelihood, like a coin"
   ]
  },
  {
   "cell_type": "markdown",
   "id": "2ec89233",
   "metadata": {},
   "source": [
    "*Normal - model continuous random variable"
   ]
  },
  {
   "cell_type": "markdown",
   "id": "b2c1df06",
   "metadata": {},
   "source": [
    "*Binomial - binary outcome of an event.. success/failure"
   ]
  },
  {
   "cell_type": "markdown",
   "id": "5d9ce43a",
   "metadata": {},
   "source": [
    "*Poisson - certain number of events occurring over a time interval"
   ]
  },
  {
   "cell_type": "code",
   "execution_count": 9,
   "id": "62df093e",
   "metadata": {},
   "outputs": [],
   "source": [
    "import matplotlib.pyplot as plt\n",
    "import numpy as np\n",
    "from scipy import stats\n",
    "import pandas as pd"
   ]
  },
  {
   "cell_type": "code",
   "execution_count": 10,
   "id": "52a6cfb3",
   "metadata": {},
   "outputs": [],
   "source": [
    "np.random.seed(123)"
   ]
  },
  {
   "cell_type": "markdown",
   "id": "a0778fb6",
   "metadata": {},
   "source": [
    "### Uniform Distribution "
   ]
  },
  {
   "cell_type": "markdown",
   "id": "15b0954d",
   "metadata": {},
   "source": [
    "An example of an event that can be modeled with the uniform distribution is the outcome of rolling a 6-sided die."
   ]
  },
  {
   "cell_type": "markdown",
   "id": "21ec702a",
   "metadata": {},
   "source": [
    "### Examples of different distributions in SciPy"
   ]
  },
  {
   "cell_type": "markdown",
   "id": "79606eff",
   "metadata": {},
   "source": [
    "*rvs"
   ]
  },
  {
   "cell_type": "markdown",
   "id": "e9ee617a",
   "metadata": {},
   "source": [
    "*pmf / pdf"
   ]
  },
  {
   "cell_type": "markdown",
   "id": "615353bd",
   "metadata": {},
   "source": [
    "*cdf / ppf"
   ]
  },
  {
   "cell_type": "markdown",
   "id": "baeabcfe",
   "metadata": {},
   "source": [
    "*sf / isf"
   ]
  },
  {
   "cell_type": "code",
   "execution_count": 6,
   "id": "4e50daee",
   "metadata": {},
   "outputs": [],
   "source": [
    "die_distribution = stats.randint(1, 7)"
   ]
  },
  {
   "cell_type": "markdown",
   "id": "78e56437",
   "metadata": {},
   "source": [
    "### Random Values"
   ]
  },
  {
   "cell_type": "code",
   "execution_count": 7,
   "id": "e287f829",
   "metadata": {},
   "outputs": [
    {
     "data": {
      "text/plain": [
       "6"
      ]
     },
     "execution_count": 7,
     "metadata": {},
     "output_type": "execute_result"
    }
   ],
   "source": [
    "die_distribution.rvs()"
   ]
  },
  {
   "cell_type": "code",
   "execution_count": 8,
   "id": "d427959e",
   "metadata": {},
   "outputs": [
    {
     "data": {
      "text/plain": [
       "array([3, 5, 3, 2, 4])"
      ]
     },
     "execution_count": 8,
     "metadata": {},
     "output_type": "execute_result"
    }
   ],
   "source": [
    "die_distribution.rvs(5)"
   ]
  },
  {
   "cell_type": "code",
   "execution_count": 9,
   "id": "b501d21f",
   "metadata": {},
   "outputs": [
    {
     "data": {
      "text/plain": [
       "array([[3, 4, 2, 2, 1],\n",
       "       [2, 2, 1, 1, 2],\n",
       "       [4, 6, 5, 1, 1],\n",
       "       [5, 2, 4, 3, 5],\n",
       "       [3, 5, 1, 6, 1]])"
      ]
     },
     "execution_count": 9,
     "metadata": {},
     "output_type": "execute_result"
    }
   ],
   "source": [
    "die_distribution.rvs((5,5))"
   ]
  },
  {
   "cell_type": "code",
   "execution_count": 10,
   "id": "519f10fa",
   "metadata": {},
   "outputs": [
    {
     "data": {
      "text/plain": [
       "Text(0.5, 1.0, 'Outcome of 10,000 Dice Rolls')"
      ]
     },
     "execution_count": 10,
     "metadata": {},
     "output_type": "execute_result"
    },
    {
     "data": {
      "image/png": "[encoded data removed]",
      "text/plain": [
       "<Figure size 432x288 with 1 Axes>"
      ]
     },
     "metadata": {
      "needs_background": "light"
     },
     "output_type": "display_data"
    }
   ],
   "source": [
    "n = 10_000\n",
    "\n",
    "x= die_distribution.rvs(n)\n",
    "\n",
    "plt.hist(x, bins=range(0, 9), align='left', width=1, edgecolor='black')\n",
    "plt.title(f'Outcome of {n:,} Dice Rolls')"
   ]
  },
  {
   "cell_type": "markdown",
   "id": "59debafa",
   "metadata": {},
   "source": [
    "### PMF / PDF"
   ]
  },
  {
   "cell_type": "markdown",
   "id": "c6486699",
   "metadata": {},
   "source": [
    "Probability of any single outcome, like rolling a 3 on a dice "
   ]
  },
  {
   "cell_type": "code",
   "execution_count": 11,
   "id": "89c3ffbc",
   "metadata": {},
   "outputs": [
    {
     "data": {
      "text/plain": [
       "0.16666666666666666"
      ]
     },
     "execution_count": 11,
     "metadata": {},
     "output_type": "execute_result"
    }
   ],
   "source": [
    "die_distribution.pmf(3)"
   ]
  },
  {
   "cell_type": "code",
   "execution_count": 12,
   "id": "fd372218",
   "metadata": {},
   "outputs": [
    {
     "data": {
      "text/plain": [
       "array([0.16666667, 0.16666667, 0.16666667])"
      ]
     },
     "execution_count": 12,
     "metadata": {},
     "output_type": "execute_result"
    }
   ],
   "source": [
    "die_distribution.pmf([1, 2, 3])"
   ]
  },
  {
   "cell_type": "markdown",
   "id": "fc57f4ec",
   "metadata": {},
   "source": [
    "### CDF PPF "
   ]
  },
  {
   "cell_type": "markdown",
   "id": "77b133e9",
   "metadata": {},
   "source": [
    "Likelihood of a single outcome or all the results below. IE: What's the probability of rolling a 3 or lower?"
   ]
  },
  {
   "cell_type": "code",
   "execution_count": 14,
   "id": "a3a5dc51",
   "metadata": {},
   "outputs": [
    {
     "data": {
      "text/plain": [
       "0.5"
      ]
     },
     "execution_count": 14,
     "metadata": {},
     "output_type": "execute_result"
    }
   ],
   "source": [
    "#3 or lower is half the outcomes and therefore a 50% probability \n",
    "die_distribution.cdf(3)"
   ]
  },
  {
   "cell_type": "markdown",
   "id": "3743006f",
   "metadata": {},
   "source": [
    "### PPF"
   ]
  },
  {
   "cell_type": "markdown",
   "id": "0c2cf12c",
   "metadata": {},
   "source": [
    "Also known as quantile function, can be thought of as inverse of cdf: takes in probability "
   ]
  },
  {
   "cell_type": "code",
   "execution_count": 21,
   "id": "0ba62108",
   "metadata": {},
   "outputs": [
    {
     "data": {
      "text/plain": [
       "5.0"
      ]
     },
     "execution_count": 21,
     "metadata": {},
     "output_type": "execute_result"
    }
   ],
   "source": [
    "die_distribution.ppf(5/6)"
   ]
  },
  {
   "cell_type": "markdown",
   "id": "c148c7bf",
   "metadata": {},
   "source": [
    "### SF / ISF"
   ]
  },
  {
   "cell_type": "markdown",
   "id": "5157d7c9",
   "metadata": {},
   "source": [
    "Survival function: IE \"What is the likelihood of rolling a value higher than 4?\""
   ]
  },
  {
   "cell_type": "code",
   "execution_count": 16,
   "id": "f3320b72",
   "metadata": {},
   "outputs": [
    {
     "data": {
      "text/plain": [
       "0.33333333333333337"
      ]
     },
     "execution_count": 16,
     "metadata": {},
     "output_type": "execute_result"
    }
   ],
   "source": [
    "die_distribution.sf(4)"
   ]
  },
  {
   "cell_type": "code",
   "execution_count": 17,
   "id": "2ac822da",
   "metadata": {},
   "outputs": [
    {
     "data": {
      "text/plain": [
       "4.0"
      ]
     },
     "execution_count": 17,
     "metadata": {},
     "output_type": "execute_result"
    }
   ],
   "source": [
    "# There is a 1/3 chance a dice roll will be higher than what value?\n",
    "die_distribution.isf(1/3)"
   ]
  },
  {
   "cell_type": "markdown",
   "id": "5ada7c60",
   "metadata": {},
   "source": [
    "# Binomial Distribution"
   ]
  },
  {
   "cell_type": "markdown",
   "id": "9057259d",
   "metadata": {},
   "source": [
    "### Model Number of Successes After a Number of Trials - Given A Certain Probability of Success"
   ]
  },
  {
   "cell_type": "markdown",
   "id": "82b529f0",
   "metadata": {},
   "source": [
    "For example:"
   ]
  },
  {
   "cell_type": "markdown",
   "id": "98764d3d",
   "metadata": {},
   "source": [
    "You are taking a multiple choice test consisting of 30 questions that you forgot to study for. Each question has 4 possible answers and you will choose one at random. What is the probability you get more than 10 of the questions right?"
   ]
  },
  {
   "cell_type": "markdown",
   "id": "f505b80c",
   "metadata": {},
   "source": [
    "Here we have a probability of success, 0.25, and a number of trials, 30. We'll define X as the number of questions we get right on the test. We want to know the probability that X > 10, which tells us we want to use the survival function."
   ]
  },
  {
   "cell_type": "code",
   "execution_count": 18,
   "id": "00d54a8e",
   "metadata": {},
   "outputs": [
    {
     "data": {
      "text/plain": [
       "0.10572812269266013"
      ]
     },
     "execution_count": 18,
     "metadata": {},
     "output_type": "execute_result"
    }
   ],
   "source": [
    "stats.binom(30, .25).sf(10)"
   ]
  },
  {
   "cell_type": "markdown",
   "id": "6fb9c8ad",
   "metadata": {},
   "source": [
    "You have just over a 10% probability of getting more than 10 questions correct "
   ]
  },
  {
   "cell_type": "markdown",
   "id": "8b316f19",
   "metadata": {},
   "source": [
    "Suppose in a class of 20 there is a 5% chance of a student showing up late. What are the odds a student shows up late? "
   ]
  },
  {
   "cell_type": "code",
   "execution_count": 20,
   "id": "1e106468",
   "metadata": {},
   "outputs": [
    {
     "data": {
      "text/plain": [
       "0.37735360253530753"
      ]
     },
     "execution_count": 20,
     "metadata": {},
     "output_type": "execute_result"
    }
   ],
   "source": [
    "stats.binom(20, .05).pmf(1)"
   ]
  },
  {
   "cell_type": "code",
   "execution_count": null,
   "id": "aeecaaef",
   "metadata": {},
   "outputs": [],
   "source": [
    "There is a 37% chance of one person showing up late"
   ]
  },
  {
   "cell_type": "markdown",
   "id": "126c4dbc",
   "metadata": {},
   "source": [
    "# Normal Distribution"
   ]
  },
  {
   "cell_type": "markdown",
   "id": "630360de",
   "metadata": {},
   "source": [
    "The normal distribution models a continuous random variable where the further away from the mean you are, the less likely the outcome. This is commonly referred to as the 'bell curve'."
   ]
  },
  {
   "cell_type": "markdown",
   "id": "cb1d7e33",
   "metadata": {},
   "source": [
    "A normal distribution is defined by a mean and a standard deviation. The standard normal distribution is a normal distribution with a mean of 0 and standard deviation of 1."
   ]
  },
  {
   "cell_type": "markdown",
   "id": "1a61569b",
   "metadata": {},
   "source": [
    "Suppose that a store's daily sales are normally distributed with a mean of 12,000 dollars and standard deviation of 2000 dollars. How much would the daily sales have to be to be in the top 10% of all days?"
   ]
  },
  {
   "cell_type": "code",
   "execution_count": 23,
   "id": "9b7610f0",
   "metadata": {},
   "outputs": [
    {
     "name": "stdout",
     "output_type": "stream",
     "text": [
      "$14,563.10\n"
     ]
    }
   ],
   "source": [
    "μ = 12000\n",
    "σ = 2000\n",
    "\n",
    "sales = stats.norm(μ, σ)\n",
    "\n",
    "top_10_percent_cutoff = sales.ppf(.9)\n",
    "\n",
    "print('${:,.2f}'.format(top_10_percent_cutoff))"
   ]
  },
  {
   "cell_type": "markdown",
   "id": "d1dd3041",
   "metadata": {},
   "source": [
    "How likely is it that the store sells less than 10,000 dollars one day?"
   ]
  },
  {
   "cell_type": "code",
   "execution_count": 24,
   "id": "550a02aa",
   "metadata": {},
   "outputs": [
    {
     "name": "stdout",
     "output_type": "stream",
     "text": [
      "Ony any given day, there's a 15.9% chance we sell less than $10,000.\n"
     ]
    }
   ],
   "source": [
    "p = sales.cdf(10_000)\n",
    "\n",
    "print(f'Ony any given day, there\\'s a {p:.1%} chance we sell less than $10,000.')"
   ]
  },
  {
   "cell_type": "markdown",
   "id": "ed8981ed",
   "metadata": {},
   "source": [
    "# Poisson Distribution"
   ]
  },
  {
   "cell_type": "markdown",
   "id": "910a053c",
   "metadata": {},
   "source": [
    "The poisson distribution lets us model a situation where a certain number of events happen over a specified time interval. The number of events that happen is a discrete measure, and this distribution can tell us the likelihood of a certain number of events occuring over a time period."
   ]
  },
  {
   "cell_type": "markdown",
   "id": "0c13893b",
   "metadata": {},
   "source": [
    "The poisson distribution assumes that the events are independent of each other and independent of the time since the last event. We must also know the average rate to use a poisson distribution."
   ]
  },
  {
   "cell_type": "markdown",
   "id": "82100d3b",
   "metadata": {},
   "source": [
    "Think of: "
   ]
  },
  {
   "cell_type": "markdown",
   "id": "84cae352",
   "metadata": {},
   "source": [
    "Number of emails sent by a mail server in a day, number of phone calls received by a call center per hour, number of decay events per second from a radioactive source"
   ]
  },
  {
   "cell_type": "markdown",
   "id": "5b90b02a",
   "metadata": {},
   "source": [
    "Example: Codeup knows that, on average, students consume 5 lbs of coffee per week. How likely is it that the coffee consumption for this week is only 3 lbs?"
   ]
  },
  {
   "cell_type": "code",
   "execution_count": 25,
   "id": "162b27d8",
   "metadata": {},
   "outputs": [
    {
     "data": {
      "text/plain": [
       "0.1403738958142805"
      ]
     },
     "execution_count": 25,
     "metadata": {},
     "output_type": "execute_result"
    }
   ],
   "source": [
    "stats.poisson(5).pmf(3)"
   ]
  },
  {
   "cell_type": "markdown",
   "id": "3abf00b6",
   "metadata": {},
   "source": [
    "Example: What is the likelihood that more than 7 lbs of coffee are consumed?"
   ]
  },
  {
   "cell_type": "code",
   "execution_count": 26,
   "id": "c7060ba6",
   "metadata": {},
   "outputs": [
    {
     "data": {
      "text/plain": [
       "0.13337167407000744"
      ]
     },
     "execution_count": 26,
     "metadata": {},
     "output_type": "execute_result"
    }
   ],
   "source": [
    "stats.poisson(5).sf(7)"
   ]
  },
  {
   "cell_type": "markdown",
   "id": "564d1631",
   "metadata": {},
   "source": [
    "# Problem Set "
   ]
  },
  {
   "cell_type": "markdown",
   "id": "fd7748d8",
   "metadata": {},
   "source": [
    "Question 1"
   ]
  },
  {
   "cell_type": "code",
   "execution_count": 53,
   "id": "5ce86dd7",
   "metadata": {},
   "outputs": [
    {
     "data": {
      "text/plain": [
       "<BarContainer object of 12 artists>"
      ]
     },
     "execution_count": 53,
     "metadata": {},
     "output_type": "execute_result"
    },
    {
     "data": {
      "image/png": "[encoded data removed]",
      "text/plain": [
       "<Figure size 432x288 with 1 Axes>"
      ]
     },
     "metadata": {
      "needs_background": "light"
     },
     "output_type": "display_data"
    }
   ],
   "source": [
    "mean = 2 \n",
    "x = np.arange(0,12)\n",
    "y = stats.poisson(mean).pmf(x)\n",
    "plt.bar(x,y)"
   ]
  },
  {
   "cell_type": "markdown",
   "id": "6b635e3f",
   "metadata": {},
   "source": [
    "What is the probability that no cars drive up in the noon hour?"
   ]
  },
  {
   "cell_type": "code",
   "execution_count": 31,
   "id": "867f7da5",
   "metadata": {},
   "outputs": [
    {
     "data": {
      "text/plain": [
       "0.1353352832366127"
      ]
     },
     "execution_count": 31,
     "metadata": {},
     "output_type": "execute_result"
    }
   ],
   "source": [
    "stats.poisson(2).pmf(0)"
   ]
  },
  {
   "cell_type": "markdown",
   "id": "df8cd98f",
   "metadata": {},
   "source": [
    "What is the probability that 3 or more cars come through the drive through?"
   ]
  },
  {
   "cell_type": "code",
   "execution_count": 11,
   "id": "62399e78",
   "metadata": {},
   "outputs": [
    {
     "data": {
      "text/plain": [
       "0.32332358381693654"
      ]
     },
     "execution_count": 11,
     "metadata": {},
     "output_type": "execute_result"
    }
   ],
   "source": [
    "stats.poisson(2).sf(2)"
   ]
  },
  {
   "cell_type": "markdown",
   "id": "f35500a3",
   "metadata": {},
   "source": [
    "How likely is it that the drive through gets at least 1 car?"
   ]
  },
  {
   "cell_type": "code",
   "execution_count": 54,
   "id": "db7153f0",
   "metadata": {},
   "outputs": [
    {
     "data": {
      "text/plain": [
       "0.8646647167633873"
      ]
     },
     "execution_count": 54,
     "metadata": {},
     "output_type": "execute_result"
    }
   ],
   "source": [
    "stats.poisson(2).sf(0)"
   ]
  },
  {
   "cell_type": "markdown",
   "id": "96e6e7b9",
   "metadata": {},
   "source": [
    "Question 2"
   ]
  },
  {
   "cell_type": "markdown",
   "id": "eda07411",
   "metadata": {},
   "source": [
    "Normal Distribution: "
   ]
  },
  {
   "cell_type": "markdown",
   "id": "27732c99",
   "metadata": {},
   "source": [
    "Mean = 3 \n",
    "STDDV = 0.3"
   ]
  },
  {
   "cell_type": "markdown",
   "id": "a67011f5",
   "metadata": {},
   "source": [
    "What grade point average is required to be in the top 5% of the graduating class?"
   ]
  },
  {
   "cell_type": "code",
   "execution_count": 48,
   "id": "fb9655af",
   "metadata": {},
   "outputs": [],
   "source": [
    "GPA = stats.norm(3, 0.3)"
   ]
  },
  {
   "cell_type": "code",
   "execution_count": 61,
   "id": "c640b1e4",
   "metadata": {},
   "outputs": [
    {
     "data": {
      "text/plain": [
       "3.4934560880854417"
      ]
     },
     "execution_count": 61,
     "metadata": {},
     "output_type": "execute_result"
    }
   ],
   "source": [
    "top_five_percent = GPA.ppf(.95)\n",
    "top_five_percent"
   ]
  },
  {
   "cell_type": "code",
   "execution_count": 62,
   "id": "7d4f6e55",
   "metadata": {},
   "outputs": [
    {
     "name": "stdout",
     "output_type": "stream",
     "text": [
      "A 3.49 GPA or higher is required to be in the top 5% of the graduating class\n"
     ]
    }
   ],
   "source": [
    "print('A 3.49 GPA or higher is required to be in the top 5% of the graduating class')"
   ]
  },
  {
   "cell_type": "markdown",
   "id": "ed5571b0",
   "metadata": {},
   "source": [
    "What GPA constitutes the bottom 15% of the class?"
   ]
  },
  {
   "cell_type": "code",
   "execution_count": 54,
   "id": "788c863b",
   "metadata": {},
   "outputs": [
    {
     "data": {
      "text/plain": [
       "2.689069983151863"
      ]
     },
     "execution_count": 54,
     "metadata": {},
     "output_type": "execute_result"
    }
   ],
   "source": [
    "bottom_fifteen= GPA.ppf(.15)\n",
    "bottom_fifteen"
   ]
  },
  {
   "cell_type": "code",
   "execution_count": 56,
   "id": "1f4f0e5d",
   "metadata": {},
   "outputs": [
    {
     "name": "stdout",
     "output_type": "stream",
     "text": [
      "If you have a GPA of 2.68 or lower you are in the bottom 15%\n"
     ]
    }
   ],
   "source": [
    "print('If you have a GPA of 2.68 or lower you are in the bottom 15%')"
   ]
  },
  {
   "cell_type": "markdown",
   "id": "7c7c9467",
   "metadata": {},
   "source": [
    "An eccentric alumnus left scholarship money for students in the third decile from the bottom of their class. Determine the range of the third decile. Would a student with a 2.8 grade point average qualify for this scholarship?"
   ]
  },
  {
   "cell_type": "code",
   "execution_count": 63,
   "id": "c7aaab88",
   "metadata": {},
   "outputs": [
    {
     "data": {
      "text/plain": [
       "2.916204289665764"
      ]
     },
     "execution_count": 63,
     "metadata": {},
     "output_type": "execute_result"
    }
   ],
   "source": [
    "GPA.ppf(.39)"
   ]
  },
  {
   "cell_type": "code",
   "execution_count": 65,
   "id": "f7f7bf61",
   "metadata": {},
   "outputs": [
    {
     "data": {
      "text/plain": [
       "2.842679846187588"
      ]
     },
     "execution_count": 65,
     "metadata": {},
     "output_type": "execute_result"
    }
   ],
   "source": [
    "GPA.ppf(.30)"
   ]
  },
  {
   "cell_type": "code",
   "execution_count": 66,
   "id": "60aafe63",
   "metadata": {},
   "outputs": [
    {
     "name": "stdout",
     "output_type": "stream",
     "text": [
      "A student would need to be at or between a 2.84 and 2.91 GPA to qualify for the scholarship\n"
     ]
    }
   ],
   "source": [
    "print('A student would need to be at or between a 2.84 and 2.91 GPA to qualify for the scholarship')"
   ]
  },
  {
   "cell_type": "markdown",
   "id": "1a69e80b",
   "metadata": {},
   "source": [
    "If I have a GPA of 3.5, what percentile am I in?"
   ]
  },
  {
   "cell_type": "code",
   "execution_count": 67,
   "id": "8df1b3dd",
   "metadata": {},
   "outputs": [
    {
     "data": {
      "text/plain": [
       "0.9522096477271853"
      ]
     },
     "execution_count": 67,
     "metadata": {},
     "output_type": "execute_result"
    }
   ],
   "source": [
    "GPA.cdf(3.5)"
   ]
  },
  {
   "cell_type": "code",
   "execution_count": 68,
   "id": "aa06a7b1",
   "metadata": {},
   "outputs": [
    {
     "name": "stdout",
     "output_type": "stream",
     "text": [
      "You are in the 95th percentile\n"
     ]
    }
   ],
   "source": [
    "print('You are in the 95th percentile')"
   ]
  },
  {
   "cell_type": "markdown",
   "id": "dfe6f558",
   "metadata": {},
   "source": [
    "Question 3: "
   ]
  },
  {
   "cell_type": "markdown",
   "id": "b82332c3",
   "metadata": {},
   "source": [
    "A marketing website has an average click-through rate of 2%. One day they observe 4326 visitors and 97 click-throughs. How likely is it that this many people or more click through?"
   ]
  },
  {
   "cell_type": "code",
   "execution_count": 69,
   "id": "af0b66bb",
   "metadata": {},
   "outputs": [
    {
     "data": {
      "text/plain": [
       "86.52"
      ]
     },
     "execution_count": 69,
     "metadata": {},
     "output_type": "execute_result"
    }
   ],
   "source": [
    "4326*.02"
   ]
  },
  {
   "cell_type": "code",
   "execution_count": 1,
   "id": "817cb70f",
   "metadata": {},
   "outputs": [
    {
     "data": {
      "text/plain": [
       "0.022422561257512713"
      ]
     },
     "execution_count": 1,
     "metadata": {},
     "output_type": "execute_result"
    }
   ],
   "source": [
    "97/4326"
   ]
  },
  {
   "cell_type": "code",
   "execution_count": 8,
   "id": "74da2dbc",
   "metadata": {},
   "outputs": [
    {
     "data": {
      "text/plain": [
       "nan"
      ]
     },
     "execution_count": 8,
     "metadata": {},
     "output_type": "execute_result"
    }
   ],
   "source": [
    "stats.poisson(4326, .02).isf(97)"
   ]
  },
  {
   "cell_type": "markdown",
   "id": "002cb9f2",
   "metadata": {},
   "source": [
    "You are working on some statistics homework consisting of 100 questions where all of the answers are a probability rounded to the hundreths place. Looking to save time, you put down random probabilities as the answer to each question"
   ]
  },
  {
   "cell_type": "markdown",
   "id": "dd0db2b3",
   "metadata": {},
   "source": [
    "What is the probability that at least one of your first 60 answers is correct?"
   ]
  },
  {
   "cell_type": "code",
   "execution_count": 61,
   "id": "fbb4bfba",
   "metadata": {},
   "outputs": [
    {
     "data": {
      "text/plain": [
       "0.45284335760923855"
      ]
     },
     "execution_count": 61,
     "metadata": {},
     "output_type": "execute_result"
    }
   ],
   "source": [
    "n = 60\n",
    "p = 0.01\n",
    "\n",
    "stats.binom(n, p).sf(0)"
   ]
  },
  {
   "cell_type": "markdown",
   "id": "6e2f21dc",
   "metadata": {},
   "source": [
    "The codeup staff tends to get upset when the student break area is not cleaned up. Suppose that there's a 3% chance that any one student cleans the break area when they visit it, and, on any given day, about 90% of the 3 active cohorts of 22 students visit the break area. How likely is it that the break area gets cleaned up each day? How likely is it that it goes two days without getting cleaned up? All week?"
   ]
  },
  {
   "cell_type": "code",
   "execution_count": 62,
   "id": "19609abb",
   "metadata": {},
   "outputs": [
    {
     "data": {
      "text/plain": [
       "0.8342199288437352"
      ]
     },
     "execution_count": 62,
     "metadata": {},
     "output_type": "execute_result"
    }
   ],
   "source": [
    "p = .03\n",
    "n = round(.9 * 3 * 22)\n",
    "stats.binom(n, p).sf(0)"
   ]
  },
  {
   "cell_type": "markdown",
   "id": "ebb2d7c2",
   "metadata": {},
   "source": [
    "How likely is it that it goes two days without getting cleaned up?"
   ]
  },
  {
   "cell_type": "code",
   "execution_count": 63,
   "id": "898452d8",
   "metadata": {},
   "outputs": [
    {
     "data": {
      "text/plain": [
       "0.027483031992576134"
      ]
     },
     "execution_count": 63,
     "metadata": {},
     "output_type": "execute_result"
    }
   ],
   "source": [
    "stats.binom(n*2, p).pmf(0)"
   ]
  },
  {
   "cell_type": "markdown",
   "id": "227b0c2f",
   "metadata": {},
   "source": [
    "All week?"
   ]
  },
  {
   "cell_type": "code",
   "execution_count": 65,
   "id": "52ba9a69",
   "metadata": {},
   "outputs": [
    {
     "data": {
      "text/plain": [
       "0.00012521651388091245"
      ]
     },
     "execution_count": 65,
     "metadata": {},
     "output_type": "execute_result"
    }
   ],
   "source": [
    "stats.binom(n*5, p).pmf(0)"
   ]
  },
  {
   "cell_type": "markdown",
   "id": "2c8eb8aa",
   "metadata": {},
   "source": [
    "You want to get lunch at La Panaderia, but notice that the line is usually very long at lunchtime. After several weeks of careful observation, you notice that the average number of people in line when your lunch break starts is normally distributed with a mean of 15 and standard deviation of 3. If it takes 2 minutes for each person to order, and 10 minutes from ordering to getting your food, what is the likelihood that you have at least 15 minutes left to eat your food before you have to go back to class? Assume you have one hour for lunch, and ignore travel time to and from La Panaderia."
   ]
  },
  {
   "cell_type": "code",
   "execution_count": 49,
   "id": "d7d97c4a",
   "metadata": {},
   "outputs": [],
   "source": [
    "mean1 = 30 \n",
    "std1 = 6 \n",
    "line = stats.norm(mean1, std1)"
   ]
  },
  {
   "cell_type": "code",
   "execution_count": 66,
   "id": "ad017b1a",
   "metadata": {},
   "outputs": [
    {
     "data": {
      "text/plain": [
       "0.6914624612740131"
      ]
     },
     "execution_count": 66,
     "metadata": {},
     "output_type": "execute_result"
    }
   ],
   "source": [
    "line.cdf(33)"
   ]
  },
  {
   "cell_type": "code",
   "execution_count": 5,
   "id": "31b4fbf8",
   "metadata": {},
   "outputs": [],
   "source": [
    "import pandas as pd"
   ]
  },
  {
   "cell_type": "code",
   "execution_count": 6,
   "id": "f5d17d0c",
   "metadata": {},
   "outputs": [],
   "source": [
    "from env import get_db_url"
   ]
  },
  {
   "cell_type": "code",
   "execution_count": 16,
   "id": "acc9574f",
   "metadata": {},
   "outputs": [],
   "source": [
    "sql_query = '''\n",
    "SELECT *\n",
    "FROM employees.salaries\n",
    "WHERE employees.salaries.to_date > CURDATE();\n",
    "'''"
   ]
  },
  {
   "cell_type": "code",
   "execution_count": 18,
   "id": "59c5a3c5",
   "metadata": {},
   "outputs": [],
   "source": [
    "sqldf = pd.read_sql(sql_query, get_db_url(\"employees\"))"
   ]
  },
  {
   "cell_type": "code",
   "execution_count": 19,
   "id": "6e2b09fd",
   "metadata": {},
   "outputs": [
    {
     "data": {
      "text/html": [
       "<div>\n",
       "<style scoped>\n",
       "    .dataframe tbody tr th:only-of-type {\n",
       "        vertical-align: middle;\n",
       "    }\n",
       "\n",
       "    .dataframe tbody tr th {\n",
       "        vertical-align: top;\n",
       "    }\n",
       "\n",
       "    .dataframe thead th {\n",
       "        text-align: right;\n",
       "    }\n",
       "</style>\n",
       "<table border=\"1\" class=\"dataframe\">\n",
       "  <thead>\n",
       "    <tr style=\"text-align: right;\">\n",
       "      <th></th>\n",
       "      <th>emp_no</th>\n",
       "      <th>salary</th>\n",
       "      <th>from_date</th>\n",
       "      <th>to_date</th>\n",
       "    </tr>\n",
       "  </thead>\n",
       "  <tbody>\n",
       "    <tr>\n",
       "      <th>0</th>\n",
       "      <td>10001</td>\n",
       "      <td>88958</td>\n",
       "      <td>2002-06-22</td>\n",
       "      <td>9999-01-01</td>\n",
       "    </tr>\n",
       "    <tr>\n",
       "      <th>1</th>\n",
       "      <td>10002</td>\n",
       "      <td>72527</td>\n",
       "      <td>2001-08-02</td>\n",
       "      <td>9999-01-01</td>\n",
       "    </tr>\n",
       "    <tr>\n",
       "      <th>2</th>\n",
       "      <td>10003</td>\n",
       "      <td>43311</td>\n",
       "      <td>2001-12-01</td>\n",
       "      <td>9999-01-01</td>\n",
       "    </tr>\n",
       "    <tr>\n",
       "      <th>3</th>\n",
       "      <td>10004</td>\n",
       "      <td>74057</td>\n",
       "      <td>2001-11-27</td>\n",
       "      <td>9999-01-01</td>\n",
       "    </tr>\n",
       "    <tr>\n",
       "      <th>4</th>\n",
       "      <td>10005</td>\n",
       "      <td>94692</td>\n",
       "      <td>2001-09-09</td>\n",
       "      <td>9999-01-01</td>\n",
       "    </tr>\n",
       "  </tbody>\n",
       "</table>\n",
       "</div>"
      ],
      "text/plain": [
       "   emp_no  salary   from_date     to_date\n",
       "0   10001   88958  2002-06-22  9999-01-01\n",
       "1   10002   72527  2001-08-02  9999-01-01\n",
       "2   10003   43311  2001-12-01  9999-01-01\n",
       "3   10004   74057  2001-11-27  9999-01-01\n",
       "4   10005   94692  2001-09-09  9999-01-01"
      ]
     },
     "execution_count": 19,
     "metadata": {},
     "output_type": "execute_result"
    }
   ],
   "source": [
    "sqldf.head()"
   ]
  },
  {
   "cell_type": "markdown",
   "id": "5c3575e4",
   "metadata": {},
   "source": [
    "Connect to the employees database and find the average salary of current employees, along with the standard deviation. For the following questions, calculate the answer based on modeling the employees salaries with a normal distribution defined by the calculated mean and standard deviation then compare this answer to the actual values present in the salaries dataset."
   ]
  },
  {
   "cell_type": "code",
   "execution_count": 21,
   "id": "d854b4ab",
   "metadata": {},
   "outputs": [],
   "source": [
    "salary = sqldf['salary']"
   ]
  },
  {
   "cell_type": "code",
   "execution_count": 70,
   "id": "dddc5b03",
   "metadata": {},
   "outputs": [
    {
     "data": {
      "text/plain": [
       "72012.23585730705"
      ]
     },
     "execution_count": 70,
     "metadata": {},
     "output_type": "execute_result"
    }
   ],
   "source": [
    "mean = salary.mean()\n",
    "mean"
   ]
  },
  {
   "cell_type": "code",
   "execution_count": 71,
   "id": "2f62c77b",
   "metadata": {},
   "outputs": [
    {
     "data": {
      "text/plain": [
       "17309.99538025198"
      ]
     },
     "execution_count": 71,
     "metadata": {},
     "output_type": "execute_result"
    }
   ],
   "source": [
    "std = salary.std()\n",
    "std"
   ]
  },
  {
   "cell_type": "code",
   "execution_count": 32,
   "id": "8a26412f",
   "metadata": {},
   "outputs": [],
   "source": [
    "salaries = stats.norm(mean, std)"
   ]
  },
  {
   "cell_type": "markdown",
   "id": "8c304955",
   "metadata": {},
   "source": [
    "What percent of employees earn less than 60,000?"
   ]
  },
  {
   "cell_type": "code",
   "execution_count": 40,
   "id": "bb2e074b",
   "metadata": {},
   "outputs": [
    {
     "data": {
      "text/plain": [
       "0.24385742480214423"
      ]
     },
     "execution_count": 40,
     "metadata": {},
     "output_type": "execute_result"
    }
   ],
   "source": [
    "less_60k = salaries.cdf(60000)\n",
    "less_60k"
   ]
  },
  {
   "cell_type": "markdown",
   "id": "5c7506e1",
   "metadata": {},
   "source": [
    "What percent of employees earn more than 95,000?"
   ]
  },
  {
   "cell_type": "code",
   "execution_count": 41,
   "id": "b72c4f10",
   "metadata": {},
   "outputs": [
    {
     "data": {
      "text/plain": [
       "0.09208819199804053"
      ]
     },
     "execution_count": 41,
     "metadata": {},
     "output_type": "execute_result"
    }
   ],
   "source": [
    "percent_more_95k = salaries.sf(95000)\n",
    "percent_more_95k"
   ]
  },
  {
   "cell_type": "markdown",
   "id": "a21c25e7",
   "metadata": {},
   "source": [
    "What percent of employees earn between 65,000 and 80,000?"
   ]
  },
  {
   "cell_type": "code",
   "execution_count": 42,
   "id": "57a9c675",
   "metadata": {},
   "outputs": [
    {
     "data": {
      "text/plain": [
       "0.34270292195065144"
      ]
     },
     "execution_count": 42,
     "metadata": {},
     "output_type": "execute_result"
    }
   ],
   "source": [
    "less_65k = salaries.cdf(65000) \n",
    "less_65k"
   ]
  },
  {
   "cell_type": "code",
   "execution_count": 43,
   "id": "92d69db3",
   "metadata": {},
   "outputs": [
    {
     "data": {
      "text/plain": [
       "0.677763490495318"
      ]
     },
     "execution_count": 43,
     "metadata": {},
     "output_type": "execute_result"
    }
   ],
   "source": [
    "less_80k = salaries.cdf(80000)\n",
    "less_80k"
   ]
  },
  {
   "cell_type": "code",
   "execution_count": 45,
   "id": "c54182f1",
   "metadata": {},
   "outputs": [
    {
     "data": {
      "text/plain": [
       "0.3350605685446666"
      ]
     },
     "execution_count": 45,
     "metadata": {},
     "output_type": "execute_result"
    }
   ],
   "source": [
    "one = less_80k - less_65k\n",
    "one"
   ]
  },
  {
   "cell_type": "markdown",
   "id": "be4776c6",
   "metadata": {},
   "source": [
    "What do the top 5% of employees make?"
   ]
  },
  {
   "cell_type": "code",
   "execution_count": 72,
   "id": "7dcfd7ad",
   "metadata": {},
   "outputs": [
    {
     "data": {
      "text/plain": [
       "100484.64454102777"
      ]
     },
     "execution_count": 72,
     "metadata": {},
     "output_type": "execute_result"
    }
   ],
   "source": [
    "stats.norm(mean, std).isf(.05)"
   ]
  },
  {
   "cell_type": "code",
   "execution_count": null,
   "id": "d03db223",
   "metadata": {},
   "outputs": [],
   "source": []
  }
 ],
 "metadata": {
  "kernelspec": {
   "display_name": "Python 3 (ipykernel)",
   "language": "python",
   "name": "python3"
  },
  "language_info": {
   "codemirror_mode": {
    "name": "ipython",
    "version": 3
   },
   "file_extension": ".py",
   "mimetype": "text/x-python",
   "name": "python",
   "nbconvert_exporter": "python",
   "pygments_lexer": "ipython3",
   "version": "3.9.7"
  }
 },
 "nbformat": 4,
 "nbformat_minor": 5
}
